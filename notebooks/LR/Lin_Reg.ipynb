{
 "cells": [
  {
   "cell_type": "code",
   "execution_count": 5,
   "metadata": {},
   "outputs": [],
   "source": [
    "from sklearn.model_selection import train_test_split\n",
    "from sklearn import preprocessing, svm\n",
    "from sklearn.linear_model import LinearRegression\n",
    "from sklearn.preprocessing import StandardScaler\n",
    "from sklearn.preprocessing import MinMaxScaler\n",
    "from sklearn import metrics"
   ]
  },
  {
   "cell_type": "code",
   "execution_count": 10,
   "metadata": {},
   "outputs": [],
   "source": [
    "import pandas as pd\n",
    "import numpy as np\n",
    "import matplotlib.pyplot as plt\n",
    "%matplotlib inline\n",
    "\n",
    "import seaborn as sb"
   ]
  },
  {
   "cell_type": "code",
   "execution_count": 7,
   "metadata": {},
   "outputs": [],
   "source": [
    "dataset = pd.read_csv('AAPL55_Train.csv')\n",
    "trainset = pd.read_csv('AAPL55_Test.csv')"
   ]
  },
  {
   "cell_type": "code",
   "execution_count": 8,
   "metadata": {},
   "outputs": [
    {
     "data": {
      "text/plain": [
       "(1640, 7)"
      ]
     },
     "execution_count": 8,
     "metadata": {},
     "output_type": "execute_result"
    }
   ],
   "source": [
    "dataset.shape"
   ]
  },
  {
   "cell_type": "code",
   "execution_count": 9,
   "metadata": {},
   "outputs": [
    {
     "data": {
      "text/html": [
       "<div>\n",
       "<style scoped>\n",
       "    .dataframe tbody tr th:only-of-type {\n",
       "        vertical-align: middle;\n",
       "    }\n",
       "\n",
       "    .dataframe tbody tr th {\n",
       "        vertical-align: top;\n",
       "    }\n",
       "\n",
       "    .dataframe thead th {\n",
       "        text-align: right;\n",
       "    }\n",
       "</style>\n",
       "<table border=\"1\" class=\"dataframe\">\n",
       "  <thead>\n",
       "    <tr style=\"text-align: right;\">\n",
       "      <th></th>\n",
       "      <th>Date</th>\n",
       "      <th>High</th>\n",
       "      <th>Low</th>\n",
       "      <th>Open</th>\n",
       "      <th>Close</th>\n",
       "      <th>Volume</th>\n",
       "      <th>Adj Close</th>\n",
       "    </tr>\n",
       "  </thead>\n",
       "  <tbody>\n",
       "    <tr>\n",
       "      <th>0</th>\n",
       "      <td>2010-06-29</td>\n",
       "      <td>9.442500</td>\n",
       "      <td>9.082143</td>\n",
       "      <td>9.432858</td>\n",
       "      <td>9.148929</td>\n",
       "      <td>1.133345e+09</td>\n",
       "      <td>7.828238</td>\n",
       "    </tr>\n",
       "    <tr>\n",
       "      <th>1</th>\n",
       "      <td>2010-06-30</td>\n",
       "      <td>9.213214</td>\n",
       "      <td>8.928928</td>\n",
       "      <td>9.168214</td>\n",
       "      <td>8.983214</td>\n",
       "      <td>7.394520e+08</td>\n",
       "      <td>7.686444</td>\n",
       "    </tr>\n",
       "    <tr>\n",
       "      <th>2</th>\n",
       "      <td>2010-07-01</td>\n",
       "      <td>9.100000</td>\n",
       "      <td>8.686429</td>\n",
       "      <td>9.082143</td>\n",
       "      <td>8.874286</td>\n",
       "      <td>1.022896e+09</td>\n",
       "      <td>7.593241</td>\n",
       "    </tr>\n",
       "    <tr>\n",
       "      <th>3</th>\n",
       "      <td>2010-07-02</td>\n",
       "      <td>8.961785</td>\n",
       "      <td>8.685715</td>\n",
       "      <td>8.946072</td>\n",
       "      <td>8.819285</td>\n",
       "      <td>6.938428e+08</td>\n",
       "      <td>7.546182</td>\n",
       "    </tr>\n",
       "    <tr>\n",
       "      <th>4</th>\n",
       "      <td>2010-07-06</td>\n",
       "      <td>9.028571</td>\n",
       "      <td>8.791429</td>\n",
       "      <td>8.964286</td>\n",
       "      <td>8.879642</td>\n",
       "      <td>6.152356e+08</td>\n",
       "      <td>7.597826</td>\n",
       "    </tr>\n",
       "  </tbody>\n",
       "</table>\n",
       "</div>"
      ],
      "text/plain": [
       "         Date      High       Low      Open     Close        Volume  Adj Close\n",
       "0  2010-06-29  9.442500  9.082143  9.432858  9.148929  1.133345e+09   7.828238\n",
       "1  2010-06-30  9.213214  8.928928  9.168214  8.983214  7.394520e+08   7.686444\n",
       "2  2010-07-01  9.100000  8.686429  9.082143  8.874286  1.022896e+09   7.593241\n",
       "3  2010-07-02  8.961785  8.685715  8.946072  8.819285  6.938428e+08   7.546182\n",
       "4  2010-07-06  9.028571  8.791429  8.964286  8.879642  6.152356e+08   7.597826"
      ]
     },
     "execution_count": 9,
     "metadata": {},
     "output_type": "execute_result"
    }
   ],
   "source": [
    "dataset.head()"
   ]
  },
  {
   "cell_type": "code",
   "execution_count": 9,
   "metadata": {},
   "outputs": [
    {
     "data": {
      "text/html": [
       "<div>\n",
       "<style scoped>\n",
       "    .dataframe tbody tr th:only-of-type {\n",
       "        vertical-align: middle;\n",
       "    }\n",
       "\n",
       "    .dataframe tbody tr th {\n",
       "        vertical-align: top;\n",
       "    }\n",
       "\n",
       "    .dataframe thead th {\n",
       "        text-align: right;\n",
       "    }\n",
       "</style>\n",
       "<table border=\"1\" class=\"dataframe\">\n",
       "  <thead>\n",
       "    <tr style=\"text-align: right;\">\n",
       "      <th></th>\n",
       "      <th>High</th>\n",
       "      <th>Low</th>\n",
       "      <th>Open</th>\n",
       "      <th>Close</th>\n",
       "      <th>Volume</th>\n",
       "      <th>Adj Close</th>\n",
       "    </tr>\n",
       "  </thead>\n",
       "  <tbody>\n",
       "    <tr>\n",
       "      <th>count</th>\n",
       "      <td>1640.000000</td>\n",
       "      <td>1640.000000</td>\n",
       "      <td>1640.000000</td>\n",
       "      <td>1640.000000</td>\n",
       "      <td>1.640000e+03</td>\n",
       "      <td>1640.000000</td>\n",
       "    </tr>\n",
       "    <tr>\n",
       "      <th>mean</th>\n",
       "      <td>20.900022</td>\n",
       "      <td>20.512600</td>\n",
       "      <td>20.714997</td>\n",
       "      <td>20.708834</td>\n",
       "      <td>3.541431e+08</td>\n",
       "      <td>18.477150</td>\n",
       "    </tr>\n",
       "    <tr>\n",
       "      <th>std</th>\n",
       "      <td>6.626287</td>\n",
       "      <td>6.518764</td>\n",
       "      <td>6.575025</td>\n",
       "      <td>6.572505</td>\n",
       "      <td>2.222061e+08</td>\n",
       "      <td>6.310272</td>\n",
       "    </tr>\n",
       "    <tr>\n",
       "      <th>min</th>\n",
       "      <td>8.664643</td>\n",
       "      <td>8.412857</td>\n",
       "      <td>8.501429</td>\n",
       "      <td>8.568929</td>\n",
       "      <td>4.590360e+07</td>\n",
       "      <td>7.331965</td>\n",
       "    </tr>\n",
       "    <tr>\n",
       "      <th>25%</th>\n",
       "      <td>15.180804</td>\n",
       "      <td>14.959375</td>\n",
       "      <td>15.060625</td>\n",
       "      <td>15.044375</td>\n",
       "      <td>1.881847e+08</td>\n",
       "      <td>13.003341</td>\n",
       "    </tr>\n",
       "    <tr>\n",
       "      <th>50%</th>\n",
       "      <td>20.608214</td>\n",
       "      <td>20.311428</td>\n",
       "      <td>20.505357</td>\n",
       "      <td>20.431965</td>\n",
       "      <td>3.023328e+08</td>\n",
       "      <td>17.721854</td>\n",
       "    </tr>\n",
       "    <tr>\n",
       "      <th>75%</th>\n",
       "      <td>26.826250</td>\n",
       "      <td>26.304375</td>\n",
       "      <td>26.586874</td>\n",
       "      <td>26.501875</td>\n",
       "      <td>4.511206e+08</td>\n",
       "      <td>24.428666</td>\n",
       "    </tr>\n",
       "    <tr>\n",
       "      <th>max</th>\n",
       "      <td>33.634998</td>\n",
       "      <td>32.849998</td>\n",
       "      <td>33.615002</td>\n",
       "      <td>33.250000</td>\n",
       "      <td>1.880998e+09</td>\n",
       "      <td>30.182924</td>\n",
       "    </tr>\n",
       "  </tbody>\n",
       "</table>\n",
       "</div>"
      ],
      "text/plain": [
       "              High          Low         Open        Close        Volume  \\\n",
       "count  1640.000000  1640.000000  1640.000000  1640.000000  1.640000e+03   \n",
       "mean     20.900022    20.512600    20.714997    20.708834  3.541431e+08   \n",
       "std       6.626287     6.518764     6.575025     6.572505  2.222061e+08   \n",
       "min       8.664643     8.412857     8.501429     8.568929  4.590360e+07   \n",
       "25%      15.180804    14.959375    15.060625    15.044375  1.881847e+08   \n",
       "50%      20.608214    20.311428    20.505357    20.431965  3.023328e+08   \n",
       "75%      26.826250    26.304375    26.586874    26.501875  4.511206e+08   \n",
       "max      33.634998    32.849998    33.615002    33.250000  1.880998e+09   \n",
       "\n",
       "         Adj Close  \n",
       "count  1640.000000  \n",
       "mean     18.477150  \n",
       "std       6.310272  \n",
       "min       7.331965  \n",
       "25%      13.003341  \n",
       "50%      17.721854  \n",
       "75%      24.428666  \n",
       "max      30.182924  "
      ]
     },
     "execution_count": 9,
     "metadata": {},
     "output_type": "execute_result"
    }
   ],
   "source": [
    "dataset.describe()"
   ]
  },
  {
   "cell_type": "code",
   "execution_count": 18,
   "metadata": {},
   "outputs": [
    {
     "data": {
      "image/png": "[encoded data removed]",
      "text/plain": [
       "<Figure size 432x288 with 2 Axes>"
      ]
     },
     "metadata": {
      "needs_background": "light"
     },
     "output_type": "display_data"
    }
   ],
   "source": [
    "sb.heatmap(dataset.corr(), cmap=\"YlGnBu\");"
   ]
  },
  {
   "cell_type": "markdown",
   "metadata": {},
   "source": [
    "## Columns 'High','Low','Open','Volume','Adj Close'"
   ]
  },
  {
   "cell_type": "code",
   "execution_count": 19,
   "metadata": {},
   "outputs": [],
   "source": [
    "X = preprocessing.scale(dataset[['High','Low','Close','Volume','Adj Close']].values)\n",
    "y = preprocessing.scale(dataset['Open'].values)\n",
    "X_train,X_test,y_train,y_test = train_test_split(X,y,test_size=0.2,random_state=0)"
   ]
  },
  {
   "cell_type": "code",
   "execution_count": 20,
   "metadata": {},
   "outputs": [
    {
     "name": "stdout",
     "output_type": "stream",
     "text": [
      "X_train: \t(1312, 5)\n",
      "X_test: \t(328, 5)\n",
      "y_train: \t(1312,)\n",
      "y_test: \t(328,)\n"
     ]
    }
   ],
   "source": [
    "## Lets get to know our split data\n",
    "\n",
    "print(f'X_train: \\t{X_train.shape}')\n",
    "print(f'X_test: \\t{X_test.shape}')\n",
    "print(f'y_train: \\t{y_train.shape}')\n",
    "print(f'y_test: \\t{y_test.shape}')"
   ]
  },
  {
   "cell_type": "code",
   "execution_count": 21,
   "metadata": {},
   "outputs": [],
   "source": [
    "from sklearn.feature_selection import SelectKBest\n",
    "from sklearn.feature_selection import f_regression\n",
    "from sklearn.feature_selection import mutual_info_regression"
   ]
  },
  {
   "cell_type": "code",
   "execution_count": 22,
   "metadata": {},
   "outputs": [],
   "source": [
    "k_best = SelectKBest(score_func=mutual_info_regression, k='all')\n",
    "k_best.fit(X,y)\n",
    "X_train_kbest = k_best.transform(X_train)\n",
    "X_train_kbest = k_best.transform(X_test)"
   ]
  },
  {
   "cell_type": "code",
   "execution_count": 23,
   "metadata": {},
   "outputs": [
    {
     "name": "stdout",
     "output_type": "stream",
     "text": [
      "Feature 0: 3.766288\n",
      "Feature 1: 3.674360\n",
      "Feature 2: 3.143239\n",
      "Feature 3: 0.425521\n",
      "Feature 4: 2.919681\n"
     ]
    },
    {
     "data": {
      "image/png": "[encoded data removed]",
      "text/plain": [
       "<Figure size 432x288 with 1 Axes>"
      ]
     },
     "metadata": {
      "needs_background": "light"
     },
     "output_type": "display_data"
    }
   ],
   "source": [
    "for i in range(len(k_best.scores_)):\n",
    "    print('Feature %d: %f' % (i, k_best.scores_[i]))\n",
    "plt.bar([i for i in range(len(k_best.scores_))], k_best.scores_)\n",
    "plt.show()"
   ]
  },
  {
   "cell_type": "markdown",
   "metadata": {},
   "source": [
    "## Almost no difference between 'High' and 'Low' as best features. Pick 'High'"
   ]
  },
  {
   "cell_type": "code",
   "execution_count": 24,
   "metadata": {},
   "outputs": [],
   "source": [
    "x = preprocessing.scale(dataset[['High']].values)\n",
    "#x = dataset[['High','Low','Open','Volume']].values\n",
    "y = preprocessing.scale(dataset['Open'].values)\n",
    "regressor = LinearRegression()"
   ]
  },
  {
   "cell_type": "code",
   "execution_count": 25,
   "metadata": {},
   "outputs": [
    {
     "data": {
      "text/plain": [
       "LinearRegression(copy_X=True, fit_intercept=True, n_jobs=None, normalize=False)"
      ]
     },
     "execution_count": 25,
     "metadata": {},
     "output_type": "execute_result"
    }
   ],
   "source": [
    "x_train,x_test,y_train,y_test = train_test_split(x,y,test_size=0.2,random_state=0)\n",
    "regressor.fit(x_train,y_train)"
   ]
  },
  {
   "cell_type": "code",
   "execution_count": 26,
   "metadata": {},
   "outputs": [
    {
     "name": "stdout",
     "output_type": "stream",
     "text": [
      "Is data split?: True\n"
     ]
    }
   ],
   "source": [
    "print('Is data split?:', len(x_train) + len(x_test) == dataset.shape[0])"
   ]
  },
  {
   "cell_type": "code",
   "execution_count": 27,
   "metadata": {},
   "outputs": [
    {
     "name": "stdout",
     "output_type": "stream",
     "text": [
      "Regressor Intercept: -0.00022907236302111\n",
      "Regressor Coefficients: [0.99911358]\n"
     ]
    }
   ],
   "source": [
    "print(f'Regressor Intercept: {regressor.intercept_}')\n",
    "print(f'Regressor Coefficients: {regressor.coef_}')"
   ]
  },
  {
   "cell_type": "code",
   "execution_count": 28,
   "metadata": {
    "scrolled": true
   },
   "outputs": [],
   "source": [
    "predicted = regressor.predict(x_test)\n",
    "#print(predicted)"
   ]
  },
  {
   "cell_type": "code",
   "execution_count": 29,
   "metadata": {
    "scrolled": true
   },
   "outputs": [
    {
     "name": "stdout",
     "output_type": "stream",
     "text": [
      "       Actual  Predicted\n",
      "0    1.197699   1.181492\n",
      "1    1.126956   1.100045\n",
      "2    0.249940   0.240174\n",
      "3    1.644222   1.617002\n",
      "4    0.493359   0.482843\n",
      "..        ...        ...\n",
      "323  1.355542   1.337974\n",
      "324 -0.760794  -0.741975\n",
      "325  0.459454   0.480526\n",
      "326  0.870605   0.838739\n",
      "327 -1.740013  -1.743946\n",
      "\n",
      "[328 rows x 2 columns]\n"
     ]
    }
   ],
   "source": [
    "dframe = pd.DataFrame({'Actual': y_test.flatten(), 'Predicted': predicted.flatten()})\n",
    "print(dframe)"
   ]
  },
  {
   "cell_type": "code",
   "execution_count": 30,
   "metadata": {},
   "outputs": [
    {
     "data": {
      "text/html": [
       "<div>\n",
       "<style scoped>\n",
       "    .dataframe tbody tr th:only-of-type {\n",
       "        vertical-align: middle;\n",
       "    }\n",
       "\n",
       "    .dataframe tbody tr th {\n",
       "        vertical-align: top;\n",
       "    }\n",
       "\n",
       "    .dataframe thead th {\n",
       "        text-align: right;\n",
       "    }\n",
       "</style>\n",
       "<table border=\"1\" class=\"dataframe\">\n",
       "  <thead>\n",
       "    <tr style=\"text-align: right;\">\n",
       "      <th></th>\n",
       "      <th>Actual</th>\n",
       "      <th>Predicted</th>\n",
       "    </tr>\n",
       "  </thead>\n",
       "  <tbody>\n",
       "    <tr>\n",
       "      <th>0</th>\n",
       "      <td>1.197699</td>\n",
       "      <td>1.181492</td>\n",
       "    </tr>\n",
       "    <tr>\n",
       "      <th>1</th>\n",
       "      <td>1.126956</td>\n",
       "      <td>1.100045</td>\n",
       "    </tr>\n",
       "    <tr>\n",
       "      <th>2</th>\n",
       "      <td>0.249940</td>\n",
       "      <td>0.240174</td>\n",
       "    </tr>\n",
       "    <tr>\n",
       "      <th>3</th>\n",
       "      <td>1.644222</td>\n",
       "      <td>1.617002</td>\n",
       "    </tr>\n",
       "    <tr>\n",
       "      <th>4</th>\n",
       "      <td>0.493359</td>\n",
       "      <td>0.482843</td>\n",
       "    </tr>\n",
       "    <tr>\n",
       "      <th>5</th>\n",
       "      <td>0.636694</td>\n",
       "      <td>0.633238</td>\n",
       "    </tr>\n",
       "    <tr>\n",
       "      <th>6</th>\n",
       "      <td>-0.828169</td>\n",
       "      <td>-0.792394</td>\n",
       "    </tr>\n",
       "    <tr>\n",
       "      <th>7</th>\n",
       "      <td>0.949716</td>\n",
       "      <td>0.948465</td>\n",
       "    </tr>\n",
       "    <tr>\n",
       "      <th>8</th>\n",
       "      <td>0.983186</td>\n",
       "      <td>0.953744</td>\n",
       "    </tr>\n",
       "    <tr>\n",
       "      <th>9</th>\n",
       "      <td>0.355240</td>\n",
       "      <td>0.333094</td>\n",
       "    </tr>\n",
       "  </tbody>\n",
       "</table>\n",
       "</div>"
      ],
      "text/plain": [
       "     Actual  Predicted\n",
       "0  1.197699   1.181492\n",
       "1  1.126956   1.100045\n",
       "2  0.249940   0.240174\n",
       "3  1.644222   1.617002\n",
       "4  0.493359   0.482843\n",
       "5  0.636694   0.633238\n",
       "6 -0.828169  -0.792394\n",
       "7  0.949716   0.948465\n",
       "8  0.983186   0.953744\n",
       "9  0.355240   0.333094"
      ]
     },
     "execution_count": 30,
     "metadata": {},
     "output_type": "execute_result"
    }
   ],
   "source": [
    "dframe.head(10)"
   ]
  },
  {
   "cell_type": "code",
   "execution_count": 31,
   "metadata": {},
   "outputs": [
    {
     "name": "stdout",
     "output_type": "stream",
     "text": [
      "Mean Absolute Error: 0.019396214538422118\n",
      "Mean Squared Error: 0.0006165421366255725\n",
      "Root Mean Square Error: 0.024830266543586933\n"
     ]
    }
   ],
   "source": [
    "print('Mean Absolute Error:', metrics.mean_absolute_error(y_test,predicted))\n",
    "print('Mean Squared Error:', metrics.mean_squared_error(y_test,predicted))\n",
    "print('Root Mean Square Error:', (metrics.mean_squared_error(y_test,predicted))**0.5)"
   ]
  },
  {
   "cell_type": "code",
   "execution_count": 32,
   "metadata": {},
   "outputs": [],
   "source": [
    "graph = dframe.head(20)"
   ]
  },
  {
   "cell_type": "code",
   "execution_count": 33,
   "metadata": {},
   "outputs": [
    {
     "data": {
      "image/png": "[encoded data removed]",
      "text/plain": [
       "<Figure size 432x288 with 1 Axes>"
      ]
     },
     "metadata": {
      "needs_background": "light"
     },
     "output_type": "display_data"
    }
   ],
   "source": [
    "graph.plot(kind='bar');"
   ]
  },
  {
   "cell_type": "code",
   "execution_count": 34,
   "metadata": {},
   "outputs": [
    {
     "name": "stdout",
     "output_type": "stream",
     "text": [
      "Linear Regression Accuracy :  0.9993954461681671\n"
     ]
    }
   ],
   "source": [
    "accuracy = regressor.score(x_test, y_test)\n",
    "print(\"Linear Regression Accuracy : \", accuracy)"
   ]
  },
  {
   "cell_type": "markdown",
   "metadata": {},
   "source": [
    "## Lets get some never before seen data to see how well that holds "
   ]
  },
  {
   "cell_type": "code",
   "execution_count": 35,
   "metadata": {},
   "outputs": [],
   "source": [
    "X_test = preprocessing.scale(trainset[[\"Low\"]].values)\n",
    "y_test = preprocessing.scale(trainset[[\"Open\"]].values)"
   ]
  },
  {
   "cell_type": "code",
   "execution_count": 36,
   "metadata": {},
   "outputs": [
    {
     "name": "stdout",
     "output_type": "stream",
     "text": [
      "Mean Square Error: -0.00022907236302124073\n",
      "Score: 0.9980505400790799\n"
     ]
    }
   ],
   "source": [
    "X_test = preprocessing.scale(trainset[['Low']].values)\n",
    "\n",
    "predicted = regressor.predict(X_test)\n",
    "\n",
    "print(f'Mean Square Error: {np.mean(predicted)}')\n",
    "print(f'Score: {regressor.score(X_test,y_test)}')"
   ]
  },
  {
   "cell_type": "code",
   "execution_count": 37,
   "metadata": {},
   "outputs": [
    {
     "data": {
      "image/png": "[encoded data removed]",
      "text/plain": [
       "<Figure size 720x432 with 1 Axes>"
      ]
     },
     "metadata": {
      "needs_background": "light"
     },
     "output_type": "display_data"
    }
   ],
   "source": [
    "plt.figure(figsize=(10,6))\n",
    "plt.plot(y_test, label = 'AAPL Stock Price',marker='o')\n",
    "plt.plot(predicted,label = 'AAPL Predicted Stock Price', marker='o')\n",
    "plt.title('3 Month Stock Price Prediction',color=\"white\")\n",
    "plt.xlabel('Time (Days in test set)', color=\"white\")\n",
    "plt.ylabel('AAPL Stock Price', color=\"white\")\n",
    "plt.legend()\n",
    "plt.show()"
   ]
  },
  {
   "cell_type": "code",
   "execution_count": null,
   "metadata": {},
   "outputs": [],
   "source": []
  }
 ],
 "metadata": {
  "kernelspec": {
   "display_name": "Python 3",
   "language": "python",
   "name": "python3"
  },
  "language_info": {
   "codemirror_mode": {
    "name": "ipython",
    "version": 3
   },
   "file_extension": ".py",
   "mimetype": "text/x-python",
   "name": "python",
   "nbconvert_exporter": "python",
   "pygments_lexer": "ipython3",
   "version": "3.7.7"
  }
 },
 "nbformat": 4,
 "nbformat_minor": 4
}
