{
 "cells": [
  {
   "cell_type": "code",
   "execution_count": 62,
   "metadata": {},
   "outputs": [],
   "source": [
    "from sklearn.model_selection import train_test_split\n",
    "from sklearn import preprocessing, svm\n",
    "from sklearn.linear_model import LinearRegression\n",
    "from sklearn.preprocessing import StandardScaler\n",
    "from sklearn.preprocessing import MinMaxScaler\n",
    "from sklearn import metrics"
   ]
  },
  {
   "cell_type": "code",
   "execution_count": 119,
   "metadata": {},
   "outputs": [],
   "source": [
    "import pandas as pd\n",
    "import numpy as np\n",
    "import matplotlib.pyplot as plt\n",
    "%matplotlib inline"
   ]
  },
  {
   "cell_type": "code",
   "execution_count": 95,
   "metadata": {},
   "outputs": [],
   "source": [
    "dataset = pd.read_csv('AAPL55_Train.csv')\n",
    "trainset = pd.read_csv('AAPL55_Test.csv')"
   ]
  },
  {
   "cell_type": "code",
   "execution_count": 65,
   "metadata": {},
   "outputs": [
    {
     "data": {
      "text/plain": [
       "(1640, 7)"
      ]
     },
     "execution_count": 65,
     "metadata": {},
     "output_type": "execute_result"
    }
   ],
   "source": [
    "dataset.shape"
   ]
  },
  {
   "cell_type": "code",
   "execution_count": 66,
   "metadata": {},
   "outputs": [
    {
     "data": {
      "text/html": [
       "<div>\n",
       "<style scoped>\n",
       "    .dataframe tbody tr th:only-of-type {\n",
       "        vertical-align: middle;\n",
       "    }\n",
       "\n",
       "    .dataframe tbody tr th {\n",
       "        vertical-align: top;\n",
       "    }\n",
       "\n",
       "    .dataframe thead th {\n",
       "        text-align: right;\n",
       "    }\n",
       "</style>\n",
       "<table border=\"1\" class=\"dataframe\">\n",
       "  <thead>\n",
       "    <tr style=\"text-align: right;\">\n",
       "      <th></th>\n",
       "      <th>Date</th>\n",
       "      <th>High</th>\n",
       "      <th>Low</th>\n",
       "      <th>Open</th>\n",
       "      <th>Close</th>\n",
       "      <th>Volume</th>\n",
       "      <th>Adj Close</th>\n",
       "    </tr>\n",
       "  </thead>\n",
       "  <tbody>\n",
       "    <tr>\n",
       "      <th>0</th>\n",
       "      <td>2010-06-29</td>\n",
       "      <td>9.442500</td>\n",
       "      <td>9.082143</td>\n",
       "      <td>9.432858</td>\n",
       "      <td>9.148929</td>\n",
       "      <td>1.133345e+09</td>\n",
       "      <td>7.828238</td>\n",
       "    </tr>\n",
       "    <tr>\n",
       "      <th>1</th>\n",
       "      <td>2010-06-30</td>\n",
       "      <td>9.213214</td>\n",
       "      <td>8.928928</td>\n",
       "      <td>9.168214</td>\n",
       "      <td>8.983214</td>\n",
       "      <td>7.394520e+08</td>\n",
       "      <td>7.686444</td>\n",
       "    </tr>\n",
       "    <tr>\n",
       "      <th>2</th>\n",
       "      <td>2010-07-01</td>\n",
       "      <td>9.100000</td>\n",
       "      <td>8.686429</td>\n",
       "      <td>9.082143</td>\n",
       "      <td>8.874286</td>\n",
       "      <td>1.022896e+09</td>\n",
       "      <td>7.593241</td>\n",
       "    </tr>\n",
       "    <tr>\n",
       "      <th>3</th>\n",
       "      <td>2010-07-02</td>\n",
       "      <td>8.961785</td>\n",
       "      <td>8.685715</td>\n",
       "      <td>8.946072</td>\n",
       "      <td>8.819285</td>\n",
       "      <td>6.938428e+08</td>\n",
       "      <td>7.546182</td>\n",
       "    </tr>\n",
       "    <tr>\n",
       "      <th>4</th>\n",
       "      <td>2010-07-06</td>\n",
       "      <td>9.028571</td>\n",
       "      <td>8.791429</td>\n",
       "      <td>8.964286</td>\n",
       "      <td>8.879642</td>\n",
       "      <td>6.152356e+08</td>\n",
       "      <td>7.597826</td>\n",
       "    </tr>\n",
       "  </tbody>\n",
       "</table>\n",
       "</div>"
      ],
      "text/plain": [
       "         Date      High       Low      Open     Close        Volume  Adj Close\n",
       "0  2010-06-29  9.442500  9.082143  9.432858  9.148929  1.133345e+09   7.828238\n",
       "1  2010-06-30  9.213214  8.928928  9.168214  8.983214  7.394520e+08   7.686444\n",
       "2  2010-07-01  9.100000  8.686429  9.082143  8.874286  1.022896e+09   7.593241\n",
       "3  2010-07-02  8.961785  8.685715  8.946072  8.819285  6.938428e+08   7.546182\n",
       "4  2010-07-06  9.028571  8.791429  8.964286  8.879642  6.152356e+08   7.597826"
      ]
     },
     "execution_count": 66,
     "metadata": {},
     "output_type": "execute_result"
    }
   ],
   "source": [
    "dataset.head()"
   ]
  },
  {
   "cell_type": "code",
   "execution_count": 67,
   "metadata": {},
   "outputs": [
    {
     "data": {
      "text/html": [
       "<div>\n",
       "<style scoped>\n",
       "    .dataframe tbody tr th:only-of-type {\n",
       "        vertical-align: middle;\n",
       "    }\n",
       "\n",
       "    .dataframe tbody tr th {\n",
       "        vertical-align: top;\n",
       "    }\n",
       "\n",
       "    .dataframe thead th {\n",
       "        text-align: right;\n",
       "    }\n",
       "</style>\n",
       "<table border=\"1\" class=\"dataframe\">\n",
       "  <thead>\n",
       "    <tr style=\"text-align: right;\">\n",
       "      <th></th>\n",
       "      <th>High</th>\n",
       "      <th>Low</th>\n",
       "      <th>Open</th>\n",
       "      <th>Close</th>\n",
       "      <th>Volume</th>\n",
       "      <th>Adj Close</th>\n",
       "    </tr>\n",
       "  </thead>\n",
       "  <tbody>\n",
       "    <tr>\n",
       "      <th>count</th>\n",
       "      <td>1640.000000</td>\n",
       "      <td>1640.000000</td>\n",
       "      <td>1640.000000</td>\n",
       "      <td>1640.000000</td>\n",
       "      <td>1.640000e+03</td>\n",
       "      <td>1640.000000</td>\n",
       "    </tr>\n",
       "    <tr>\n",
       "      <th>mean</th>\n",
       "      <td>20.900022</td>\n",
       "      <td>20.512600</td>\n",
       "      <td>20.714997</td>\n",
       "      <td>20.708834</td>\n",
       "      <td>3.541431e+08</td>\n",
       "      <td>18.477150</td>\n",
       "    </tr>\n",
       "    <tr>\n",
       "      <th>std</th>\n",
       "      <td>6.626287</td>\n",
       "      <td>6.518764</td>\n",
       "      <td>6.575025</td>\n",
       "      <td>6.572505</td>\n",
       "      <td>2.222061e+08</td>\n",
       "      <td>6.310272</td>\n",
       "    </tr>\n",
       "    <tr>\n",
       "      <th>min</th>\n",
       "      <td>8.664643</td>\n",
       "      <td>8.412857</td>\n",
       "      <td>8.501429</td>\n",
       "      <td>8.568929</td>\n",
       "      <td>4.590360e+07</td>\n",
       "      <td>7.331965</td>\n",
       "    </tr>\n",
       "    <tr>\n",
       "      <th>25%</th>\n",
       "      <td>15.180804</td>\n",
       "      <td>14.959375</td>\n",
       "      <td>15.060625</td>\n",
       "      <td>15.044375</td>\n",
       "      <td>1.881847e+08</td>\n",
       "      <td>13.003341</td>\n",
       "    </tr>\n",
       "    <tr>\n",
       "      <th>50%</th>\n",
       "      <td>20.608214</td>\n",
       "      <td>20.311428</td>\n",
       "      <td>20.505357</td>\n",
       "      <td>20.431965</td>\n",
       "      <td>3.023328e+08</td>\n",
       "      <td>17.721854</td>\n",
       "    </tr>\n",
       "    <tr>\n",
       "      <th>75%</th>\n",
       "      <td>26.826250</td>\n",
       "      <td>26.304375</td>\n",
       "      <td>26.586874</td>\n",
       "      <td>26.501875</td>\n",
       "      <td>4.511206e+08</td>\n",
       "      <td>24.428666</td>\n",
       "    </tr>\n",
       "    <tr>\n",
       "      <th>max</th>\n",
       "      <td>33.634998</td>\n",
       "      <td>32.849998</td>\n",
       "      <td>33.615002</td>\n",
       "      <td>33.250000</td>\n",
       "      <td>1.880998e+09</td>\n",
       "      <td>30.182924</td>\n",
       "    </tr>\n",
       "  </tbody>\n",
       "</table>\n",
       "</div>"
      ],
      "text/plain": [
       "              High          Low         Open        Close        Volume  \\\n",
       "count  1640.000000  1640.000000  1640.000000  1640.000000  1.640000e+03   \n",
       "mean     20.900022    20.512600    20.714997    20.708834  3.541431e+08   \n",
       "std       6.626287     6.518764     6.575025     6.572505  2.222061e+08   \n",
       "min       8.664643     8.412857     8.501429     8.568929  4.590360e+07   \n",
       "25%      15.180804    14.959375    15.060625    15.044375  1.881847e+08   \n",
       "50%      20.608214    20.311428    20.505357    20.431965  3.023328e+08   \n",
       "75%      26.826250    26.304375    26.586874    26.501875  4.511206e+08   \n",
       "max      33.634998    32.849998    33.615002    33.250000  1.880998e+09   \n",
       "\n",
       "         Adj Close  \n",
       "count  1640.000000  \n",
       "mean     18.477150  \n",
       "std       6.310272  \n",
       "min       7.331965  \n",
       "25%      13.003341  \n",
       "50%      17.721854  \n",
       "75%      24.428666  \n",
       "max      30.182924  "
      ]
     },
     "execution_count": 67,
     "metadata": {},
     "output_type": "execute_result"
    }
   ],
   "source": [
    "dataset.describe()"
   ]
  },
  {
   "cell_type": "markdown",
   "metadata": {},
   "source": [
    "## Columnes 'High','Low','Open','Volume'"
   ]
  },
  {
   "cell_type": "code",
   "execution_count": 82,
   "metadata": {},
   "outputs": [],
   "source": [
    "x = preprocessing.scale(dataset[['Low']].values)\n",
    "#x = dataset[['High','Low','Open','Volume']].values\n",
    "y = preprocessing.scale(dataset['Open'].values)\n",
    "regressor = LinearRegression()"
   ]
  },
  {
   "cell_type": "code",
   "execution_count": 83,
   "metadata": {},
   "outputs": [
    {
     "data": {
      "text/plain": [
       "LinearRegression(copy_X=True, fit_intercept=True, n_jobs=None, normalize=False)"
      ]
     },
     "execution_count": 83,
     "metadata": {},
     "output_type": "execute_result"
    }
   ],
   "source": [
    "x_train,x_test,y_train,y_test = train_test_split(x,y,test_size=0.2,random_state=0)\n",
    "regressor.fit(x_train,y_train)"
   ]
  },
  {
   "cell_type": "code",
   "execution_count": 84,
   "metadata": {},
   "outputs": [
    {
     "name": "stdout",
     "output_type": "stream",
     "text": [
      "Is data split?: True\n"
     ]
    }
   ],
   "source": [
    "print('Is data split?:', len(x_train) + len(x_test) == dataset.shape[0])"
   ]
  },
  {
   "cell_type": "code",
   "execution_count": 85,
   "metadata": {},
   "outputs": [
    {
     "name": "stdout",
     "output_type": "stream",
     "text": [
      "Regressor Intercept: -0.0005888558677398011\n",
      "Regressor Coefficients: [0.99948267]\n"
     ]
    }
   ],
   "source": [
    "print(f'Regressor Intercept: {regressor.intercept_}')\n",
    "print(f'Regressor Coefficients: {regressor.coef_}')"
   ]
  },
  {
   "cell_type": "code",
   "execution_count": 86,
   "metadata": {
    "scrolled": true
   },
   "outputs": [
    {
     "name": "stdout",
     "output_type": "stream",
     "text": [
      "[ 1.22444436e+00  1.07260739e+00  2.70149845e-01  1.62167453e+00\n",
      "  4.15578327e-01  6.42402506e-01 -8.11003993e-01  9.58729596e-01\n",
      "  9.85186137e-01  3.37961552e-01 -9.48270849e-01  1.04845161e+00\n",
      " -2.23156118e-01  2.93812711e-01  2.67246763e-01 -4.06214965e-01\n",
      " -7.00358081e-01 -1.06105312e+00  1.67612106e+00 -1.44382258e+00\n",
      "  8.41017587e-01 -7.79946518e-01  4.39186197e-01  7.47461360e-01\n",
      " -1.69222841e+00  1.07529137e+00  1.68877421e+00  1.77389500e+00\n",
      " -6.45418487e-01  6.84141180e-01 -1.22620056e+00  3.71319787e-01\n",
      " -2.40355503e-01  1.06072126e+00 -1.17197299e+00  7.84653804e-01\n",
      "  1.31991755e+00 -6.95428342e-01 -4.12075831e-01  1.69874339e+00\n",
      "  4.31517779e-01  1.59120424e-01 -1.24580996e+00  1.22827857e+00\n",
      " -1.95330238e-01  2.68890204e-01 -2.03163059e-01 -8.98754057e-01\n",
      "  9.97455782e-01 -1.46611610e+00  2.38708861e-01 -1.83195999e+00\n",
      " -1.04379888e+00 -1.21743646e+00 -4.90803272e-02  2.24014792e-02\n",
      " -1.33903753e+00  2.83898529e-01  4.67176481e-01  1.53578701e+00\n",
      " -6.61741448e-01  1.10174791e+00 -1.73500776e+00 -1.62739020e-01\n",
      " -5.14341304e-01  1.13012141e+00 -1.47646864e+00  1.72759408e-01\n",
      "  6.97999271e-01  1.85019714e+00 -3.22847022e-01 -9.77206956e-02\n",
      "  1.68110579e+00 -7.76112162e-01  1.62627575e+00  8.81277516e-01\n",
      "  1.28732633e+00  6.45086481e-01 -1.32348130e+00 -9.65963295e-01\n",
      "  1.25703558e+00  1.09220123e-01  1.04883483e+00  8.89532536e-02\n",
      "  5.22006521e-01  1.02122805e+00  1.55419133e+00 -1.25879178e+00\n",
      " -5.13464879e-01 -1.86456590e-01 -2.63634860e-01  1.54793299e-01\n",
      "  1.75333977e-01 -1.82129465e-01 -1.40411056e+00  2.33012397e-01\n",
      " -2.24908967e-01  1.67036960e+00  1.00474069e+00  9.99372740e-01\n",
      "  1.43892994e-01 -1.09243925e+00  9.38791532e-01 -7.98131880e-01\n",
      "  9.11184757e-01  1.00090648e+00 -1.01246745e+00 -2.09188329e-01\n",
      "  1.19108613e+00 -1.77860898e+00 -1.12071702e-01  1.06302173e+00\n",
      " -1.83060593e-01  1.19377010e+00 -1.32342659e+00 -6.73518177e-01\n",
      " -1.78162162e+00 -6.51169947e-01  7.31782046e-02  9.01215579e-01\n",
      " -1.37644908e+00  1.30419720e+00  1.71976379e-02  1.21370846e+00\n",
      " -1.07967669e+00 -1.32873969e+00 -2.86695404e-01  5.93707434e-01\n",
      "  1.73631905e+00 -4.24893388e-01  1.82412382e+00 -1.72082101e+00\n",
      "  8.21846248e-01  1.04691787e+00 -1.67952055e+00  7.04900965e-01\n",
      "  6.20547191e-01 -1.10991259e+00  7.10268916e-01 -1.79679435e+00\n",
      "  1.25051740e+00  1.67113662e+00 -1.40964277e+00  1.27927440e+00\n",
      " -8.17905687e-01 -6.83980271e-01 -1.45713290e+00  1.66806913e+00\n",
      " -1.07447300e+00  8.88562425e-01  9.03132830e-01 -1.60551917e+00\n",
      " -1.49843351e+00 -1.24849408e+00 -1.41156002e+00  1.15849491e+00\n",
      " -1.38258390e+00  6.47770457e-01  4.97083722e-01 -1.20522858e-02\n",
      "  9.24604636e-01 -1.74284073e+00  1.73088214e-01 -3.19012812e-01\n",
      " -1.69091377e+00 -5.03167189e-01 -9.82834021e-01 -4.61772454e-02\n",
      " -1.36363167e+00 -3.04825916e-01 -4.01285225e-01 -1.15198018e-03\n",
      " -5.94094143e-01 -1.20281150e+00 -6.81186596e-01 -1.19273277e+00\n",
      "  6.38951805e-01 -2.66537942e-01  7.99154956e-02  1.67957205e+00\n",
      "  6.26298651e-01  1.69682614e+00 -1.25106851e+00  1.51177903e-01\n",
      "  3.55599148e-01 -7.24693839e-02  1.05496980e+00 -1.04638402e-02\n",
      " -7.59186734e-01 -7.68279341e-01  9.29589079e-01 -7.99501219e-01\n",
      "  1.72711689e+00  1.02007782e+00  1.72750040e+00  4.20781876e-01\n",
      " -4.17717885e-01  8.86645467e-01 -1.30135217e+00 -3.81730378e-01\n",
      " -9.81026469e-01  1.72596666e+00  4.90565537e-01  6.37801279e-01\n",
      "  1.57148470e-01  1.14660877e+00  7.72000650e-01 -1.79827324e+00\n",
      " -1.32967097e+00 -9.57363603e-01 -1.29220471e+00  1.11976872e+00\n",
      " -6.40886514e-02 -1.05338455e+00 -1.33503892e+00 -7.32949298e-01\n",
      "  1.41263721e-01  1.17191479e+00 -8.10401525e-01  1.16654684e+00\n",
      " -8.53400132e-01  1.83984446e+00  5.77220071e-01 -1.25556003e+00\n",
      "  1.47617796e-01  5.37726867e-01 -9.54843884e-01  8.26830691e-01\n",
      " -1.79849234e+00  8.92780143e-01  5.05519158e-01  5.51021034e-02\n",
      " -2.81875072e-01  1.67391457e-01  5.50380021e-01 -1.31970179e+00\n",
      " -8.94317233e-01  1.60161251e-01  1.50089503e+00  8.90096168e-01\n",
      "  1.00205672e+00  5.39644118e-01  6.32816836e-01 -2.70317448e-01\n",
      " -2.62703733e-01 -3.28214973e-01 -4.96046389e-01  7.93089240e-01\n",
      " -1.45663999e+00 -5.26282436e-01  5.09353368e-01  1.68378977e+00\n",
      "  1.63317745e+00 -1.25687467e+00  9.63714038e-01  6.33967070e-01\n",
      "  1.12206948e+00 -2.15487407e-01 -1.57261370e-01  4.80979868e-01\n",
      "  2.96551682e-01  4.75119001e-01  1.16462988e+00  5.58815457e-01\n",
      " -4.98894767e-01  6.91864595e-01  4.46635802e-01  5.11654127e-01\n",
      " -1.19706004e+00  2.25508088e-01 -1.34221442e+00 -2.24593834e-02\n",
      "  4.61425021e-01  7.24455812e-01  1.56607776e+00  1.67573755e+00\n",
      "  2.94634432e-01  1.31378287e+00  1.28425885e+00 -1.26618638e+00\n",
      " -1.21404032e+00  5.31208682e-01 -1.06121737e+00 -4.05119434e-01\n",
      " -4.82900320e-01  5.65333642e-01  5.25679805e-03 -3.45797866e-01\n",
      " -6.58126345e-01 -1.09320612e+00  5.94528862e-01  1.98175123e-01\n",
      "  5.07436409e-01  1.70411134e+00 -1.32315264e+00 -1.35656557e+00\n",
      "  6.94932079e-01 -8.71530791e-01  1.80418546e+00 -2.31920067e-01\n",
      "  1.01470987e+00 -1.33838021e+00 -6.59167171e-01 -7.85752681e-01\n",
      " -9.66237105e-01  5.37562757e-01 -1.23825110e+00 -1.03114588e+00\n",
      "  8.44085072e-01 -5.08878788e-02  1.65234879e+00  1.62407014e-01\n",
      " -1.75039959e+00  1.14009059e+00 -1.79761592e+00 -2.43532394e-01\n",
      "  1.22827857e+00 -1.55512595e+00 -5.75157630e-02  4.45704675e-01\n",
      " -1.10257269e+00  8.77826522e-01  1.51699889e+00  1.36286145e+00\n",
      " -7.39796289e-01  4.83663844e-01  7.80052870e-01 -1.73544597e+00]\n"
     ]
    }
   ],
   "source": [
    "predicted = regressor.predict(x_test)\n",
    "print(predicted)"
   ]
  },
  {
   "cell_type": "code",
   "execution_count": 87,
   "metadata": {
    "scrolled": true
   },
   "outputs": [
    {
     "name": "stdout",
     "output_type": "stream",
     "text": [
      "       Actual  Predicted\n",
      "0    1.197699   1.224444\n",
      "1    1.126956   1.072607\n",
      "2    0.249940   0.270150\n",
      "3    1.644222   1.621675\n",
      "4    0.493359   0.415578\n",
      "..        ...        ...\n",
      "323  1.355542   1.362861\n",
      "324 -0.760794  -0.739796\n",
      "325  0.459454   0.483664\n",
      "326  0.870605   0.780053\n",
      "327 -1.740013  -1.735446\n",
      "\n",
      "[328 rows x 2 columns]\n"
     ]
    }
   ],
   "source": [
    "dframe = pd.DataFrame({'Actual': y_test.flatten(), 'Predicted': predicted.flatten()})\n",
    "print(dframe)"
   ]
  },
  {
   "cell_type": "code",
   "execution_count": 88,
   "metadata": {},
   "outputs": [
    {
     "data": {
      "text/html": [
       "<div>\n",
       "<style scoped>\n",
       "    .dataframe tbody tr th:only-of-type {\n",
       "        vertical-align: middle;\n",
       "    }\n",
       "\n",
       "    .dataframe tbody tr th {\n",
       "        vertical-align: top;\n",
       "    }\n",
       "\n",
       "    .dataframe thead th {\n",
       "        text-align: right;\n",
       "    }\n",
       "</style>\n",
       "<table border=\"1\" class=\"dataframe\">\n",
       "  <thead>\n",
       "    <tr style=\"text-align: right;\">\n",
       "      <th></th>\n",
       "      <th>Actual</th>\n",
       "      <th>Predicted</th>\n",
       "    </tr>\n",
       "  </thead>\n",
       "  <tbody>\n",
       "    <tr>\n",
       "      <th>0</th>\n",
       "      <td>1.197699</td>\n",
       "      <td>1.224444</td>\n",
       "    </tr>\n",
       "    <tr>\n",
       "      <th>1</th>\n",
       "      <td>1.126956</td>\n",
       "      <td>1.072607</td>\n",
       "    </tr>\n",
       "    <tr>\n",
       "      <th>2</th>\n",
       "      <td>0.249940</td>\n",
       "      <td>0.270150</td>\n",
       "    </tr>\n",
       "    <tr>\n",
       "      <th>3</th>\n",
       "      <td>1.644222</td>\n",
       "      <td>1.621675</td>\n",
       "    </tr>\n",
       "    <tr>\n",
       "      <th>4</th>\n",
       "      <td>0.493359</td>\n",
       "      <td>0.415578</td>\n",
       "    </tr>\n",
       "    <tr>\n",
       "      <th>5</th>\n",
       "      <td>0.636694</td>\n",
       "      <td>0.642403</td>\n",
       "    </tr>\n",
       "    <tr>\n",
       "      <th>6</th>\n",
       "      <td>-0.828169</td>\n",
       "      <td>-0.811004</td>\n",
       "    </tr>\n",
       "    <tr>\n",
       "      <th>7</th>\n",
       "      <td>0.949716</td>\n",
       "      <td>0.958730</td>\n",
       "    </tr>\n",
       "    <tr>\n",
       "      <th>8</th>\n",
       "      <td>0.983186</td>\n",
       "      <td>0.985186</td>\n",
       "    </tr>\n",
       "    <tr>\n",
       "      <th>9</th>\n",
       "      <td>0.355240</td>\n",
       "      <td>0.337962</td>\n",
       "    </tr>\n",
       "  </tbody>\n",
       "</table>\n",
       "</div>"
      ],
      "text/plain": [
       "     Actual  Predicted\n",
       "0  1.197699   1.224444\n",
       "1  1.126956   1.072607\n",
       "2  0.249940   0.270150\n",
       "3  1.644222   1.621675\n",
       "4  0.493359   0.415578\n",
       "5  0.636694   0.642403\n",
       "6 -0.828169  -0.811004\n",
       "7  0.949716   0.958730\n",
       "8  0.983186   0.985186\n",
       "9  0.355240   0.337962"
      ]
     },
     "execution_count": 88,
     "metadata": {},
     "output_type": "execute_result"
    }
   ],
   "source": [
    "dframe.head(10)"
   ]
  },
  {
   "cell_type": "code",
   "execution_count": 89,
   "metadata": {},
   "outputs": [
    {
     "name": "stdout",
     "output_type": "stream",
     "text": [
      "Mean Absolute Error: 0.024263860998789882\n",
      "Mean Squared Error: 0.0013352975704744813\n",
      "Root Mean Square Error: 0.036541723693258935\n"
     ]
    }
   ],
   "source": [
    "print('Mean Absolute Error:', metrics.mean_absolute_error(y_test,predicted))\n",
    "print('Mean Squared Error:', metrics.mean_squared_error(y_test,predicted))\n",
    "print('Root Mean Square Error:', (metrics.mean_squared_error(y_test,predicted))**0.5)"
   ]
  },
  {
   "cell_type": "code",
   "execution_count": 90,
   "metadata": {},
   "outputs": [],
   "source": [
    "graph = dframe.head(20)"
   ]
  },
  {
   "cell_type": "code",
   "execution_count": 91,
   "metadata": {},
   "outputs": [
    {
     "data": {
      "image/png": "[encoded data removed]",
      "text/plain": [
       "<Figure size 432x288 with 1 Axes>"
      ]
     },
     "metadata": {
      "needs_background": "light"
     },
     "output_type": "display_data"
    }
   ],
   "source": [
    "graph.plot(kind='bar');"
   ]
  },
  {
   "cell_type": "code",
   "execution_count": 92,
   "metadata": {},
   "outputs": [
    {
     "name": "stdout",
     "output_type": "stream",
     "text": [
      "Linear Regression Accuracy :  0.9986906665174811\n"
     ]
    }
   ],
   "source": [
    "accuracy = regressor.score(x_test, y_test)\n",
    "print(\"Linear Regression Accuracy : \", accuracy)"
   ]
  },
  {
   "cell_type": "markdown",
   "metadata": {},
   "source": [
    "## Lets get some never before seen data to see how well that holds "
   ]
  },
  {
   "cell_type": "code",
   "execution_count": 113,
   "metadata": {},
   "outputs": [
    {
     "name": "stdout",
     "output_type": "stream",
     "text": [
      "          Date       High        Low       Open      Close    Volume  \\\n",
      "0   2017-01-03  44.066002  42.192001  42.972000  43.397999  29616500   \n",
      "1   2017-01-04  45.599998  42.862000  42.950001  45.397999  56067500   \n",
      "2   2017-01-05  45.495998  44.389999  45.284000  45.349998  29558500   \n",
      "3   2017-01-06  46.062000  45.090000  45.386002  45.801998  27639500   \n",
      "4   2017-01-09  46.383999  45.599998  45.793999  46.256001  19897500   \n",
      "..         ...        ...        ...        ...        ...       ...   \n",
      "56  2017-03-24  52.778000  51.001999  51.139999  52.632000  28236500   \n",
      "57  2017-03-27  54.113998  51.950001  52.119999  54.043999  31154000   \n",
      "58  2017-03-28  56.136002  55.000000  55.403999  55.490002  39938000   \n",
      "59  2017-03-29  55.919998  55.108002  55.667999  55.476002  18381000   \n",
      "60  2017-03-30  56.400002  55.442001  55.608002  55.584000  20742000   \n",
      "\n",
      "    Adj Close  \n",
      "0   43.397999  \n",
      "1   45.397999  \n",
      "2   45.349998  \n",
      "3   45.801998  \n",
      "4   46.256001  \n",
      "..        ...  \n",
      "56  52.632000  \n",
      "57  54.043999  \n",
      "58  55.490002  \n",
      "59  55.476002  \n",
      "60  55.584000  \n",
      "\n",
      "[61 rows x 7 columns]\n"
     ]
    }
   ],
   "source": [
    "X_test = preprocessing.scale(trainset[[\"Low\"]].values)\n",
    "y_test = preprocessing.scale(trainset[[\"Open\"]].values)\n",
    "print(time_series_pred)"
   ]
  },
  {
   "cell_type": "code",
   "execution_count": 123,
   "metadata": {},
   "outputs": [
    {
     "name": "stdout",
     "output_type": "stream",
     "text": [
      "Mean Square Error: -0.0005888558677398989\n",
      "Score: 0.9980500440606337\n"
     ]
    }
   ],
   "source": [
    "X_test = preprocessing.scale(trainset[['Low']].values)\n",
    "\n",
    "predicted = regressor.predict(X_test)\n",
    "\n",
    "print(f'Mean Square Error: {np.mean(predicted)}')\n",
    "print(f'Score: {regressor.score(X_test,y_test)}')"
   ]
  },
  {
   "cell_type": "code",
   "execution_count": 117,
   "metadata": {},
   "outputs": [
    {
     "data": {
      "text/plain": [
       "0.9980500440606337"
      ]
     },
     "execution_count": 117,
     "metadata": {},
     "output_type": "execute_result"
    }
   ],
   "source": []
  },
  {
   "cell_type": "code",
   "execution_count": 120,
   "metadata": {},
   "outputs": [
    {
     "data": {
      "image/png": "[encoded data removed]",
      "text/plain": [
       "<Figure size 720x432 with 1 Axes>"
      ]
     },
     "metadata": {
      "needs_background": "light"
     },
     "output_type": "display_data"
    }
   ],
   "source": [
    "plt.figure(figsize=(10,6))\n",
    "plt.plot(y_test, label = 'AAPL Stock Price',marker='o')\n",
    "plt.plot(predicted,label = 'AAPL Predicted Stock Price', marker='o')\n",
    "plt.title('3 Month Stock Price Prediction',color=\"white\")\n",
    "plt.xlabel('Time (Days in test set)', color=\"white\")\n",
    "plt.ylabel('AAPL Stock Price', color=\"white\")\n",
    "plt.legend()\n",
    "plt.show()"
   ]
  },
  {
   "cell_type": "code",
   "execution_count": null,
   "metadata": {},
   "outputs": [],
   "source": []
  }
 ],
 "metadata": {
  "kernelspec": {
   "display_name": "Python 3",
   "language": "python",
   "name": "python3"
  },
  "language_info": {
   "codemirror_mode": {
    "name": "ipython",
    "version": 3
   },
   "file_extension": ".py",
   "mimetype": "text/x-python",
   "name": "python",
   "nbconvert_exporter": "python",
   "pygments_lexer": "ipython3",
   "version": "3.7.7"
  }
 },
 "nbformat": 4,
 "nbformat_minor": 4
}
