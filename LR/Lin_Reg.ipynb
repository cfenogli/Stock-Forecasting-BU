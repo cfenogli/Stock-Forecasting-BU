{
 "cells": [
  {
   "cell_type": "code",
   "execution_count": 73,
   "metadata": {},
   "outputs": [],
   "source": [
    "from sklearn.model_selection import train_test_split\n",
    "from sklearn import preprocessing, svm\n",
    "from sklearn.linear_model import LinearRegression\n",
    "from sklearn import metrics"
   ]
  },
  {
   "cell_type": "code",
   "execution_count": 74,
   "metadata": {},
   "outputs": [],
   "source": [
    "import pandas as pd\n",
    "import numpy as np\n",
    "%matplotlib inline"
   ]
  },
  {
   "cell_type": "code",
   "execution_count": 75,
   "metadata": {},
   "outputs": [],
   "source": [
    "dataset = pd.read_csv('TSLA.csv')"
   ]
  },
  {
   "cell_type": "code",
   "execution_count": 76,
   "metadata": {},
   "outputs": [
    {
     "data": {
      "text/plain": [
       "(1640, 7)"
      ]
     },
     "execution_count": 76,
     "metadata": {},
     "output_type": "execute_result"
    }
   ],
   "source": [
    "dataset.shape"
   ]
  },
  {
   "cell_type": "code",
   "execution_count": 77,
   "metadata": {},
   "outputs": [
    {
     "data": {
      "text/html": [
       "<div>\n",
       "<style scoped>\n",
       "    .dataframe tbody tr th:only-of-type {\n",
       "        vertical-align: middle;\n",
       "    }\n",
       "\n",
       "    .dataframe tbody tr th {\n",
       "        vertical-align: top;\n",
       "    }\n",
       "\n",
       "    .dataframe thead th {\n",
       "        text-align: right;\n",
       "    }\n",
       "</style>\n",
       "<table border=\"1\" class=\"dataframe\">\n",
       "  <thead>\n",
       "    <tr style=\"text-align: right;\">\n",
       "      <th></th>\n",
       "      <th>Date</th>\n",
       "      <th>High</th>\n",
       "      <th>Low</th>\n",
       "      <th>Open</th>\n",
       "      <th>Close</th>\n",
       "      <th>Volume</th>\n",
       "      <th>Adj Close</th>\n",
       "    </tr>\n",
       "  </thead>\n",
       "  <tbody>\n",
       "    <tr>\n",
       "      <th>0</th>\n",
       "      <td>2010-06-29</td>\n",
       "      <td>5.000</td>\n",
       "      <td>3.508</td>\n",
       "      <td>3.800</td>\n",
       "      <td>4.778</td>\n",
       "      <td>93831500</td>\n",
       "      <td>4.778</td>\n",
       "    </tr>\n",
       "    <tr>\n",
       "      <th>1</th>\n",
       "      <td>2010-06-30</td>\n",
       "      <td>6.084</td>\n",
       "      <td>4.660</td>\n",
       "      <td>5.158</td>\n",
       "      <td>4.766</td>\n",
       "      <td>85935500</td>\n",
       "      <td>4.766</td>\n",
       "    </tr>\n",
       "    <tr>\n",
       "      <th>2</th>\n",
       "      <td>2010-07-01</td>\n",
       "      <td>5.184</td>\n",
       "      <td>4.054</td>\n",
       "      <td>5.000</td>\n",
       "      <td>4.392</td>\n",
       "      <td>41094000</td>\n",
       "      <td>4.392</td>\n",
       "    </tr>\n",
       "    <tr>\n",
       "      <th>3</th>\n",
       "      <td>2010-07-02</td>\n",
       "      <td>4.620</td>\n",
       "      <td>3.742</td>\n",
       "      <td>4.600</td>\n",
       "      <td>3.840</td>\n",
       "      <td>25699000</td>\n",
       "      <td>3.840</td>\n",
       "    </tr>\n",
       "    <tr>\n",
       "      <th>4</th>\n",
       "      <td>2010-07-06</td>\n",
       "      <td>4.000</td>\n",
       "      <td>3.166</td>\n",
       "      <td>4.000</td>\n",
       "      <td>3.222</td>\n",
       "      <td>34334500</td>\n",
       "      <td>3.222</td>\n",
       "    </tr>\n",
       "  </tbody>\n",
       "</table>\n",
       "</div>"
      ],
      "text/plain": [
       "         Date   High    Low   Open  Close    Volume  Adj Close\n",
       "0  2010-06-29  5.000  3.508  3.800  4.778  93831500      4.778\n",
       "1  2010-06-30  6.084  4.660  5.158  4.766  85935500      4.766\n",
       "2  2010-07-01  5.184  4.054  5.000  4.392  41094000      4.392\n",
       "3  2010-07-02  4.620  3.742  4.600  3.840  25699000      3.840\n",
       "4  2010-07-06  4.000  3.166  4.000  3.222  34334500      3.222"
      ]
     },
     "execution_count": 77,
     "metadata": {},
     "output_type": "execute_result"
    }
   ],
   "source": [
    "dataset.head()"
   ]
  },
  {
   "cell_type": "code",
   "execution_count": 78,
   "metadata": {},
   "outputs": [
    {
     "data": {
      "text/html": [
       "<div>\n",
       "<style scoped>\n",
       "    .dataframe tbody tr th:only-of-type {\n",
       "        vertical-align: middle;\n",
       "    }\n",
       "\n",
       "    .dataframe tbody tr th {\n",
       "        vertical-align: top;\n",
       "    }\n",
       "\n",
       "    .dataframe thead th {\n",
       "        text-align: right;\n",
       "    }\n",
       "</style>\n",
       "<table border=\"1\" class=\"dataframe\">\n",
       "  <thead>\n",
       "    <tr style=\"text-align: right;\">\n",
       "      <th></th>\n",
       "      <th>High</th>\n",
       "      <th>Low</th>\n",
       "      <th>Open</th>\n",
       "      <th>Close</th>\n",
       "      <th>Volume</th>\n",
       "      <th>Adj Close</th>\n",
       "    </tr>\n",
       "  </thead>\n",
       "  <tbody>\n",
       "    <tr>\n",
       "      <th>count</th>\n",
       "      <td>1640.000000</td>\n",
       "      <td>1640.000000</td>\n",
       "      <td>1640.000000</td>\n",
       "      <td>1640.000000</td>\n",
       "      <td>1.640000e+03</td>\n",
       "      <td>1640.000000</td>\n",
       "    </tr>\n",
       "    <tr>\n",
       "      <th>mean</th>\n",
       "      <td>26.198037</td>\n",
       "      <td>25.252948</td>\n",
       "      <td>25.740117</td>\n",
       "      <td>25.731901</td>\n",
       "      <td>2.118811e+07</td>\n",
       "      <td>25.731901</td>\n",
       "    </tr>\n",
       "    <tr>\n",
       "      <th>std</th>\n",
       "      <td>18.947568</td>\n",
       "      <td>18.368534</td>\n",
       "      <td>18.669071</td>\n",
       "      <td>18.663112</td>\n",
       "      <td>2.169151e+07</td>\n",
       "      <td>18.663112</td>\n",
       "    </tr>\n",
       "    <tr>\n",
       "      <th>min</th>\n",
       "      <td>3.326000</td>\n",
       "      <td>2.996000</td>\n",
       "      <td>3.228000</td>\n",
       "      <td>3.160000</td>\n",
       "      <td>5.925000e+05</td>\n",
       "      <td>3.160000</td>\n",
       "    </tr>\n",
       "    <tr>\n",
       "      <th>25%</th>\n",
       "      <td>6.049500</td>\n",
       "      <td>5.780500</td>\n",
       "      <td>5.948500</td>\n",
       "      <td>5.908000</td>\n",
       "      <td>5.800500e+06</td>\n",
       "      <td>5.908000</td>\n",
       "    </tr>\n",
       "    <tr>\n",
       "      <th>50%</th>\n",
       "      <td>30.071000</td>\n",
       "      <td>28.543000</td>\n",
       "      <td>29.567000</td>\n",
       "      <td>29.485000</td>\n",
       "      <td>1.550400e+07</td>\n",
       "      <td>29.485000</td>\n",
       "    </tr>\n",
       "    <tr>\n",
       "      <th>75%</th>\n",
       "      <td>44.165000</td>\n",
       "      <td>42.721501</td>\n",
       "      <td>43.473501</td>\n",
       "      <td>43.532499</td>\n",
       "      <td>2.810162e+07</td>\n",
       "      <td>43.532499</td>\n",
       "    </tr>\n",
       "    <tr>\n",
       "      <th>max</th>\n",
       "      <td>58.284000</td>\n",
       "      <td>56.080002</td>\n",
       "      <td>57.534000</td>\n",
       "      <td>57.208000</td>\n",
       "      <td>1.858195e+08</td>\n",
       "      <td>57.208000</td>\n",
       "    </tr>\n",
       "  </tbody>\n",
       "</table>\n",
       "</div>"
      ],
      "text/plain": [
       "              High          Low         Open        Close        Volume  \\\n",
       "count  1640.000000  1640.000000  1640.000000  1640.000000  1.640000e+03   \n",
       "mean     26.198037    25.252948    25.740117    25.731901  2.118811e+07   \n",
       "std      18.947568    18.368534    18.669071    18.663112  2.169151e+07   \n",
       "min       3.326000     2.996000     3.228000     3.160000  5.925000e+05   \n",
       "25%       6.049500     5.780500     5.948500     5.908000  5.800500e+06   \n",
       "50%      30.071000    28.543000    29.567000    29.485000  1.550400e+07   \n",
       "75%      44.165000    42.721501    43.473501    43.532499  2.810162e+07   \n",
       "max      58.284000    56.080002    57.534000    57.208000  1.858195e+08   \n",
       "\n",
       "         Adj Close  \n",
       "count  1640.000000  \n",
       "mean     25.731901  \n",
       "std      18.663112  \n",
       "min       3.160000  \n",
       "25%       5.908000  \n",
       "50%      29.485000  \n",
       "75%      43.532499  \n",
       "max      57.208000  "
      ]
     },
     "execution_count": 78,
     "metadata": {},
     "output_type": "execute_result"
    }
   ],
   "source": [
    "dataset.describe()"
   ]
  },
  {
   "cell_type": "code",
   "execution_count": 115,
   "metadata": {},
   "outputs": [],
   "source": [
    "x = preprocessing.scale(dataset[['High','Low','Open','Volume']].values)\n",
    "#x = dataset[['High','Low','Open','Volume']].values\n",
    "y = dataset['Close'].values"
   ]
  },
  {
   "cell_type": "code",
   "execution_count": 116,
   "metadata": {},
   "outputs": [
    {
     "data": {
      "text/plain": [
       "LinearRegression(copy_X=True, fit_intercept=True, n_jobs=None, normalize=False)"
      ]
     },
     "execution_count": 116,
     "metadata": {},
     "output_type": "execute_result"
    }
   ],
   "source": [
    "x_train,x_test,y_train,y_test = train_test_split(x,y,test_size=0.2,random_state=0)\n",
    "regressor.fit(x_train,y_train)"
   ]
  },
  {
   "cell_type": "code",
   "execution_count": 117,
   "metadata": {},
   "outputs": [
    {
     "name": "stdout",
     "output_type": "stream",
     "text": [
      "Is data split?: True\n"
     ]
    }
   ],
   "source": [
    "print('Is data split?:', len(x_train) + len(x_test) == dataset.shape[0])"
   ]
  },
  {
   "cell_type": "code",
   "execution_count": 118,
   "metadata": {},
   "outputs": [
    {
     "name": "stdout",
     "output_type": "stream",
     "text": [
      "Regressor Intercept: 25.732247475458433\n",
      "Regressor Coefficients: [ 15.55938943  13.28120372 -10.17181113  -0.02725897]\n"
     ]
    }
   ],
   "source": [
    "print('Regressor Intercept:',regressor.intercept_)\n",
    "print('Regressor Coefficients:',regressor.coef_)"
   ]
  },
  {
   "cell_type": "code",
   "execution_count": 108,
   "metadata": {},
   "outputs": [
    {
     "name": "stdout",
     "output_type": "stream",
     "text": [
      "[40.90775456 49.35472102 41.72244739 37.96237376  5.8976462  44.63754314\n",
      "  8.97774401 40.53855151 45.36602283 40.79113441  5.69940539 46.36065725\n",
      "  6.06156632  5.69330125  6.11301144  6.88051575  7.22163962  6.65660548\n",
      " 46.54103952  6.94857428 44.76703555 11.19904637 44.05781344 52.73587168\n",
      "  4.27849367 45.81119676 47.22305485 41.99914635 28.89416098  6.04789397\n",
      "  4.92563444 41.35494181 43.35562652 50.44922085  4.89875845 39.88367341\n",
      " 44.07250009 33.273995   36.90759778 50.3954896  34.90691734  6.6437258\n",
      "  4.57352357 41.16139937 29.89579829  5.69201467  7.03873082 24.58596655\n",
      " 45.59397861  4.15399835  6.05125224  4.09998078  5.70091932  5.78346552\n",
      "  5.8323792   7.0139033   4.53705393 41.16709942 50.18088674 51.08769667\n",
      " 30.83419872 50.63598495  4.12247073 35.32081497  6.45855426 49.85860133\n",
      "  4.0871649   6.50838387 41.42047101 54.01800254  6.71809191  6.41924262\n",
      " 41.39187681 20.14656752 52.83087302 43.75831947 41.65629071 51.77071291\n",
      "  5.81734259  9.02205545 49.76226497  6.74589483 50.5913712  37.83417871\n",
      " 50.4019117  42.28754306 38.28132811  5.7737801  37.91804797 35.11078031\n",
      " 45.93756572  5.542721   41.10791347 40.03369149  5.37635328  6.97904124\n",
      " 24.84735429 48.15129439 39.36910513 46.67553118 39.17656524  4.5857658\n",
      " 37.39725096 19.24415367 36.71288064 50.28753199  5.75611261  7.08931707\n",
      " 40.4147001   3.07105227 30.04580319 43.65182724  5.90674482 39.49245768\n",
      "  5.59305389 16.94062153  3.83744636 13.84104202  5.67922683 46.90598362\n",
      "  6.2500599  46.7974859   6.17288218 52.53573037  5.08053528  5.72694081\n",
      " 49.29625359 45.6588482  53.15634701  6.69890005 49.74259336  4.13032597\n",
      " 44.47862357 49.72586499  4.33366843 38.53108117 45.31392311  4.64132706\n",
      " 52.39111565  3.59774696 51.31432891 39.36924801  6.35577322 42.74901114\n",
      "  7.82662649  7.16262921  4.16533527 40.12849459  6.52650503 39.47360247\n",
      " 40.85425323  4.09103429  4.23431882  5.53832508  4.91261149 42.37969108\n",
      "  6.4894965  46.29804979 44.20152116  6.75478609 45.92079368  4.27774257\n",
      "  7.85643867  6.56128659  4.12284946 35.93421269  5.08092678 30.72157963\n",
      "  5.59916882 34.50427747 29.46269608  6.2936739  36.77683479  4.62549561\n",
      "  7.33569793  4.71844611 51.74076873  6.68293895  6.95229048 48.81315971\n",
      " 49.54123537 43.86400253  5.58675948 39.5985624  46.49368242  6.0188058\n",
      " 41.98970453 39.19457395  7.66431085 17.41999663 44.04093209 20.27263214\n",
      " 50.55415603 48.06632185 52.95614514  5.80594994 30.97185413 46.51232646\n",
      "  4.85368791  7.18689991  6.32661654 51.8229209  43.81754792 47.51843491\n",
      "  6.640345   44.37424638 54.0554632   3.35558569  4.96192157  5.6850218\n",
      "  4.67870887 46.62325847 28.83297038  6.23459794  5.20858443  7.03354647\n",
      "  5.17200574 42.00432034  5.43811003 38.56732665  4.83006648 49.71462441\n",
      " 45.21138912  5.46664347  6.99513169 33.43220436  5.56040191 46.77958241\n",
      "  3.51486533 48.11140513 36.80806992  6.62180836 46.25686711  7.06931228\n",
      " 45.5388359   4.8075861   5.24715826  6.31626909 51.90565365 45.42349979\n",
      " 47.68224923 56.09865527 45.52777679 33.76207595 43.13586856 31.48620881\n",
      " 37.62157291 46.1487183   4.43859296 37.96977937 40.2616636  40.68565756\n",
      " 41.63653001  4.78527417 46.03734781 44.92577871 50.90980057 41.25059126\n",
      " 33.91101175 31.73214498 47.49228782  5.61938955 50.27319204 45.07143052\n",
      "  6.79584256 51.17543818  5.67149049 45.48522278  4.88380943 42.42058784\n",
      "  5.37537648  5.65660556 29.49536382 41.42725865 36.67766654 55.35320105\n",
      " 41.27464098 41.9628938  40.32760183  5.46609707  5.63876974 35.38952665\n",
      "  4.84420154 33.4515549  33.2149753  45.83832219  6.70845231 37.6189367\n",
      " 11.65863994  6.64149279  6.12895615  5.51530207 43.41102778 53.3579363\n",
      "  5.54387417  5.17800818 50.99382682 23.55978734 50.0403645   6.67142665\n",
      " 45.28796112  4.62223474  7.87697663 17.9733116   5.29776419  5.6507848\n",
      "  4.82408464  4.84226915 36.17201107  6.3472342  39.44200379  6.29067951\n",
      "  3.98465471 40.48628634  4.09575331  6.8229725  42.65980126  3.98434391\n",
      " 40.48919024 32.51071449  4.74750273 45.20152836 38.25110109 43.49578234\n",
      " 20.66527754 44.13659533 44.40774748  3.94323555]\n"
     ]
    }
   ],
   "source": [
    "predicted = regressor.predict(x_test)\n",
    "print(predicted)"
   ]
  },
  {
   "cell_type": "code",
   "execution_count": 109,
   "metadata": {},
   "outputs": [],
   "source": [
    "dframe = pd.DataFrame({'Actual': y_test.flatten(), 'Predicted': predicted.flatten()})"
   ]
  },
  {
   "cell_type": "code",
   "execution_count": 110,
   "metadata": {},
   "outputs": [
    {
     "data": {
      "text/html": [
       "<div>\n",
       "<style scoped>\n",
       "    .dataframe tbody tr th:only-of-type {\n",
       "        vertical-align: middle;\n",
       "    }\n",
       "\n",
       "    .dataframe tbody tr th {\n",
       "        vertical-align: top;\n",
       "    }\n",
       "\n",
       "    .dataframe thead th {\n",
       "        text-align: right;\n",
       "    }\n",
       "</style>\n",
       "<table border=\"1\" class=\"dataframe\">\n",
       "  <thead>\n",
       "    <tr style=\"text-align: right;\">\n",
       "      <th></th>\n",
       "      <th>Actual</th>\n",
       "      <th>Predicted</th>\n",
       "    </tr>\n",
       "  </thead>\n",
       "  <tbody>\n",
       "    <tr>\n",
       "      <th>0</th>\n",
       "      <td>41.285999</td>\n",
       "      <td>40.907755</td>\n",
       "    </tr>\n",
       "    <tr>\n",
       "      <th>1</th>\n",
       "      <td>49.113998</td>\n",
       "      <td>49.354721</td>\n",
       "    </tr>\n",
       "    <tr>\n",
       "      <th>2</th>\n",
       "      <td>42.048000</td>\n",
       "      <td>41.722447</td>\n",
       "    </tr>\n",
       "    <tr>\n",
       "      <th>3</th>\n",
       "      <td>37.754002</td>\n",
       "      <td>37.962374</td>\n",
       "    </tr>\n",
       "    <tr>\n",
       "      <th>4</th>\n",
       "      <td>5.822000</td>\n",
       "      <td>5.897646</td>\n",
       "    </tr>\n",
       "    <tr>\n",
       "      <th>5</th>\n",
       "      <td>44.646000</td>\n",
       "      <td>44.637543</td>\n",
       "    </tr>\n",
       "    <tr>\n",
       "      <th>6</th>\n",
       "      <td>8.868000</td>\n",
       "      <td>8.977744</td>\n",
       "    </tr>\n",
       "    <tr>\n",
       "      <th>7</th>\n",
       "      <td>40.341999</td>\n",
       "      <td>40.538552</td>\n",
       "    </tr>\n",
       "    <tr>\n",
       "      <th>8</th>\n",
       "      <td>45.130001</td>\n",
       "      <td>45.366023</td>\n",
       "    </tr>\n",
       "    <tr>\n",
       "      <th>9</th>\n",
       "      <td>41.284000</td>\n",
       "      <td>40.791134</td>\n",
       "    </tr>\n",
       "  </tbody>\n",
       "</table>\n",
       "</div>"
      ],
      "text/plain": [
       "      Actual  Predicted\n",
       "0  41.285999  40.907755\n",
       "1  49.113998  49.354721\n",
       "2  42.048000  41.722447\n",
       "3  37.754002  37.962374\n",
       "4   5.822000   5.897646\n",
       "5  44.646000  44.637543\n",
       "6   8.868000   8.977744\n",
       "7  40.341999  40.538552\n",
       "8  45.130001  45.366023\n",
       "9  41.284000  40.791134"
      ]
     },
     "execution_count": 110,
     "metadata": {},
     "output_type": "execute_result"
    }
   ],
   "source": [
    "dframe.head(10)"
   ]
  },
  {
   "cell_type": "code",
   "execution_count": 111,
   "metadata": {},
   "outputs": [
    {
     "name": "stdout",
     "output_type": "stream",
     "text": [
      "Mean Absolute Error: 0.20391980233154822\n",
      "Mean Squared Error: 0.09177485099412136\n",
      "Root Mean Square Error: 0.3029436432640919\n"
     ]
    }
   ],
   "source": [
    "print('Mean Absolute Error:', metrics.mean_absolute_error(y_test,predicted))\n",
    "print('Mean Squared Error:', metrics.mean_squared_error(y_test,predicted))\n",
    "print('Root Mean Square Error:', (metrics.mean_squared_error(y_test,predicted))**0.5)"
   ]
  },
  {
   "cell_type": "code",
   "execution_count": 112,
   "metadata": {},
   "outputs": [],
   "source": [
    "graph = dframe.head(20)"
   ]
  },
  {
   "cell_type": "code",
   "execution_count": 113,
   "metadata": {},
   "outputs": [
    {
     "data": {
      "image/png": "[encoded data removed]",
      "text/plain": [
       "<Figure size 432x288 with 1 Axes>"
      ]
     },
     "metadata": {
      "needs_background": "light"
     },
     "output_type": "display_data"
    }
   ],
   "source": [
    "graph.plot(kind='bar');"
   ]
  },
  {
   "cell_type": "code",
   "execution_count": 114,
   "metadata": {},
   "outputs": [
    {
     "name": "stdout",
     "output_type": "stream",
     "text": [
      "Linear Regression Accuracy :  0.9997421847602063\n"
     ]
    }
   ],
   "source": [
    "accuracy = regressor.score(x_test, y_test)\n",
    "print(\"Linear Regression Accuracy : \", accuracy)"
   ]
  },
  {
   "cell_type": "code",
   "execution_count": 63,
   "metadata": {},
   "outputs": [],
   "source": [
    "time_series_pred = pd.read_csv('TSLA_Test.csv')"
   ]
  },
  {
   "cell_type": "code",
   "execution_count": 119,
   "metadata": {},
   "outputs": [],
   "source": [
    "time_series_pred['Close']\n",
    "days_out = time_series_pred.shape[0]\n",
    "x_out = x[-days_out:]\n",
    "y_out = y[:-days_out]"
   ]
  },
  {
   "cell_type": "code",
   "execution_count": 120,
   "metadata": {},
   "outputs": [
    {
     "data": {
      "text/plain": [
       "array([41.97933469, 40.4147001 , 39.46874833, 40.45335243, 39.8910641 ,\n",
       "       40.57263515, 39.64134163, 39.59132277, 38.86160555, 39.32975789,\n",
       "       40.78830816, 39.79355085, 40.00776957, 40.54918451, 40.60299789,\n",
       "       40.38452051, 41.16139937, 40.37688686, 39.49245768, 38.19331505,\n",
       "       38.04223599, 37.89668829, 38.05172698, 38.28740722, 38.97013859,\n",
       "       37.73317753, 36.71288064, 37.39725096, 36.17201107, 37.01701707,\n",
       "       36.6333326 , 37.44482804, 37.6570258 , 37.51331028, 37.74090095,\n",
       "       38.67571143, 39.2953573 , 39.55947121, 38.39039484, 37.80860139,\n",
       "       36.60619337, 36.45405572, 37.51606289, 36.8373326 , 38.21167432,\n",
       "       38.09167499, 38.62711441, 38.56732665, 39.88861652, 40.1258267 ,\n",
       "       39.88749579, 40.25414611, 40.40497489, 41.46866403, 42.11767722,\n",
       "       41.65629071, 42.41393003, 44.07250009, 44.01781474, 43.13865938,\n",
       "       42.74901114])"
      ]
     },
     "execution_count": 120,
     "metadata": {},
     "output_type": "execute_result"
    }
   ],
   "source": [
    "regressor.predict(x_out)"
   ]
  },
  {
   "cell_type": "code",
   "execution_count": 124,
   "metadata": {},
   "outputs": [
    {
     "data": {
      "text/html": [
       "<div>\n",
       "<style scoped>\n",
       "    .dataframe tbody tr th:only-of-type {\n",
       "        vertical-align: middle;\n",
       "    }\n",
       "\n",
       "    .dataframe tbody tr th {\n",
       "        vertical-align: top;\n",
       "    }\n",
       "\n",
       "    .dataframe thead th {\n",
       "        text-align: right;\n",
       "    }\n",
       "</style>\n",
       "<table border=\"1\" class=\"dataframe\">\n",
       "  <thead>\n",
       "    <tr style=\"text-align: right;\">\n",
       "      <th></th>\n",
       "      <th>Date</th>\n",
       "      <th>High</th>\n",
       "      <th>Low</th>\n",
       "      <th>Open</th>\n",
       "      <th>Close</th>\n",
       "      <th>Volume</th>\n",
       "      <th>Adj Close</th>\n",
       "    </tr>\n",
       "  </thead>\n",
       "  <tbody>\n",
       "    <tr>\n",
       "      <th>0</th>\n",
       "      <td>2017-01-03</td>\n",
       "      <td>44.066002</td>\n",
       "      <td>42.192001</td>\n",
       "      <td>42.972000</td>\n",
       "      <td>43.397999</td>\n",
       "      <td>29616500</td>\n",
       "      <td>43.397999</td>\n",
       "    </tr>\n",
       "    <tr>\n",
       "      <th>1</th>\n",
       "      <td>2017-01-04</td>\n",
       "      <td>45.599998</td>\n",
       "      <td>42.862000</td>\n",
       "      <td>42.950001</td>\n",
       "      <td>45.397999</td>\n",
       "      <td>56067500</td>\n",
       "      <td>45.397999</td>\n",
       "    </tr>\n",
       "    <tr>\n",
       "      <th>2</th>\n",
       "      <td>2017-01-05</td>\n",
       "      <td>45.495998</td>\n",
       "      <td>44.389999</td>\n",
       "      <td>45.284000</td>\n",
       "      <td>45.349998</td>\n",
       "      <td>29558500</td>\n",
       "      <td>45.349998</td>\n",
       "    </tr>\n",
       "    <tr>\n",
       "      <th>3</th>\n",
       "      <td>2017-01-06</td>\n",
       "      <td>46.062000</td>\n",
       "      <td>45.090000</td>\n",
       "      <td>45.386002</td>\n",
       "      <td>45.801998</td>\n",
       "      <td>27639500</td>\n",
       "      <td>45.801998</td>\n",
       "    </tr>\n",
       "    <tr>\n",
       "      <th>4</th>\n",
       "      <td>2017-01-09</td>\n",
       "      <td>46.383999</td>\n",
       "      <td>45.599998</td>\n",
       "      <td>45.793999</td>\n",
       "      <td>46.256001</td>\n",
       "      <td>19897500</td>\n",
       "      <td>46.256001</td>\n",
       "    </tr>\n",
       "  </tbody>\n",
       "</table>\n",
       "</div>"
      ],
      "text/plain": [
       "         Date       High        Low       Open      Close    Volume  Adj Close\n",
       "0  2017-01-03  44.066002  42.192001  42.972000  43.397999  29616500  43.397999\n",
       "1  2017-01-04  45.599998  42.862000  42.950001  45.397999  56067500  45.397999\n",
       "2  2017-01-05  45.495998  44.389999  45.284000  45.349998  29558500  45.349998\n",
       "3  2017-01-06  46.062000  45.090000  45.386002  45.801998  27639500  45.801998\n",
       "4  2017-01-09  46.383999  45.599998  45.793999  46.256001  19897500  46.256001"
      ]
     },
     "execution_count": 124,
     "metadata": {},
     "output_type": "execute_result"
    }
   ],
   "source": []
  },
  {
   "cell_type": "code",
   "execution_count": null,
   "metadata": {},
   "outputs": [],
   "source": []
  }
 ],
 "metadata": {
  "kernelspec": {
   "display_name": "Python 3",
   "language": "python",
   "name": "python3"
  },
  "language_info": {
   "codemirror_mode": {
    "name": "ipython",
    "version": 3
   },
   "file_extension": ".py",
   "mimetype": "text/x-python",
   "name": "python",
   "nbconvert_exporter": "python",
   "pygments_lexer": "ipython3",
   "version": "3.7.7"
  }
 },
 "nbformat": 4,
 "nbformat_minor": 4
}
