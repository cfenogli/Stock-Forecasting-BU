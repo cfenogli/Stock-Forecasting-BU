{
 "cells": [
  {
   "cell_type": "code",
   "execution_count": 1,
   "metadata": {},
   "outputs": [],
   "source": [
    "import pandas as pd\n",
    "import seaborn as sns\n",
    "import matplotlib.pyplot as plt\n",
    "import numpy as np\n",
    "from sklearn.ensemble import RandomForestClassifier\n",
    "from sklearn.preprocessing import StandardScaler\n",
    "from sklearn.preprocessing import MinMaxScaler\n",
    "from sklearn import linear_model\n",
    "from sklearn.model_selection import train_test_split\n",
    "from sklearn.preprocessing import OneHotEncoder\n",
    "from sklearn import metrics\n",
    "from sklearn.linear_model import LogisticRegression\n",
    "from sklearn import tree\n",
    "from sklearn.tree import DecisionTreeClassifier\n",
    "from sklearn.neighbors import KNeighborsClassifier\n",
    "from sklearn.model_selection import cross_val_score\n",
    "from sklearn.metrics import confusion_matrix\n",
    "\n",
    "%matplotlib inline\n",
    "\n",
    "filename = \"modifygamingdata.csv\"\n",
    "\n",
    "df = pd.read_csv(filename)\n",
    "\n",
    "### Need to deal with critic score and see if that has any importance"
   ]
  },
  {
   "cell_type": "markdown",
   "metadata": {},
   "source": [
    "# Getting a feel for our data \n",
    "\n",
    "### Below we...\n",
    "### check the first 5 entries \n",
    "### grab column names to preprocess/manipulate later\n",
    "### describe the numerical data with statistical means\n",
    "### Plot the original Heatmap with correlation data to see any trends within the raw data \n",
    "### Make histogram of Global Sales to find out how many copies are the most elite samples selling"
   ]
  },
  {
   "cell_type": "code",
   "execution_count": 2,
   "metadata": {},
   "outputs": [
    {
     "data": {
      "text/html": [
       "<div>\n",
       "<style scoped>\n",
       "    .dataframe tbody tr th:only-of-type {\n",
       "        vertical-align: middle;\n",
       "    }\n",
       "\n",
       "    .dataframe tbody tr th {\n",
       "        vertical-align: top;\n",
       "    }\n",
       "\n",
       "    .dataframe thead th {\n",
       "        text-align: right;\n",
       "    }\n",
       "</style>\n",
       "<table border=\"1\" class=\"dataframe\">\n",
       "  <thead>\n",
       "    <tr style=\"text-align: right;\">\n",
       "      <th></th>\n",
       "      <th>Rank</th>\n",
       "      <th>Name</th>\n",
       "      <th>Genre</th>\n",
       "      <th>ESRB_Rating</th>\n",
       "      <th>Platform</th>\n",
       "      <th>Publisher</th>\n",
       "      <th>Developer</th>\n",
       "      <th>Critic_Score</th>\n",
       "      <th>Global_Sales</th>\n",
       "      <th>NA_Sales</th>\n",
       "      <th>PAL_Sales</th>\n",
       "      <th>JP_Sales</th>\n",
       "      <th>Other_Sales</th>\n",
       "      <th>Year</th>\n",
       "    </tr>\n",
       "  </thead>\n",
       "  <tbody>\n",
       "    <tr>\n",
       "      <td>0</td>\n",
       "      <td>20</td>\n",
       "      <td>Grand Theft Auto V</td>\n",
       "      <td>Action</td>\n",
       "      <td>M</td>\n",
       "      <td>PS3</td>\n",
       "      <td>Rockstar Games</td>\n",
       "      <td>Rockstar North</td>\n",
       "      <td>9.4</td>\n",
       "      <td>20.32</td>\n",
       "      <td>6.37</td>\n",
       "      <td>9.85</td>\n",
       "      <td>0.99</td>\n",
       "      <td>3.12</td>\n",
       "      <td>2013.0</td>\n",
       "    </tr>\n",
       "    <tr>\n",
       "      <td>1</td>\n",
       "      <td>21</td>\n",
       "      <td>Grand Theft Auto V</td>\n",
       "      <td>Action</td>\n",
       "      <td>M</td>\n",
       "      <td>PS4</td>\n",
       "      <td>Rockstar Games</td>\n",
       "      <td>Rockstar North</td>\n",
       "      <td>9.7</td>\n",
       "      <td>19.39</td>\n",
       "      <td>6.06</td>\n",
       "      <td>9.71</td>\n",
       "      <td>0.60</td>\n",
       "      <td>3.02</td>\n",
       "      <td>2014.0</td>\n",
       "    </tr>\n",
       "    <tr>\n",
       "      <td>2</td>\n",
       "      <td>31</td>\n",
       "      <td>Grand Theft Auto: Vice City</td>\n",
       "      <td>Action</td>\n",
       "      <td>M</td>\n",
       "      <td>PS2</td>\n",
       "      <td>Rockstar Games</td>\n",
       "      <td>Rockstar North</td>\n",
       "      <td>9.6</td>\n",
       "      <td>16.15</td>\n",
       "      <td>8.41</td>\n",
       "      <td>5.49</td>\n",
       "      <td>0.47</td>\n",
       "      <td>1.78</td>\n",
       "      <td>2002.0</td>\n",
       "    </tr>\n",
       "    <tr>\n",
       "      <td>3</td>\n",
       "      <td>41</td>\n",
       "      <td>Call of Duty: Modern Warfare 3</td>\n",
       "      <td>Shooter</td>\n",
       "      <td>M</td>\n",
       "      <td>X360</td>\n",
       "      <td>Activision</td>\n",
       "      <td>Infinity Ward</td>\n",
       "      <td>8.7</td>\n",
       "      <td>14.82</td>\n",
       "      <td>9.07</td>\n",
       "      <td>4.29</td>\n",
       "      <td>0.13</td>\n",
       "      <td>1.33</td>\n",
       "      <td>2011.0</td>\n",
       "    </tr>\n",
       "    <tr>\n",
       "      <td>4</td>\n",
       "      <td>42</td>\n",
       "      <td>Call of Duty: Black Ops</td>\n",
       "      <td>Shooter</td>\n",
       "      <td>M</td>\n",
       "      <td>X360</td>\n",
       "      <td>Activision</td>\n",
       "      <td>Treyarch</td>\n",
       "      <td>8.8</td>\n",
       "      <td>14.74</td>\n",
       "      <td>9.76</td>\n",
       "      <td>3.73</td>\n",
       "      <td>0.11</td>\n",
       "      <td>1.14</td>\n",
       "      <td>2010.0</td>\n",
       "    </tr>\n",
       "  </tbody>\n",
       "</table>\n",
       "</div>"
      ],
      "text/plain": [
       "   Rank                            Name    Genre ESRB_Rating Platform  \\\n",
       "0    20              Grand Theft Auto V   Action           M      PS3   \n",
       "1    21              Grand Theft Auto V   Action           M      PS4   \n",
       "2    31     Grand Theft Auto: Vice City   Action           M      PS2   \n",
       "3    41  Call of Duty: Modern Warfare 3  Shooter           M     X360   \n",
       "4    42         Call of Duty: Black Ops  Shooter           M     X360   \n",
       "\n",
       "        Publisher       Developer  Critic_Score  Global_Sales  NA_Sales  \\\n",
       "0  Rockstar Games  Rockstar North           9.4         20.32      6.37   \n",
       "1  Rockstar Games  Rockstar North           9.7         19.39      6.06   \n",
       "2  Rockstar Games  Rockstar North           9.6         16.15      8.41   \n",
       "3      Activision   Infinity Ward           8.7         14.82      9.07   \n",
       "4      Activision        Treyarch           8.8         14.74      9.76   \n",
       "\n",
       "   PAL_Sales  JP_Sales  Other_Sales    Year  \n",
       "0       9.85      0.99         3.12  2013.0  \n",
       "1       9.71      0.60         3.02  2014.0  \n",
       "2       5.49      0.47         1.78  2002.0  \n",
       "3       4.29      0.13         1.33  2011.0  \n",
       "4       3.73      0.11         1.14  2010.0  "
      ]
     },
     "execution_count": 2,
     "metadata": {},
     "output_type": "execute_result"
    }
   ],
   "source": [
    "df.head()"
   ]
  },
  {
   "cell_type": "code",
   "execution_count": 3,
   "metadata": {},
   "outputs": [
    {
     "data": {
      "text/plain": [
       "Index(['Rank', 'Name', 'Genre', 'ESRB_Rating', 'Platform', 'Publisher',\n",
       "       'Developer', 'Critic_Score', 'Global_Sales', 'NA_Sales', 'PAL_Sales',\n",
       "       'JP_Sales', 'Other_Sales', 'Year'],\n",
       "      dtype='object')"
      ]
     },
     "execution_count": 3,
     "metadata": {},
     "output_type": "execute_result"
    }
   ],
   "source": [
    "df.columns"
   ]
  },
  {
   "cell_type": "code",
   "execution_count": 4,
   "metadata": {},
   "outputs": [
    {
     "data": {
      "text/html": [
       "<div>\n",
       "<style scoped>\n",
       "    .dataframe tbody tr th:only-of-type {\n",
       "        vertical-align: middle;\n",
       "    }\n",
       "\n",
       "    .dataframe tbody tr th {\n",
       "        vertical-align: top;\n",
       "    }\n",
       "\n",
       "    .dataframe thead th {\n",
       "        text-align: right;\n",
       "    }\n",
       "</style>\n",
       "<table border=\"1\" class=\"dataframe\">\n",
       "  <thead>\n",
       "    <tr style=\"text-align: right;\">\n",
       "      <th></th>\n",
       "      <th>Rank</th>\n",
       "      <th>Critic_Score</th>\n",
       "      <th>Global_Sales</th>\n",
       "      <th>NA_Sales</th>\n",
       "      <th>PAL_Sales</th>\n",
       "      <th>JP_Sales</th>\n",
       "      <th>Other_Sales</th>\n",
       "      <th>Year</th>\n",
       "    </tr>\n",
       "  </thead>\n",
       "  <tbody>\n",
       "    <tr>\n",
       "      <td>count</td>\n",
       "      <td>1300.000000</td>\n",
       "      <td>1300.000000</td>\n",
       "      <td>1300.000000</td>\n",
       "      <td>1300.000000</td>\n",
       "      <td>1300.000000</td>\n",
       "      <td>1300.000000</td>\n",
       "      <td>1300.000000</td>\n",
       "      <td>1300.000000</td>\n",
       "    </tr>\n",
       "    <tr>\n",
       "      <td>mean</td>\n",
       "      <td>3983.782308</td>\n",
       "      <td>7.590538</td>\n",
       "      <td>1.495185</td>\n",
       "      <td>0.694192</td>\n",
       "      <td>0.505731</td>\n",
       "      <td>0.121308</td>\n",
       "      <td>0.173823</td>\n",
       "      <td>2008.553846</td>\n",
       "    </tr>\n",
       "    <tr>\n",
       "      <td>std</td>\n",
       "      <td>3274.281962</td>\n",
       "      <td>1.176853</td>\n",
       "      <td>2.110743</td>\n",
       "      <td>1.051784</td>\n",
       "      <td>0.898886</td>\n",
       "      <td>0.192167</td>\n",
       "      <td>0.306553</td>\n",
       "      <td>4.758626</td>\n",
       "    </tr>\n",
       "    <tr>\n",
       "      <td>min</td>\n",
       "      <td>20.000000</td>\n",
       "      <td>3.200000</td>\n",
       "      <td>0.030000</td>\n",
       "      <td>0.010000</td>\n",
       "      <td>0.000000</td>\n",
       "      <td>0.000000</td>\n",
       "      <td>0.000000</td>\n",
       "      <td>1995.000000</td>\n",
       "    </tr>\n",
       "    <tr>\n",
       "      <td>25%</td>\n",
       "      <td>1305.250000</td>\n",
       "      <td>6.900000</td>\n",
       "      <td>0.370000</td>\n",
       "      <td>0.140000</td>\n",
       "      <td>0.050000</td>\n",
       "      <td>0.020000</td>\n",
       "      <td>0.020000</td>\n",
       "      <td>2006.000000</td>\n",
       "    </tr>\n",
       "    <tr>\n",
       "      <td>50%</td>\n",
       "      <td>3238.000000</td>\n",
       "      <td>7.800000</td>\n",
       "      <td>0.730000</td>\n",
       "      <td>0.300000</td>\n",
       "      <td>0.190000</td>\n",
       "      <td>0.050000</td>\n",
       "      <td>0.060000</td>\n",
       "      <td>2009.000000</td>\n",
       "    </tr>\n",
       "    <tr>\n",
       "      <td>75%</td>\n",
       "      <td>5865.500000</td>\n",
       "      <td>8.400000</td>\n",
       "      <td>1.655000</td>\n",
       "      <td>0.750000</td>\n",
       "      <td>0.530000</td>\n",
       "      <td>0.140000</td>\n",
       "      <td>0.190000</td>\n",
       "      <td>2011.000000</td>\n",
       "    </tr>\n",
       "    <tr>\n",
       "      <td>max</td>\n",
       "      <td>17048.000000</td>\n",
       "      <td>10.000000</td>\n",
       "      <td>20.320000</td>\n",
       "      <td>9.760000</td>\n",
       "      <td>9.850000</td>\n",
       "      <td>2.170000</td>\n",
       "      <td>3.120000</td>\n",
       "      <td>2018.000000</td>\n",
       "    </tr>\n",
       "  </tbody>\n",
       "</table>\n",
       "</div>"
      ],
      "text/plain": [
       "               Rank  Critic_Score  Global_Sales     NA_Sales    PAL_Sales  \\\n",
       "count   1300.000000   1300.000000   1300.000000  1300.000000  1300.000000   \n",
       "mean    3983.782308      7.590538      1.495185     0.694192     0.505731   \n",
       "std     3274.281962      1.176853      2.110743     1.051784     0.898886   \n",
       "min       20.000000      3.200000      0.030000     0.010000     0.000000   \n",
       "25%     1305.250000      6.900000      0.370000     0.140000     0.050000   \n",
       "50%     3238.000000      7.800000      0.730000     0.300000     0.190000   \n",
       "75%     5865.500000      8.400000      1.655000     0.750000     0.530000   \n",
       "max    17048.000000     10.000000     20.320000     9.760000     9.850000   \n",
       "\n",
       "          JP_Sales  Other_Sales         Year  \n",
       "count  1300.000000  1300.000000  1300.000000  \n",
       "mean      0.121308     0.173823  2008.553846  \n",
       "std       0.192167     0.306553     4.758626  \n",
       "min       0.000000     0.000000  1995.000000  \n",
       "25%       0.020000     0.020000  2006.000000  \n",
       "50%       0.050000     0.060000  2009.000000  \n",
       "75%       0.140000     0.190000  2011.000000  \n",
       "max       2.170000     3.120000  2018.000000  "
      ]
     },
     "execution_count": 4,
     "metadata": {},
     "output_type": "execute_result"
    }
   ],
   "source": [
    "df.describe()"
   ]
  },
  {
   "cell_type": "code",
   "execution_count": 5,
   "metadata": {},
   "outputs": [
    {
     "data": {
      "image/png": "[encoded data removed]",
      "text/plain": [
       "<Figure size 1008x1008 with 2 Axes>"
      ]
     },
     "metadata": {
      "needs_background": "light"
     },
     "output_type": "display_data"
    }
   ],
   "source": [
    "plt.figure(figsize=(14,14))\n",
    "sns.heatmap(df.corr(),annot=True,cmap='RdBu_r');"
   ]
  },
  {
   "cell_type": "markdown",
   "metadata": {},
   "source": [
    "### Global sales are tied heavily to North American and PAL sales \n",
    "### Rank has little to negative effect as well as critic scores\n",
    "\n",
    "### Examining Global Sales in general should be more effective"
   ]
  },
  {
   "cell_type": "code",
   "execution_count": 6,
   "metadata": {},
   "outputs": [
    {
     "data": {
      "image/png": "[encoded data removed]",
      "text/plain": [
       "<Figure size 720x432 with 1 Axes>"
      ]
     },
     "metadata": {
      "needs_background": "light"
     },
     "output_type": "display_data"
    }
   ],
   "source": [
    "plt.figure(figsize=(10,6))\n",
    "plt.hist(df[\"Global_Sales\"] ,color='orange')\n",
    "plt.title('Global_Sales of Video Games Histogram')\n",
    "plt.xlabel('Copies sold * 1million')\n",
    "plt.ylabel('Games per category');"
   ]
  },
  {
   "cell_type": "code",
   "execution_count": 7,
   "metadata": {},
   "outputs": [
    {
     "name": "stdout",
     "output_type": "stream",
     "text": [
      "1300 158\n"
     ]
    }
   ],
   "source": [
    "sales = df[df[\"Global_Sales\" ] > 3.5]\n",
    "print(df.shape[0],len(sales))"
   ]
  },
  {
   "cell_type": "markdown",
   "metadata": {},
   "source": [
    "## Ideally want number of Global_sales to a non insignificant portion of our total sales\n",
    "\n",
    "### 158/1300 $\\approx$ 11.5%\n",
    "\n",
    "### 3.5 ended up being the best choice without being too little data"
   ]
  },
  {
   "cell_type": "code",
   "execution_count": 8,
   "metadata": {},
   "outputs": [
    {
     "data": {
      "text/html": [
       "<div>\n",
       "<style scoped>\n",
       "    .dataframe tbody tr th:only-of-type {\n",
       "        vertical-align: middle;\n",
       "    }\n",
       "\n",
       "    .dataframe tbody tr th {\n",
       "        vertical-align: top;\n",
       "    }\n",
       "\n",
       "    .dataframe thead th {\n",
       "        text-align: right;\n",
       "    }\n",
       "</style>\n",
       "<table border=\"1\" class=\"dataframe\">\n",
       "  <thead>\n",
       "    <tr style=\"text-align: right;\">\n",
       "      <th></th>\n",
       "      <th>Rank</th>\n",
       "      <th>Name</th>\n",
       "      <th>Genre</th>\n",
       "      <th>ESRB_Rating</th>\n",
       "      <th>Platform</th>\n",
       "      <th>Publisher</th>\n",
       "      <th>Developer</th>\n",
       "      <th>Critic_Score</th>\n",
       "      <th>Global_Sales</th>\n",
       "      <th>NA_Sales</th>\n",
       "      <th>PAL_Sales</th>\n",
       "      <th>JP_Sales</th>\n",
       "      <th>Other_Sales</th>\n",
       "      <th>Year</th>\n",
       "    </tr>\n",
       "  </thead>\n",
       "  <tbody>\n",
       "    <tr>\n",
       "      <td>0</td>\n",
       "      <td>20</td>\n",
       "      <td>Grand Theft Auto V</td>\n",
       "      <td>Action</td>\n",
       "      <td>M</td>\n",
       "      <td>PS3</td>\n",
       "      <td>Rockstar Games</td>\n",
       "      <td>Rockstar North</td>\n",
       "      <td>9.4</td>\n",
       "      <td>20.32</td>\n",
       "      <td>6.37</td>\n",
       "      <td>9.85</td>\n",
       "      <td>0.99</td>\n",
       "      <td>3.12</td>\n",
       "      <td>2013.0</td>\n",
       "    </tr>\n",
       "    <tr>\n",
       "      <td>1</td>\n",
       "      <td>21</td>\n",
       "      <td>Grand Theft Auto V</td>\n",
       "      <td>Action</td>\n",
       "      <td>M</td>\n",
       "      <td>PS4</td>\n",
       "      <td>Rockstar Games</td>\n",
       "      <td>Rockstar North</td>\n",
       "      <td>9.7</td>\n",
       "      <td>19.39</td>\n",
       "      <td>6.06</td>\n",
       "      <td>9.71</td>\n",
       "      <td>0.60</td>\n",
       "      <td>3.02</td>\n",
       "      <td>2014.0</td>\n",
       "    </tr>\n",
       "    <tr>\n",
       "      <td>2</td>\n",
       "      <td>31</td>\n",
       "      <td>Grand Theft Auto: Vice City</td>\n",
       "      <td>Action</td>\n",
       "      <td>M</td>\n",
       "      <td>PS2</td>\n",
       "      <td>Rockstar Games</td>\n",
       "      <td>Rockstar North</td>\n",
       "      <td>9.6</td>\n",
       "      <td>16.15</td>\n",
       "      <td>8.41</td>\n",
       "      <td>5.49</td>\n",
       "      <td>0.47</td>\n",
       "      <td>1.78</td>\n",
       "      <td>2002.0</td>\n",
       "    </tr>\n",
       "    <tr>\n",
       "      <td>3</td>\n",
       "      <td>41</td>\n",
       "      <td>Call of Duty: Modern Warfare 3</td>\n",
       "      <td>Shooter</td>\n",
       "      <td>M</td>\n",
       "      <td>X360</td>\n",
       "      <td>Activision</td>\n",
       "      <td>Infinity Ward</td>\n",
       "      <td>8.7</td>\n",
       "      <td>14.82</td>\n",
       "      <td>9.07</td>\n",
       "      <td>4.29</td>\n",
       "      <td>0.13</td>\n",
       "      <td>1.33</td>\n",
       "      <td>2011.0</td>\n",
       "    </tr>\n",
       "    <tr>\n",
       "      <td>4</td>\n",
       "      <td>42</td>\n",
       "      <td>Call of Duty: Black Ops</td>\n",
       "      <td>Shooter</td>\n",
       "      <td>M</td>\n",
       "      <td>X360</td>\n",
       "      <td>Activision</td>\n",
       "      <td>Treyarch</td>\n",
       "      <td>8.8</td>\n",
       "      <td>14.74</td>\n",
       "      <td>9.76</td>\n",
       "      <td>3.73</td>\n",
       "      <td>0.11</td>\n",
       "      <td>1.14</td>\n",
       "      <td>2010.0</td>\n",
       "    </tr>\n",
       "    <tr>\n",
       "      <td>...</td>\n",
       "      <td>...</td>\n",
       "      <td>...</td>\n",
       "      <td>...</td>\n",
       "      <td>...</td>\n",
       "      <td>...</td>\n",
       "      <td>...</td>\n",
       "      <td>...</td>\n",
       "      <td>...</td>\n",
       "      <td>...</td>\n",
       "      <td>...</td>\n",
       "      <td>...</td>\n",
       "      <td>...</td>\n",
       "      <td>...</td>\n",
       "      <td>...</td>\n",
       "    </tr>\n",
       "    <tr>\n",
       "      <td>153</td>\n",
       "      <td>445</td>\n",
       "      <td>Resident Evil 5</td>\n",
       "      <td>Action</td>\n",
       "      <td>M</td>\n",
       "      <td>X360</td>\n",
       "      <td>Capcom</td>\n",
       "      <td>Capcom</td>\n",
       "      <td>8.6</td>\n",
       "      <td>3.53</td>\n",
       "      <td>2.13</td>\n",
       "      <td>0.93</td>\n",
       "      <td>0.12</td>\n",
       "      <td>0.34</td>\n",
       "      <td>2009.0</td>\n",
       "    </tr>\n",
       "    <tr>\n",
       "      <td>154</td>\n",
       "      <td>447</td>\n",
       "      <td>NBA 2K17</td>\n",
       "      <td>Sports</td>\n",
       "      <td>E</td>\n",
       "      <td>PS4</td>\n",
       "      <td>2K Sports</td>\n",
       "      <td>Visual Concepts</td>\n",
       "      <td>9.0</td>\n",
       "      <td>3.52</td>\n",
       "      <td>2.28</td>\n",
       "      <td>0.59</td>\n",
       "      <td>0.03</td>\n",
       "      <td>0.63</td>\n",
       "      <td>2016.0</td>\n",
       "    </tr>\n",
       "    <tr>\n",
       "      <td>155</td>\n",
       "      <td>448</td>\n",
       "      <td>FIFA Soccer 11</td>\n",
       "      <td>Sports</td>\n",
       "      <td>E</td>\n",
       "      <td>X360</td>\n",
       "      <td>EA Sports</td>\n",
       "      <td>EA Canada</td>\n",
       "      <td>8.7</td>\n",
       "      <td>3.52</td>\n",
       "      <td>0.71</td>\n",
       "      <td>2.39</td>\n",
       "      <td>0.02</td>\n",
       "      <td>0.40</td>\n",
       "      <td>2010.0</td>\n",
       "    </tr>\n",
       "    <tr>\n",
       "      <td>156</td>\n",
       "      <td>449</td>\n",
       "      <td>Spyro 2: Ripto's Rage!</td>\n",
       "      <td>Platform</td>\n",
       "      <td>E</td>\n",
       "      <td>PS</td>\n",
       "      <td>Sony Computer Entertainment</td>\n",
       "      <td>Insomniac Games</td>\n",
       "      <td>8.7</td>\n",
       "      <td>3.52</td>\n",
       "      <td>2.14</td>\n",
       "      <td>1.21</td>\n",
       "      <td>0.01</td>\n",
       "      <td>0.17</td>\n",
       "      <td>1999.0</td>\n",
       "    </tr>\n",
       "    <tr>\n",
       "      <td>157</td>\n",
       "      <td>450</td>\n",
       "      <td>Left 4 Dead</td>\n",
       "      <td>Shooter</td>\n",
       "      <td>M</td>\n",
       "      <td>X360</td>\n",
       "      <td>Valve Corporation</td>\n",
       "      <td>Certain Affinity / Valve Software</td>\n",
       "      <td>8.7</td>\n",
       "      <td>3.52</td>\n",
       "      <td>2.66</td>\n",
       "      <td>0.49</td>\n",
       "      <td>0.05</td>\n",
       "      <td>0.31</td>\n",
       "      <td>2008.0</td>\n",
       "    </tr>\n",
       "  </tbody>\n",
       "</table>\n",
       "<p>158 rows × 14 columns</p>\n",
       "</div>"
      ],
      "text/plain": [
       "     Rank                            Name     Genre ESRB_Rating Platform  \\\n",
       "0      20              Grand Theft Auto V    Action           M      PS3   \n",
       "1      21              Grand Theft Auto V    Action           M      PS4   \n",
       "2      31     Grand Theft Auto: Vice City    Action           M      PS2   \n",
       "3      41  Call of Duty: Modern Warfare 3   Shooter           M     X360   \n",
       "4      42         Call of Duty: Black Ops   Shooter           M     X360   \n",
       "..    ...                             ...       ...         ...      ...   \n",
       "153   445                 Resident Evil 5    Action           M     X360   \n",
       "154   447                        NBA 2K17    Sports           E      PS4   \n",
       "155   448                  FIFA Soccer 11    Sports           E     X360   \n",
       "156   449          Spyro 2: Ripto's Rage!  Platform           E       PS   \n",
       "157   450                     Left 4 Dead   Shooter           M     X360   \n",
       "\n",
       "                       Publisher                          Developer  \\\n",
       "0                 Rockstar Games                     Rockstar North   \n",
       "1                 Rockstar Games                     Rockstar North   \n",
       "2                 Rockstar Games                     Rockstar North   \n",
       "3                     Activision                      Infinity Ward   \n",
       "4                     Activision                           Treyarch   \n",
       "..                           ...                                ...   \n",
       "153                       Capcom                             Capcom   \n",
       "154                    2K Sports                    Visual Concepts   \n",
       "155                    EA Sports                          EA Canada   \n",
       "156  Sony Computer Entertainment                    Insomniac Games   \n",
       "157            Valve Corporation  Certain Affinity / Valve Software   \n",
       "\n",
       "     Critic_Score  Global_Sales  NA_Sales  PAL_Sales  JP_Sales  Other_Sales  \\\n",
       "0             9.4         20.32      6.37       9.85      0.99         3.12   \n",
       "1             9.7         19.39      6.06       9.71      0.60         3.02   \n",
       "2             9.6         16.15      8.41       5.49      0.47         1.78   \n",
       "3             8.7         14.82      9.07       4.29      0.13         1.33   \n",
       "4             8.8         14.74      9.76       3.73      0.11         1.14   \n",
       "..            ...           ...       ...        ...       ...          ...   \n",
       "153           8.6          3.53      2.13       0.93      0.12         0.34   \n",
       "154           9.0          3.52      2.28       0.59      0.03         0.63   \n",
       "155           8.7          3.52      0.71       2.39      0.02         0.40   \n",
       "156           8.7          3.52      2.14       1.21      0.01         0.17   \n",
       "157           8.7          3.52      2.66       0.49      0.05         0.31   \n",
       "\n",
       "       Year  \n",
       "0    2013.0  \n",
       "1    2014.0  \n",
       "2    2002.0  \n",
       "3    2011.0  \n",
       "4    2010.0  \n",
       "..      ...  \n",
       "153  2009.0  \n",
       "154  2016.0  \n",
       "155  2010.0  \n",
       "156  1999.0  \n",
       "157  2008.0  \n",
       "\n",
       "[158 rows x 14 columns]"
      ]
     },
     "execution_count": 8,
     "metadata": {},
     "output_type": "execute_result"
    }
   ],
   "source": [
    "df[df[\"Global_Sales\" ] > 3.5]"
   ]
  },
  {
   "cell_type": "code",
   "execution_count": 9,
   "metadata": {},
   "outputs": [],
   "source": [
    "## add back to df\n",
    "df['Hit Game'] = df['Global_Sales'].map(lambda x: x > 3.5)"
   ]
  },
  {
   "cell_type": "code",
   "execution_count": 10,
   "metadata": {},
   "outputs": [],
   "source": [
    "df = df.replace(True, \"1\")"
   ]
  },
  {
   "cell_type": "code",
   "execution_count": 11,
   "metadata": {},
   "outputs": [],
   "source": [
    "df = df.replace(False, \"0\")"
   ]
  },
  {
   "cell_type": "code",
   "execution_count": 12,
   "metadata": {},
   "outputs": [
    {
     "data": {
      "text/html": [
       "<div>\n",
       "<style scoped>\n",
       "    .dataframe tbody tr th:only-of-type {\n",
       "        vertical-align: middle;\n",
       "    }\n",
       "\n",
       "    .dataframe tbody tr th {\n",
       "        vertical-align: top;\n",
       "    }\n",
       "\n",
       "    .dataframe thead th {\n",
       "        text-align: right;\n",
       "    }\n",
       "</style>\n",
       "<table border=\"1\" class=\"dataframe\">\n",
       "  <thead>\n",
       "    <tr style=\"text-align: right;\">\n",
       "      <th></th>\n",
       "      <th>Rank</th>\n",
       "      <th>Name</th>\n",
       "      <th>Genre</th>\n",
       "      <th>ESRB_Rating</th>\n",
       "      <th>Platform</th>\n",
       "      <th>Publisher</th>\n",
       "      <th>Developer</th>\n",
       "      <th>Critic_Score</th>\n",
       "      <th>Global_Sales</th>\n",
       "      <th>NA_Sales</th>\n",
       "      <th>PAL_Sales</th>\n",
       "      <th>JP_Sales</th>\n",
       "      <th>Other_Sales</th>\n",
       "      <th>Year</th>\n",
       "      <th>Hit Game</th>\n",
       "    </tr>\n",
       "  </thead>\n",
       "  <tbody>\n",
       "    <tr>\n",
       "      <td>0</td>\n",
       "      <td>20</td>\n",
       "      <td>Grand Theft Auto V</td>\n",
       "      <td>Action</td>\n",
       "      <td>M</td>\n",
       "      <td>PS3</td>\n",
       "      <td>Rockstar Games</td>\n",
       "      <td>Rockstar North</td>\n",
       "      <td>9.4</td>\n",
       "      <td>20.32</td>\n",
       "      <td>6.37</td>\n",
       "      <td>9.85</td>\n",
       "      <td>0.99</td>\n",
       "      <td>3.12</td>\n",
       "      <td>2013.0</td>\n",
       "      <td>1</td>\n",
       "    </tr>\n",
       "    <tr>\n",
       "      <td>1</td>\n",
       "      <td>21</td>\n",
       "      <td>Grand Theft Auto V</td>\n",
       "      <td>Action</td>\n",
       "      <td>M</td>\n",
       "      <td>PS4</td>\n",
       "      <td>Rockstar Games</td>\n",
       "      <td>Rockstar North</td>\n",
       "      <td>9.7</td>\n",
       "      <td>19.39</td>\n",
       "      <td>6.06</td>\n",
       "      <td>9.71</td>\n",
       "      <td>0.6</td>\n",
       "      <td>3.02</td>\n",
       "      <td>2014.0</td>\n",
       "      <td>1</td>\n",
       "    </tr>\n",
       "    <tr>\n",
       "      <td>2</td>\n",
       "      <td>31</td>\n",
       "      <td>Grand Theft Auto: Vice City</td>\n",
       "      <td>Action</td>\n",
       "      <td>M</td>\n",
       "      <td>PS2</td>\n",
       "      <td>Rockstar Games</td>\n",
       "      <td>Rockstar North</td>\n",
       "      <td>9.6</td>\n",
       "      <td>16.15</td>\n",
       "      <td>8.41</td>\n",
       "      <td>5.49</td>\n",
       "      <td>0.47</td>\n",
       "      <td>1.78</td>\n",
       "      <td>2002.0</td>\n",
       "      <td>1</td>\n",
       "    </tr>\n",
       "    <tr>\n",
       "      <td>3</td>\n",
       "      <td>41</td>\n",
       "      <td>Call of Duty: Modern Warfare 3</td>\n",
       "      <td>Shooter</td>\n",
       "      <td>M</td>\n",
       "      <td>X360</td>\n",
       "      <td>Activision</td>\n",
       "      <td>Infinity Ward</td>\n",
       "      <td>8.7</td>\n",
       "      <td>14.82</td>\n",
       "      <td>9.07</td>\n",
       "      <td>4.29</td>\n",
       "      <td>0.13</td>\n",
       "      <td>1.33</td>\n",
       "      <td>2011.0</td>\n",
       "      <td>1</td>\n",
       "    </tr>\n",
       "    <tr>\n",
       "      <td>4</td>\n",
       "      <td>42</td>\n",
       "      <td>Call of Duty: Black Ops</td>\n",
       "      <td>Shooter</td>\n",
       "      <td>M</td>\n",
       "      <td>X360</td>\n",
       "      <td>Activision</td>\n",
       "      <td>Treyarch</td>\n",
       "      <td>8.8</td>\n",
       "      <td>14.74</td>\n",
       "      <td>9.76</td>\n",
       "      <td>3.73</td>\n",
       "      <td>0.11</td>\n",
       "      <td>1.14</td>\n",
       "      <td>2010.0</td>\n",
       "      <td>1</td>\n",
       "    </tr>\n",
       "    <tr>\n",
       "      <td>...</td>\n",
       "      <td>...</td>\n",
       "      <td>...</td>\n",
       "      <td>...</td>\n",
       "      <td>...</td>\n",
       "      <td>...</td>\n",
       "      <td>...</td>\n",
       "      <td>...</td>\n",
       "      <td>...</td>\n",
       "      <td>...</td>\n",
       "      <td>...</td>\n",
       "      <td>...</td>\n",
       "      <td>...</td>\n",
       "      <td>...</td>\n",
       "      <td>...</td>\n",
       "      <td>...</td>\n",
       "    </tr>\n",
       "    <tr>\n",
       "      <td>1295</td>\n",
       "      <td>14665</td>\n",
       "      <td>Warriors Orochi 2</td>\n",
       "      <td>Action</td>\n",
       "      <td>T</td>\n",
       "      <td>X360</td>\n",
       "      <td>KOEI</td>\n",
       "      <td>Omega Force</td>\n",
       "      <td>4.6</td>\n",
       "      <td>0.06</td>\n",
       "      <td>0.04</td>\n",
       "      <td>0</td>\n",
       "      <td>0.01</td>\n",
       "      <td>0</td>\n",
       "      <td>2008.0</td>\n",
       "      <td>0</td>\n",
       "    </tr>\n",
       "    <tr>\n",
       "      <td>1296</td>\n",
       "      <td>14973</td>\n",
       "      <td>Virtua Striker 2002</td>\n",
       "      <td>Sports</td>\n",
       "      <td>E</td>\n",
       "      <td>GC</td>\n",
       "      <td>Sega</td>\n",
       "      <td>Amusement Vision</td>\n",
       "      <td>6.6</td>\n",
       "      <td>0.05</td>\n",
       "      <td>0.01</td>\n",
       "      <td>0</td>\n",
       "      <td>0.03</td>\n",
       "      <td>0</td>\n",
       "      <td>2002.0</td>\n",
       "      <td>0</td>\n",
       "    </tr>\n",
       "    <tr>\n",
       "      <td>1297</td>\n",
       "      <td>15290</td>\n",
       "      <td>GrimGrimoire</td>\n",
       "      <td>Strategy</td>\n",
       "      <td>E10</td>\n",
       "      <td>PS2</td>\n",
       "      <td>NIS America</td>\n",
       "      <td>Vanillaware</td>\n",
       "      <td>7.7</td>\n",
       "      <td>0.05</td>\n",
       "      <td>0.01</td>\n",
       "      <td>0.01</td>\n",
       "      <td>0.03</td>\n",
       "      <td>0</td>\n",
       "      <td>2007.0</td>\n",
       "      <td>0</td>\n",
       "    </tr>\n",
       "    <tr>\n",
       "      <td>1298</td>\n",
       "      <td>15835</td>\n",
       "      <td>Metal Gear Solid: Digital Graphic Novel</td>\n",
       "      <td>Misc</td>\n",
       "      <td>M</td>\n",
       "      <td>PSP</td>\n",
       "      <td>Konami</td>\n",
       "      <td>Kojima Productions</td>\n",
       "      <td>7.6</td>\n",
       "      <td>0.04</td>\n",
       "      <td>0.02</td>\n",
       "      <td>0</td>\n",
       "      <td>0.02</td>\n",
       "      <td>0</td>\n",
       "      <td>2006.0</td>\n",
       "      <td>0</td>\n",
       "    </tr>\n",
       "    <tr>\n",
       "      <td>1299</td>\n",
       "      <td>17048</td>\n",
       "      <td>Gotcha Force</td>\n",
       "      <td>Shooter</td>\n",
       "      <td>E</td>\n",
       "      <td>GC</td>\n",
       "      <td>Capcom</td>\n",
       "      <td>Capcom</td>\n",
       "      <td>5.8</td>\n",
       "      <td>0.03</td>\n",
       "      <td>0.01</td>\n",
       "      <td>0</td>\n",
       "      <td>0.01</td>\n",
       "      <td>0</td>\n",
       "      <td>2003.0</td>\n",
       "      <td>0</td>\n",
       "    </tr>\n",
       "  </tbody>\n",
       "</table>\n",
       "<p>1300 rows × 15 columns</p>\n",
       "</div>"
      ],
      "text/plain": [
       "       Rank                                     Name     Genre ESRB_Rating  \\\n",
       "0        20                       Grand Theft Auto V    Action           M   \n",
       "1        21                       Grand Theft Auto V    Action           M   \n",
       "2        31              Grand Theft Auto: Vice City    Action           M   \n",
       "3        41           Call of Duty: Modern Warfare 3   Shooter           M   \n",
       "4        42                  Call of Duty: Black Ops   Shooter           M   \n",
       "...     ...                                      ...       ...         ...   \n",
       "1295  14665                        Warriors Orochi 2    Action           T   \n",
       "1296  14973                      Virtua Striker 2002    Sports           E   \n",
       "1297  15290                             GrimGrimoire  Strategy         E10   \n",
       "1298  15835  Metal Gear Solid: Digital Graphic Novel      Misc           M   \n",
       "1299  17048                             Gotcha Force   Shooter           E   \n",
       "\n",
       "     Platform       Publisher           Developer  Critic_Score Global_Sales  \\\n",
       "0         PS3  Rockstar Games      Rockstar North           9.4        20.32   \n",
       "1         PS4  Rockstar Games      Rockstar North           9.7        19.39   \n",
       "2         PS2  Rockstar Games      Rockstar North           9.6        16.15   \n",
       "3        X360      Activision       Infinity Ward           8.7        14.82   \n",
       "4        X360      Activision            Treyarch           8.8        14.74   \n",
       "...       ...             ...                 ...           ...          ...   \n",
       "1295     X360            KOEI         Omega Force           4.6         0.06   \n",
       "1296       GC            Sega    Amusement Vision           6.6         0.05   \n",
       "1297      PS2     NIS America         Vanillaware           7.7         0.05   \n",
       "1298      PSP          Konami  Kojima Productions           7.6         0.04   \n",
       "1299       GC          Capcom              Capcom           5.8         0.03   \n",
       "\n",
       "     NA_Sales PAL_Sales JP_Sales Other_Sales    Year Hit Game  \n",
       "0        6.37      9.85     0.99        3.12  2013.0        1  \n",
       "1        6.06      9.71      0.6        3.02  2014.0        1  \n",
       "2        8.41      5.49     0.47        1.78  2002.0        1  \n",
       "3        9.07      4.29     0.13        1.33  2011.0        1  \n",
       "4        9.76      3.73     0.11        1.14  2010.0        1  \n",
       "...       ...       ...      ...         ...     ...      ...  \n",
       "1295     0.04         0     0.01           0  2008.0        0  \n",
       "1296     0.01         0     0.03           0  2002.0        0  \n",
       "1297     0.01      0.01     0.03           0  2007.0        0  \n",
       "1298     0.02         0     0.02           0  2006.0        0  \n",
       "1299     0.01         0     0.01           0  2003.0        0  \n",
       "\n",
       "[1300 rows x 15 columns]"
      ]
     },
     "execution_count": 12,
     "metadata": {},
     "output_type": "execute_result"
    }
   ],
   "source": [
    "df"
   ]
  },
  {
   "cell_type": "markdown",
   "metadata": {},
   "source": [
    "# Exploring our data futher after removing incomplete data"
   ]
  },
  {
   "cell_type": "code",
   "execution_count": 13,
   "metadata": {},
   "outputs": [],
   "source": [
    "### Looking at avg score of our games dataset"
   ]
  },
  {
   "cell_type": "code",
   "execution_count": 14,
   "metadata": {},
   "outputs": [],
   "source": [
    "avg_critic_score = df[\"Critic_Score\"].mean()"
   ]
  },
  {
   "cell_type": "code",
   "execution_count": 15,
   "metadata": {},
   "outputs": [
    {
     "name": "stdout",
     "output_type": "stream",
     "text": [
      "Average critic score:  7.590538461538469\n"
     ]
    }
   ],
   "source": [
    "print ((\"Average critic score: \"), avg_critic_score)"
   ]
  },
  {
   "cell_type": "code",
   "execution_count": 16,
   "metadata": {},
   "outputs": [],
   "source": [
    "### Looking at avg global sales of our games dataset"
   ]
  },
  {
   "cell_type": "code",
   "execution_count": 17,
   "metadata": {},
   "outputs": [],
   "source": [
    "avg_global_sales = df[\"Global_Sales\"].astype('float')"
   ]
  },
  {
   "cell_type": "code",
   "execution_count": 18,
   "metadata": {},
   "outputs": [],
   "source": [
    "avg_global_sales = avg_global_sales.mean()"
   ]
  },
  {
   "cell_type": "code",
   "execution_count": 19,
   "metadata": {},
   "outputs": [
    {
     "name": "stdout",
     "output_type": "stream",
     "text": [
      "Average global sales in millions:  1.495184615384612\n"
     ]
    }
   ],
   "source": [
    "print ((\"Average global sales in millions: \"), avg_global_sales)"
   ]
  },
  {
   "cell_type": "code",
   "execution_count": 20,
   "metadata": {},
   "outputs": [],
   "source": [
    "### Looking at the counts of the game ratings"
   ]
  },
  {
   "cell_type": "code",
   "execution_count": 21,
   "metadata": {},
   "outputs": [],
   "source": [
    "ratings_count = df[\"ESRB_Rating\"].value_counts()"
   ]
  },
  {
   "cell_type": "code",
   "execution_count": 22,
   "metadata": {},
   "outputs": [
    {
     "name": "stdout",
     "output_type": "stream",
     "text": [
      "Counts of ESRB Ratings:\n",
      " T      474\n",
      "M      357\n",
      "E      325\n",
      "E10    144\n",
      "Name: ESRB_Rating, dtype: int64\n"
     ]
    }
   ],
   "source": [
    "print ((\"Counts of ESRB Ratings:\\n\"), ratings_count)"
   ]
  },
  {
   "cell_type": "code",
   "execution_count": 23,
   "metadata": {},
   "outputs": [],
   "source": [
    "### Looking at the counts of the platforms"
   ]
  },
  {
   "cell_type": "code",
   "execution_count": 24,
   "metadata": {},
   "outputs": [],
   "source": [
    "platform_count = df[\"Platform\"].value_counts()"
   ]
  },
  {
   "cell_type": "code",
   "execution_count": 25,
   "metadata": {},
   "outputs": [
    {
     "name": "stdout",
     "output_type": "stream",
     "text": [
      "Counts of Platform:\n",
      " PS3     266\n",
      "X360    265\n",
      "PS2     117\n",
      "PSP      99\n",
      "DS       89\n",
      "Wii      87\n",
      "3DS      81\n",
      "PS       78\n",
      "PS4      57\n",
      "NS       43\n",
      "GC       29\n",
      "WiiU     25\n",
      "GBA      24\n",
      "N64      14\n",
      "XOne     11\n",
      "XB        7\n",
      "GBC       2\n",
      "DC        2\n",
      "GB        1\n",
      "PSN       1\n",
      "PSV       1\n",
      "SAT       1\n",
      "Name: Platform, dtype: int64\n"
     ]
    }
   ],
   "source": [
    "print ((\"Counts of Platform:\\n\"), platform_count)"
   ]
  },
  {
   "cell_type": "markdown",
   "metadata": {},
   "source": [
    "# Changing our catergorical data into dummy values"
   ]
  },
  {
   "cell_type": "code",
   "execution_count": 26,
   "metadata": {},
   "outputs": [],
   "source": [
    "enc = OneHotEncoder(handle_unknown='ignore')"
   ]
  },
  {
   "cell_type": "code",
   "execution_count": 27,
   "metadata": {},
   "outputs": [
    {
     "data": {
      "text/html": [
       "<div>\n",
       "<style scoped>\n",
       "    .dataframe tbody tr th:only-of-type {\n",
       "        vertical-align: middle;\n",
       "    }\n",
       "\n",
       "    .dataframe tbody tr th {\n",
       "        vertical-align: top;\n",
       "    }\n",
       "\n",
       "    .dataframe thead th {\n",
       "        text-align: right;\n",
       "    }\n",
       "</style>\n",
       "<table border=\"1\" class=\"dataframe\">\n",
       "  <thead>\n",
       "    <tr style=\"text-align: right;\">\n",
       "      <th></th>\n",
       "      <th>Year</th>\n",
       "      <th>Rank_20</th>\n",
       "      <th>Rank_21</th>\n",
       "      <th>Rank_31</th>\n",
       "      <th>Rank_41</th>\n",
       "      <th>Rank_42</th>\n",
       "      <th>Rank_46</th>\n",
       "      <th>Rank_50</th>\n",
       "      <th>Rank_51</th>\n",
       "      <th>Rank_52</th>\n",
       "      <th>...</th>\n",
       "      <th>Critic_Score_9.0</th>\n",
       "      <th>Critic_Score_9.1</th>\n",
       "      <th>Critic_Score_9.2</th>\n",
       "      <th>Critic_Score_9.3</th>\n",
       "      <th>Critic_Score_9.4</th>\n",
       "      <th>Critic_Score_9.5</th>\n",
       "      <th>Critic_Score_9.6</th>\n",
       "      <th>Critic_Score_9.7</th>\n",
       "      <th>Critic_Score_9.8</th>\n",
       "      <th>Critic_Score_10.0</th>\n",
       "    </tr>\n",
       "  </thead>\n",
       "  <tbody>\n",
       "    <tr>\n",
       "      <td>0</td>\n",
       "      <td>2013.0</td>\n",
       "      <td>1</td>\n",
       "      <td>0</td>\n",
       "      <td>0</td>\n",
       "      <td>0</td>\n",
       "      <td>0</td>\n",
       "      <td>0</td>\n",
       "      <td>0</td>\n",
       "      <td>0</td>\n",
       "      <td>0</td>\n",
       "      <td>...</td>\n",
       "      <td>0</td>\n",
       "      <td>0</td>\n",
       "      <td>0</td>\n",
       "      <td>0</td>\n",
       "      <td>1</td>\n",
       "      <td>0</td>\n",
       "      <td>0</td>\n",
       "      <td>0</td>\n",
       "      <td>0</td>\n",
       "      <td>0</td>\n",
       "    </tr>\n",
       "    <tr>\n",
       "      <td>1</td>\n",
       "      <td>2014.0</td>\n",
       "      <td>0</td>\n",
       "      <td>1</td>\n",
       "      <td>0</td>\n",
       "      <td>0</td>\n",
       "      <td>0</td>\n",
       "      <td>0</td>\n",
       "      <td>0</td>\n",
       "      <td>0</td>\n",
       "      <td>0</td>\n",
       "      <td>...</td>\n",
       "      <td>0</td>\n",
       "      <td>0</td>\n",
       "      <td>0</td>\n",
       "      <td>0</td>\n",
       "      <td>0</td>\n",
       "      <td>0</td>\n",
       "      <td>0</td>\n",
       "      <td>1</td>\n",
       "      <td>0</td>\n",
       "      <td>0</td>\n",
       "    </tr>\n",
       "    <tr>\n",
       "      <td>2</td>\n",
       "      <td>2002.0</td>\n",
       "      <td>0</td>\n",
       "      <td>0</td>\n",
       "      <td>1</td>\n",
       "      <td>0</td>\n",
       "      <td>0</td>\n",
       "      <td>0</td>\n",
       "      <td>0</td>\n",
       "      <td>0</td>\n",
       "      <td>0</td>\n",
       "      <td>...</td>\n",
       "      <td>0</td>\n",
       "      <td>0</td>\n",
       "      <td>0</td>\n",
       "      <td>0</td>\n",
       "      <td>0</td>\n",
       "      <td>0</td>\n",
       "      <td>1</td>\n",
       "      <td>0</td>\n",
       "      <td>0</td>\n",
       "      <td>0</td>\n",
       "    </tr>\n",
       "    <tr>\n",
       "      <td>3</td>\n",
       "      <td>2011.0</td>\n",
       "      <td>0</td>\n",
       "      <td>0</td>\n",
       "      <td>0</td>\n",
       "      <td>1</td>\n",
       "      <td>0</td>\n",
       "      <td>0</td>\n",
       "      <td>0</td>\n",
       "      <td>0</td>\n",
       "      <td>0</td>\n",
       "      <td>...</td>\n",
       "      <td>0</td>\n",
       "      <td>0</td>\n",
       "      <td>0</td>\n",
       "      <td>0</td>\n",
       "      <td>0</td>\n",
       "      <td>0</td>\n",
       "      <td>0</td>\n",
       "      <td>0</td>\n",
       "      <td>0</td>\n",
       "      <td>0</td>\n",
       "    </tr>\n",
       "    <tr>\n",
       "      <td>4</td>\n",
       "      <td>2010.0</td>\n",
       "      <td>0</td>\n",
       "      <td>0</td>\n",
       "      <td>0</td>\n",
       "      <td>0</td>\n",
       "      <td>1</td>\n",
       "      <td>0</td>\n",
       "      <td>0</td>\n",
       "      <td>0</td>\n",
       "      <td>0</td>\n",
       "      <td>...</td>\n",
       "      <td>0</td>\n",
       "      <td>0</td>\n",
       "      <td>0</td>\n",
       "      <td>0</td>\n",
       "      <td>0</td>\n",
       "      <td>0</td>\n",
       "      <td>0</td>\n",
       "      <td>0</td>\n",
       "      <td>0</td>\n",
       "      <td>0</td>\n",
       "    </tr>\n",
       "  </tbody>\n",
       "</table>\n",
       "<p>5 rows × 1914 columns</p>\n",
       "</div>"
      ],
      "text/plain": [
       "     Year  Rank_20  Rank_21  Rank_31  Rank_41  Rank_42  Rank_46  Rank_50  \\\n",
       "0  2013.0        1        0        0        0        0        0        0   \n",
       "1  2014.0        0        1        0        0        0        0        0   \n",
       "2  2002.0        0        0        1        0        0        0        0   \n",
       "3  2011.0        0        0        0        1        0        0        0   \n",
       "4  2010.0        0        0        0        0        1        0        0   \n",
       "\n",
       "   Rank_51  Rank_52  ...  Critic_Score_9.0  Critic_Score_9.1  \\\n",
       "0        0        0  ...                 0                 0   \n",
       "1        0        0  ...                 0                 0   \n",
       "2        0        0  ...                 0                 0   \n",
       "3        0        0  ...                 0                 0   \n",
       "4        0        0  ...                 0                 0   \n",
       "\n",
       "   Critic_Score_9.2  Critic_Score_9.3  Critic_Score_9.4  Critic_Score_9.5  \\\n",
       "0                 0                 0                 1                 0   \n",
       "1                 0                 0                 0                 0   \n",
       "2                 0                 0                 0                 0   \n",
       "3                 0                 0                 0                 0   \n",
       "4                 0                 0                 0                 0   \n",
       "\n",
       "   Critic_Score_9.6  Critic_Score_9.7  Critic_Score_9.8  Critic_Score_10.0  \n",
       "0                 0                 0                 0                  0  \n",
       "1                 0                 1                 0                  0  \n",
       "2                 1                 0                 0                  0  \n",
       "3                 0                 0                 0                  0  \n",
       "4                 0                 0                 0                  0  \n",
       "\n",
       "[5 rows x 1914 columns]"
      ]
     },
     "execution_count": 27,
     "metadata": {},
     "output_type": "execute_result"
    }
   ],
   "source": [
    "## Getting k - 1 categorial columns from each category\n",
    "\n",
    "dummy_df = pd.get_dummies(df, columns = ['Rank','Genre', 'ESRB_Rating', 'Platform', 'Publisher','Developer', 'Critic_Score'])\n",
    "dummy_df = dummy_df.drop([\"Global_Sales\",\"Name\",\"PAL_Sales\",\"JP_Sales\",\"Other_Sales\",\"NA_Sales\", \"Hit Game\"], axis =1)\n",
    "\n",
    "## Make sure it worked, look at all them columns\n",
    "dummy_df.head()"
   ]
  },
  {
   "cell_type": "markdown",
   "metadata": {},
   "source": [
    "## Lets try linear regression to see how well it fits"
   ]
  },
  {
   "cell_type": "code",
   "execution_count": 28,
   "metadata": {},
   "outputs": [
    {
     "name": "stdout",
     "output_type": "stream",
     "text": [
      "Accuracy for testing set 17.68606254362495 %\n"
     ]
    }
   ],
   "source": [
    "target = df[\"Hit Game\"].values\n",
    "features = dummy_df[list(dummy_df.columns)].values\n",
    "\n",
    "regression = linear_model.LinearRegression()\n",
    "\n",
    "X_train, X_test, y_train, y_test = train_test_split(features, target, test_size=0.20)\n",
    "\n",
    "## Standard scaler is much more influence by large or very small outliers\n",
    "#scaler = StandardScaler()\n",
    "\n",
    "# Min max scaler puts all values in range [0,1] reducing outlier influence\n",
    "scaler = MinMaxScaler()\n",
    "\n",
    "scaler.fit(X_train)\n",
    "X_train = scaler.transform(X_train)\n",
    "X_test = scaler.transform(X_test)\n",
    "\n",
    "regression.fit(X_train, y_train)\n",
    "\n",
    "predictions = regression.predict(X_test)\n",
    "\n",
    "Accuracy = regression.score(X_train, y_train)\n",
    "#print ((\"Accuracy for training set: \"), Accuracy*100, \"%\")\n",
    "\n",
    "lin_accuracy = regression.score(X_test, y_test)\n",
    "print ((\"Accuracy for testing set\"), lin_accuracy*100, \"%\" )"
   ]
  },
  {
   "cell_type": "markdown",
   "metadata": {},
   "source": [
    "## That was bad... lets not talk about that "
   ]
  },
  {
   "cell_type": "markdown",
   "metadata": {},
   "source": [
    "## Trying Logistic regression "
   ]
  },
  {
   "cell_type": "code",
   "execution_count": 29,
   "metadata": {},
   "outputs": [],
   "source": [
    "logreg = LogisticRegression()"
   ]
  },
  {
   "cell_type": "code",
   "execution_count": 30,
   "metadata": {
    "scrolled": true
   },
   "outputs": [
    {
     "data": {
      "text/plain": [
       "LogisticRegression(C=1.0, class_weight=None, dual=False, fit_intercept=True,\n",
       "                   intercept_scaling=1, l1_ratio=None, max_iter=100,\n",
       "                   multi_class='warn', n_jobs=None, penalty='l2',\n",
       "                   random_state=None, solver='warn', tol=0.0001, verbose=0,\n",
       "                   warm_start=False)"
      ]
     },
     "execution_count": 30,
     "metadata": {},
     "output_type": "execute_result"
    }
   ],
   "source": [
    "logreg"
   ]
  },
  {
   "cell_type": "code",
   "execution_count": 31,
   "metadata": {},
   "outputs": [],
   "source": [
    "X=df[['Genre', 'ESRB_Rating', 'Platform', 'Developer', 'Critic_Score']]\n",
    "y=df['Hit Game']"
   ]
  },
  {
   "cell_type": "code",
   "execution_count": 32,
   "metadata": {},
   "outputs": [],
   "source": [
    "X = pd.get_dummies(X)"
   ]
  },
  {
   "cell_type": "code",
   "execution_count": 33,
   "metadata": {},
   "outputs": [],
   "source": [
    "X_train, X_test, y_train, y_test = train_test_split(X, y, test_size=0.2)"
   ]
  },
  {
   "cell_type": "code",
   "execution_count": 34,
   "metadata": {},
   "outputs": [
    {
     "name": "stderr",
     "output_type": "stream",
     "text": [
      "C:\\ProgramData\\Anaconda3\\lib\\site-packages\\sklearn\\linear_model\\logistic.py:432: FutureWarning: Default solver will be changed to 'lbfgs' in 0.22. Specify a solver to silence this warning.\n",
      "  FutureWarning)\n"
     ]
    },
    {
     "data": {
      "text/plain": [
       "LogisticRegression(C=1.0, class_weight=None, dual=False, fit_intercept=True,\n",
       "                   intercept_scaling=1, l1_ratio=None, max_iter=100,\n",
       "                   multi_class='warn', n_jobs=None, penalty='l2',\n",
       "                   random_state=None, solver='warn', tol=0.0001, verbose=0,\n",
       "                   warm_start=False)"
      ]
     },
     "execution_count": 34,
     "metadata": {},
     "output_type": "execute_result"
    }
   ],
   "source": [
    "logreg.fit(X_train,y_train) ## Maybe tune these later "
   ]
  },
  {
   "cell_type": "code",
   "execution_count": 35,
   "metadata": {},
   "outputs": [
    {
     "data": {
      "text/plain": [
       "array(['0', '0', '0', '0', '0', '0', '0', '0', '0', '0', '0', '0', '0',\n",
       "       '0', '0', '0', '0', '0', '0', '0', '0', '0', '0', '0', '0', '0',\n",
       "       '0', '0', '0', '0', '1', '0', '0', '0', '0', '0', '0', '0', '0',\n",
       "       '0', '0', '0', '0', '0', '0', '0', '0', '0', '0', '1', '0', '0',\n",
       "       '0', '0', '0', '0', '0', '0', '0', '0', '0', '0', '0', '0', '0',\n",
       "       '0', '0', '0', '0', '0', '0', '0', '0', '0', '0', '1', '0', '0',\n",
       "       '0', '0', '0', '0', '1', '0', '0', '0', '0', '0', '1', '0', '0',\n",
       "       '1', '0', '0', '0', '1', '0', '0', '0', '0', '0', '0', '0', '0',\n",
       "       '0', '0', '0', '0', '0', '0', '0', '0', '0', '0', '0', '0', '0',\n",
       "       '0', '0', '0', '0', '0', '0', '0', '0', '0', '0', '0', '0', '0',\n",
       "       '0', '0', '0', '0', '0', '0', '0', '0', '0', '0', '0', '0', '0',\n",
       "       '0', '0', '0', '0', '0', '0', '0', '0', '0', '0', '0', '0', '0',\n",
       "       '0', '0', '0', '1', '0', '0', '0', '0', '0', '0', '0', '0', '0',\n",
       "       '0', '0', '0', '0', '0', '1', '0', '0', '0', '0', '0', '0', '0',\n",
       "       '1', '0', '0', '0', '0', '0', '0', '0', '0', '0', '0', '0', '0',\n",
       "       '0', '0', '0', '0', '0', '0', '0', '0', '0', '0', '0', '0', '1',\n",
       "       '0', '0', '0', '0', '0', '0', '0', '0', '0', '0', '0', '0', '0',\n",
       "       '0', '0', '0', '0', '0', '0', '0', '0', '0', '0', '0', '0', '0',\n",
       "       '0', '0', '0', '0', '0', '0', '1', '0', '0', '0', '0', '0', '0',\n",
       "       '0', '0', '0', '0', '0', '0', '0', '0', '0', '0', '0', '0', '0'],\n",
       "      dtype=object)"
      ]
     },
     "execution_count": 35,
     "metadata": {},
     "output_type": "execute_result"
    }
   ],
   "source": [
    "logreg.predict(X_test)"
   ]
  },
  {
   "cell_type": "code",
   "execution_count": 36,
   "metadata": {},
   "outputs": [],
   "source": [
    "predictions = logreg.predict(X_test)"
   ]
  },
  {
   "cell_type": "code",
   "execution_count": 37,
   "metadata": {},
   "outputs": [
    {
     "data": {
      "text/plain": [
       "(260,)"
      ]
     },
     "execution_count": 37,
     "metadata": {},
     "output_type": "execute_result"
    }
   ],
   "source": [
    "predictions.shape"
   ]
  },
  {
   "cell_type": "markdown",
   "metadata": {},
   "source": [
    "## Test model accuracy"
   ]
  },
  {
   "cell_type": "code",
   "execution_count": 38,
   "metadata": {},
   "outputs": [
    {
     "name": "stdout",
     "output_type": "stream",
     "text": [
      "0.9153846153846154\n"
     ]
    }
   ],
   "source": [
    "log_accuracy = logreg.score(X_test,y_test)\n",
    "print(log_accuracy)"
   ]
  },
  {
   "cell_type": "code",
   "execution_count": 39,
   "metadata": {},
   "outputs": [],
   "source": [
    "confuse = confusion_matrix(y_test,predictions)"
   ]
  },
  {
   "cell_type": "code",
   "execution_count": 40,
   "metadata": {},
   "outputs": [
    {
     "data": {
      "text/plain": [
       "array([[227,   1],\n",
       "       [ 21,  11]], dtype=int64)"
      ]
     },
     "execution_count": 40,
     "metadata": {},
     "output_type": "execute_result"
    }
   ],
   "source": [
    "confuse"
   ]
  },
  {
   "cell_type": "code",
   "execution_count": 41,
   "metadata": {},
   "outputs": [
    {
     "data": {
      "image/png": "[encoded data removed]",
      "text/plain": [
       "<Figure size 648x648 with 2 Axes>"
      ]
     },
     "metadata": {
      "needs_background": "light"
     },
     "output_type": "display_data"
    }
   ],
   "source": [
    "plt.figure(figsize=(9,9))\n",
    "sns.heatmap(confuse, annot=True, fmt=\".3f\", linewidths=.5, square = True, cmap = 'RdBu_r',annot_kws={\"size\":14})\n",
    "plt.ylabel('Actual label');\n",
    "plt.xlabel('Predicted label');\n",
    "all_sample_title = 'Accuracy Score: {0}'.format(log_accuracy)\n",
    "plt.title(all_sample_title, size = 15);"
   ]
  },
  {
   "cell_type": "markdown",
   "metadata": {},
   "source": [
    "# Random Forests"
   ]
  },
  {
   "cell_type": "code",
   "execution_count": 42,
   "metadata": {},
   "outputs": [],
   "source": [
    "X=df[['Genre', 'ESRB_Rating', 'Platform', 'Developer', 'Critic_Score']]\n",
    "y=df['Hit Game']\n",
    "X = pd.get_dummies(X)"
   ]
  },
  {
   "cell_type": "code",
   "execution_count": 43,
   "metadata": {},
   "outputs": [],
   "source": [
    "X_train, X_test, y_train, y_test = train_test_split(X, y, test_size=0.3)"
   ]
  },
  {
   "cell_type": "code",
   "execution_count": 44,
   "metadata": {},
   "outputs": [],
   "source": [
    "#Create a Gaussian Classifier\n",
    "clf=RandomForestClassifier(n_estimators=100)"
   ]
  },
  {
   "cell_type": "code",
   "execution_count": 45,
   "metadata": {},
   "outputs": [],
   "source": [
    "model = clf.fit(X_train,y_train)"
   ]
  },
  {
   "cell_type": "code",
   "execution_count": 46,
   "metadata": {},
   "outputs": [],
   "source": [
    "y_pred=clf.predict(X_test)"
   ]
  },
  {
   "cell_type": "code",
   "execution_count": 47,
   "metadata": {},
   "outputs": [],
   "source": [
    "random_accuracy = metrics.accuracy_score(y_test, y_pred)"
   ]
  },
  {
   "cell_type": "code",
   "execution_count": 48,
   "metadata": {
    "scrolled": true
   },
   "outputs": [
    {
     "name": "stdout",
     "output_type": "stream",
     "text": [
      "Accuracy:  91.53846153846153 %\n"
     ]
    }
   ],
   "source": [
    "print ((\"Accuracy: \"), random_accuracy*100, \"%\" )"
   ]
  },
  {
   "cell_type": "code",
   "execution_count": 49,
   "metadata": {},
   "outputs": [],
   "source": [
    "confuse = confusion_matrix(y_test,y_pred)"
   ]
  },
  {
   "cell_type": "code",
   "execution_count": 50,
   "metadata": {},
   "outputs": [
    {
     "data": {
      "text/plain": [
       "array([[333,   6],\n",
       "       [ 27,  24]], dtype=int64)"
      ]
     },
     "execution_count": 50,
     "metadata": {},
     "output_type": "execute_result"
    }
   ],
   "source": [
    "confuse"
   ]
  },
  {
   "cell_type": "code",
   "execution_count": 51,
   "metadata": {},
   "outputs": [
    {
     "data": {
      "image/png": "[encoded data removed]",
      "text/plain": [
       "<Figure size 648x648 with 2 Axes>"
      ]
     },
     "metadata": {
      "needs_background": "light"
     },
     "output_type": "display_data"
    }
   ],
   "source": [
    "plt.figure(figsize=(9,9))\n",
    "sns.heatmap(confuse, annot=True, fmt=\".3f\", linewidths=.5, square = True, cmap = 'RdBu_r',annot_kws={\"size\":14})\n",
    "plt.ylabel('Actual label');\n",
    "plt.xlabel('Predicted label');\n",
    "all_sample_title = 'Accuracy Score: {0}'.format(random_accuracy)\n",
    "plt.title(all_sample_title, size = 15);"
   ]
  },
  {
   "cell_type": "code",
   "execution_count": 52,
   "metadata": {},
   "outputs": [],
   "source": [
    "feature_importances = pd.DataFrame(model.feature_importances_,\n",
    "                                   index = X_train.columns,\n",
    "                                    columns=['importance']).sort_values('importance',ascending=False)"
   ]
  },
  {
   "cell_type": "code",
   "execution_count": 53,
   "metadata": {},
   "outputs": [
    {
     "data": {
      "text/html": [
       "<div>\n",
       "<style scoped>\n",
       "    .dataframe tbody tr th:only-of-type {\n",
       "        vertical-align: middle;\n",
       "    }\n",
       "\n",
       "    .dataframe tbody tr th {\n",
       "        vertical-align: top;\n",
       "    }\n",
       "\n",
       "    .dataframe thead th {\n",
       "        text-align: right;\n",
       "    }\n",
       "</style>\n",
       "<table border=\"1\" class=\"dataframe\">\n",
       "  <thead>\n",
       "    <tr style=\"text-align: right;\">\n",
       "      <th></th>\n",
       "      <th>importance</th>\n",
       "    </tr>\n",
       "  </thead>\n",
       "  <tbody>\n",
       "    <tr>\n",
       "      <td>Critic_Score</td>\n",
       "      <td>0.200812</td>\n",
       "    </tr>\n",
       "    <tr>\n",
       "      <td>Platform_PS2</td>\n",
       "      <td>0.037065</td>\n",
       "    </tr>\n",
       "    <tr>\n",
       "      <td>Platform_PS4</td>\n",
       "      <td>0.035378</td>\n",
       "    </tr>\n",
       "    <tr>\n",
       "      <td>Developer_Naughty Dog</td>\n",
       "      <td>0.033144</td>\n",
       "    </tr>\n",
       "    <tr>\n",
       "      <td>Developer_Infinity Ward</td>\n",
       "      <td>0.032155</td>\n",
       "    </tr>\n",
       "    <tr>\n",
       "      <td>...</td>\n",
       "      <td>...</td>\n",
       "    </tr>\n",
       "    <tr>\n",
       "      <td>Developer_Career Soft</td>\n",
       "      <td>0.000000</td>\n",
       "    </tr>\n",
       "    <tr>\n",
       "      <td>Developer_Ready at Dawn</td>\n",
       "      <td>0.000000</td>\n",
       "    </tr>\n",
       "    <tr>\n",
       "      <td>Developer_Realtime Worlds</td>\n",
       "      <td>0.000000</td>\n",
       "    </tr>\n",
       "    <tr>\n",
       "      <td>Developer_Replay Studios</td>\n",
       "      <td>0.000000</td>\n",
       "    </tr>\n",
       "    <tr>\n",
       "      <td>Developer_SCEE Cambridge</td>\n",
       "      <td>0.000000</td>\n",
       "    </tr>\n",
       "  </tbody>\n",
       "</table>\n",
       "<p>467 rows × 1 columns</p>\n",
       "</div>"
      ],
      "text/plain": [
       "                           importance\n",
       "Critic_Score                 0.200812\n",
       "Platform_PS2                 0.037065\n",
       "Platform_PS4                 0.035378\n",
       "Developer_Naughty Dog        0.033144\n",
       "Developer_Infinity Ward      0.032155\n",
       "...                               ...\n",
       "Developer_Career Soft        0.000000\n",
       "Developer_Ready at Dawn      0.000000\n",
       "Developer_Realtime Worlds    0.000000\n",
       "Developer_Replay Studios     0.000000\n",
       "Developer_SCEE Cambridge     0.000000\n",
       "\n",
       "[467 rows x 1 columns]"
      ]
     },
     "execution_count": 53,
     "metadata": {},
     "output_type": "execute_result"
    }
   ],
   "source": [
    "feature_importances"
   ]
  },
  {
   "cell_type": "code",
   "execution_count": 54,
   "metadata": {},
   "outputs": [],
   "source": [
    "feature_importances = feature_importances[feature_importances[\"importance\"] > 0.005]"
   ]
  },
  {
   "cell_type": "code",
   "execution_count": 55,
   "metadata": {},
   "outputs": [
    {
     "data": {
      "text/html": [
       "<div>\n",
       "<style scoped>\n",
       "    .dataframe tbody tr th:only-of-type {\n",
       "        vertical-align: middle;\n",
       "    }\n",
       "\n",
       "    .dataframe tbody tr th {\n",
       "        vertical-align: top;\n",
       "    }\n",
       "\n",
       "    .dataframe thead th {\n",
       "        text-align: right;\n",
       "    }\n",
       "</style>\n",
       "<table border=\"1\" class=\"dataframe\">\n",
       "  <thead>\n",
       "    <tr style=\"text-align: right;\">\n",
       "      <th></th>\n",
       "      <th>importance</th>\n",
       "    </tr>\n",
       "  </thead>\n",
       "  <tbody>\n",
       "    <tr>\n",
       "      <td>Critic_Score</td>\n",
       "      <td>0.200812</td>\n",
       "    </tr>\n",
       "    <tr>\n",
       "      <td>Platform_PS2</td>\n",
       "      <td>0.037065</td>\n",
       "    </tr>\n",
       "    <tr>\n",
       "      <td>Platform_PS4</td>\n",
       "      <td>0.035378</td>\n",
       "    </tr>\n",
       "    <tr>\n",
       "      <td>Developer_Naughty Dog</td>\n",
       "      <td>0.033144</td>\n",
       "    </tr>\n",
       "    <tr>\n",
       "      <td>Developer_Infinity Ward</td>\n",
       "      <td>0.032155</td>\n",
       "    </tr>\n",
       "    <tr>\n",
       "      <td>Developer_Bethesda Game Studios</td>\n",
       "      <td>0.023041</td>\n",
       "    </tr>\n",
       "    <tr>\n",
       "      <td>Developer_Rockstar North</td>\n",
       "      <td>0.020745</td>\n",
       "    </tr>\n",
       "    <tr>\n",
       "      <td>Genre_Action</td>\n",
       "      <td>0.020405</td>\n",
       "    </tr>\n",
       "    <tr>\n",
       "      <td>Developer_EA DICE</td>\n",
       "      <td>0.020206</td>\n",
       "    </tr>\n",
       "    <tr>\n",
       "      <td>Developer_Ubisoft Montreal</td>\n",
       "      <td>0.020146</td>\n",
       "    </tr>\n",
       "    <tr>\n",
       "      <td>Developer_Rocksteady Studios</td>\n",
       "      <td>0.019378</td>\n",
       "    </tr>\n",
       "    <tr>\n",
       "      <td>Genre_Shooter</td>\n",
       "      <td>0.016612</td>\n",
       "    </tr>\n",
       "    <tr>\n",
       "      <td>Developer_Core Design Ltd.</td>\n",
       "      <td>0.016221</td>\n",
       "    </tr>\n",
       "    <tr>\n",
       "      <td>Platform_X360</td>\n",
       "      <td>0.015728</td>\n",
       "    </tr>\n",
       "    <tr>\n",
       "      <td>ESRB_Rating_T</td>\n",
       "      <td>0.015523</td>\n",
       "    </tr>\n",
       "    <tr>\n",
       "      <td>Developer_Sledgehammer Games</td>\n",
       "      <td>0.014651</td>\n",
       "    </tr>\n",
       "    <tr>\n",
       "      <td>Platform_PS3</td>\n",
       "      <td>0.014377</td>\n",
       "    </tr>\n",
       "    <tr>\n",
       "      <td>ESRB_Rating_M</td>\n",
       "      <td>0.014243</td>\n",
       "    </tr>\n",
       "    <tr>\n",
       "      <td>Platform_PS</td>\n",
       "      <td>0.012993</td>\n",
       "    </tr>\n",
       "    <tr>\n",
       "      <td>Genre_Sports</td>\n",
       "      <td>0.012933</td>\n",
       "    </tr>\n",
       "    <tr>\n",
       "      <td>Developer_Office Create</td>\n",
       "      <td>0.012242</td>\n",
       "    </tr>\n",
       "    <tr>\n",
       "      <td>Developer_Rockstar Leeds</td>\n",
       "      <td>0.012113</td>\n",
       "    </tr>\n",
       "    <tr>\n",
       "      <td>Developer_Reflections Interactive</td>\n",
       "      <td>0.011867</td>\n",
       "    </tr>\n",
       "    <tr>\n",
       "      <td>Developer_High Moon Studios</td>\n",
       "      <td>0.011564</td>\n",
       "    </tr>\n",
       "    <tr>\n",
       "      <td>ESRB_Rating_E</td>\n",
       "      <td>0.011425</td>\n",
       "    </tr>\n",
       "  </tbody>\n",
       "</table>\n",
       "</div>"
      ],
      "text/plain": [
       "                                   importance\n",
       "Critic_Score                         0.200812\n",
       "Platform_PS2                         0.037065\n",
       "Platform_PS4                         0.035378\n",
       "Developer_Naughty Dog                0.033144\n",
       "Developer_Infinity Ward              0.032155\n",
       "Developer_Bethesda Game Studios      0.023041\n",
       "Developer_Rockstar North             0.020745\n",
       "Genre_Action                         0.020405\n",
       "Developer_EA DICE                    0.020206\n",
       "Developer_Ubisoft Montreal           0.020146\n",
       "Developer_Rocksteady Studios         0.019378\n",
       "Genre_Shooter                        0.016612\n",
       "Developer_Core Design Ltd.           0.016221\n",
       "Platform_X360                        0.015728\n",
       "ESRB_Rating_T                        0.015523\n",
       "Developer_Sledgehammer Games         0.014651\n",
       "Platform_PS3                         0.014377\n",
       "ESRB_Rating_M                        0.014243\n",
       "Platform_PS                          0.012993\n",
       "Genre_Sports                         0.012933\n",
       "Developer_Office Create              0.012242\n",
       "Developer_Rockstar Leeds             0.012113\n",
       "Developer_Reflections Interactive    0.011867\n",
       "Developer_High Moon Studios          0.011564\n",
       "ESRB_Rating_E                        0.011425"
      ]
     },
     "execution_count": 55,
     "metadata": {},
     "output_type": "execute_result"
    }
   ],
   "source": [
    "feature_importances.head(25)"
   ]
  },
  {
   "cell_type": "markdown",
   "metadata": {},
   "source": [
    "# Decision Trees"
   ]
  },
  {
   "cell_type": "code",
   "execution_count": 56,
   "metadata": {},
   "outputs": [],
   "source": [
    "X=df[['Genre', 'ESRB_Rating', 'Platform', 'Developer', 'Critic_Score']]\n",
    "y=df['Hit Game']\n",
    "X = pd.get_dummies(X)\n",
    "X_cols = list(X.columns)"
   ]
  },
  {
   "cell_type": "code",
   "execution_count": 57,
   "metadata": {},
   "outputs": [],
   "source": [
    "X_train, X_test, y_train, y_test = train_test_split(X, y, test_size=0.3)"
   ]
  },
  {
   "cell_type": "markdown",
   "metadata": {},
   "source": [
    "# Using Gini"
   ]
  },
  {
   "cell_type": "code",
   "execution_count": 58,
   "metadata": {
    "scrolled": false
   },
   "outputs": [
    {
     "data": {
      "text/plain": [
       "[Text(234.8714453584019, 213.0912, 'X[0] <= 8.55\\ngini = 0.211\\nsamples = 910\\nvalue = [801, 109]'),\n",
       " Text(174.28484136310226, 204.3936, 'X[378] <= 0.5\\ngini = 0.122\\nsamples = 722\\nvalue = [675, 47]'),\n",
       " Text(170.08836662749707, 195.696, 'X[220] <= 0.5\\ngini = 0.115\\nsamples = 719\\nvalue = [675, 44]'),\n",
       " Text(165.8918918918919, 186.9984, 'X[33] <= 0.5\\ngini = 0.108\\nsamples = 716\\nvalue = [675, 41]'),\n",
       " Text(154.35158636897768, 178.3008, 'X[121] <= 0.5\\ngini = 0.076\\nsamples = 653\\nvalue = [627, 26]'),\n",
       " Text(150.1551116333725, 169.60320000000002, 'X[141] <= 0.5\\ngini = 0.071\\nsamples = 651\\nvalue = [627, 24]'),\n",
       " Text(145.95863689776735, 160.9056, 'X[62] <= 0.5\\ngini = 0.065\\nsamples = 649\\nvalue = [627, 22]'),\n",
       " Text(141.76216216216218, 152.208, 'X[351] <= 0.5\\ngini = 0.063\\nsamples = 648\\nvalue = [627, 21]'),\n",
       " Text(137.56568742655702, 143.5104, 'X[105] <= 0.5\\ngini = 0.06\\nsamples = 647\\nvalue = [627, 20]'),\n",
       " Text(133.36921269095183, 134.81279999999998, 'X[254] <= 0.5\\ngini = 0.057\\nsamples = 646\\nvalue = [627, 19]'),\n",
       " Text(129.17273795534666, 126.1152, 'X[161] <= 0.5\\ngini = 0.054\\nsamples = 645\\nvalue = [627, 18]'),\n",
       " Text(124.9762632197415, 117.41760000000001, 'X[131] <= 0.5\\ngini = 0.051\\nsamples = 644\\nvalue = [627, 17]'),\n",
       " Text(120.77978848413632, 108.72, 'X[432] <= 0.5\\ngini = 0.049\\nsamples = 643\\nvalue = [627, 16]'),\n",
       " Text(104.1250293772033, 100.0224, 'X[369] <= 0.5\\ngini = 0.04\\nsamples = 629\\nvalue = [616, 13]'),\n",
       " Text(91.79788484136311, 91.32480000000001, 'X[305] <= 0.5\\ngini = 0.035\\nsamples = 622\\nvalue = [611, 11]'),\n",
       " Text(79.73301997649824, 82.62720000000002, 'X[354] <= 0.5\\ngini = 0.032\\nsamples = 620\\nvalue = [610, 10]'),\n",
       " Text(68.19271445358403, 73.9296, 'X[207] <= 0.5\\ngini = 0.029\\nsamples = 618\\nvalue = [609, 9]'),\n",
       " Text(57.7015276145711, 65.232, 'X[304] <= 0.5\\ngini = 0.026\\nsamples = 616\\nvalue = [608, 8]'),\n",
       " Text(49.308578143360755, 56.534400000000005, 'X[182] <= 0.5\\ngini = 0.023\\nsamples = 614\\nvalue = [607, 7]'),\n",
       " Text(45.11210340775558, 47.83680000000001, 'X[35] <= 0.5\\ngini = 0.019\\nsamples = 612\\nvalue = [606, 6]'),\n",
       " Text(27.27708578143361, 39.13920000000002, 'X[222] <= 0.5\\ngini = 0.01\\nsamples = 589\\nvalue = [586, 3]'),\n",
       " Text(16.785898942420683, 30.441599999999994, 'X[145] <= 0.5\\ngini = 0.007\\nsamples = 586\\nvalue = [584, 2]'),\n",
       " Text(8.392949471210342, 21.744, 'X[394] <= 0.5\\ngini = 0.003\\nsamples = 583\\nvalue = [582, 1]'),\n",
       " Text(4.196474735605171, 13.046400000000006, 'gini = 0.0\\nsamples = 572\\nvalue = [572, 0]'),\n",
       " Text(12.589424206815512, 13.046400000000006, 'X[34] <= 0.5\\ngini = 0.165\\nsamples = 11\\nvalue = [10, 1]'),\n",
       " Text(8.392949471210342, 4.348800000000011, 'gini = 0.0\\nsamples = 10\\nvalue = [10, 0]'),\n",
       " Text(16.785898942420683, 4.348800000000011, 'gini = 0.0\\nsamples = 1\\nvalue = [0, 1]'),\n",
       " Text(25.178848413631023, 21.744, 'X[25] <= 0.5\\ngini = 0.444\\nsamples = 3\\nvalue = [2, 1]'),\n",
       " Text(20.982373678025855, 13.046400000000006, 'gini = 0.0\\nsamples = 2\\nvalue = [2, 0]'),\n",
       " Text(29.375323149236195, 13.046400000000006, 'gini = 0.0\\nsamples = 1\\nvalue = [0, 1]'),\n",
       " Text(37.76827262044654, 30.441599999999994, 'X[15] <= 0.5\\ngini = 0.444\\nsamples = 3\\nvalue = [2, 1]'),\n",
       " Text(33.57179788484137, 21.744, 'gini = 0.0\\nsamples = 1\\nvalue = [1, 0]'),\n",
       " Text(41.96474735605171, 21.744, 'gini = 0.5\\nsamples = 2\\nvalue = [1, 1]'),\n",
       " Text(62.94712103407756, 39.13920000000002, 'X[19] <= 0.5\\ngini = 0.227\\nsamples = 23\\nvalue = [20, 3]'),\n",
       " Text(54.55417156286722, 30.441599999999994, 'X[394] <= 0.5\\ngini = 0.095\\nsamples = 20\\nvalue = [19, 1]'),\n",
       " Text(50.357696827262046, 21.744, 'gini = 0.0\\nsamples = 19\\nvalue = [19, 0]'),\n",
       " Text(58.75064629847239, 21.744, 'gini = 0.0\\nsamples = 1\\nvalue = [0, 1]'),\n",
       " Text(71.3400705052879, 30.441599999999994, 'X[115] <= 0.5\\ngini = 0.444\\nsamples = 3\\nvalue = [1, 2]'),\n",
       " Text(67.14359576968273, 21.744, 'gini = 0.0\\nsamples = 2\\nvalue = [0, 2]'),\n",
       " Text(75.53654524089308, 21.744, 'gini = 0.0\\nsamples = 1\\nvalue = [1, 0]'),\n",
       " Text(53.50505287896593, 47.83680000000001, 'gini = 0.5\\nsamples = 2\\nvalue = [1, 1]'),\n",
       " Text(66.09447708578143, 56.534400000000005, 'X[21] <= 0.5\\ngini = 0.5\\nsamples = 2\\nvalue = [1, 1]'),\n",
       " Text(61.89800235017627, 47.83680000000001, 'gini = 0.0\\nsamples = 1\\nvalue = [1, 0]'),\n",
       " Text(70.29095182138661, 47.83680000000001, 'gini = 0.0\\nsamples = 1\\nvalue = [0, 1]'),\n",
       " Text(78.68390129259696, 65.232, 'X[0] <= 7.75\\ngini = 0.5\\nsamples = 2\\nvalue = [1, 1]'),\n",
       " Text(74.48742655699178, 56.534400000000005, 'gini = 0.0\\nsamples = 1\\nvalue = [1, 0]'),\n",
       " Text(82.88037602820212, 56.534400000000005, 'gini = 0.0\\nsamples = 1\\nvalue = [0, 1]'),\n",
       " Text(91.27332549941246, 73.9296, 'X[34] <= 0.5\\ngini = 0.5\\nsamples = 2\\nvalue = [1, 1]'),\n",
       " Text(87.0768507638073, 65.232, 'gini = 0.0\\nsamples = 1\\nvalue = [1, 0]'),\n",
       " Text(95.46980023501763, 65.232, 'gini = 0.0\\nsamples = 1\\nvalue = [0, 1]'),\n",
       " Text(103.86274970622797, 82.62720000000002, 'X[0] <= 6.25\\ngini = 0.5\\nsamples = 2\\nvalue = [1, 1]'),\n",
       " Text(99.66627497062281, 73.9296, 'gini = 0.0\\nsamples = 1\\nvalue = [1, 0]'),\n",
       " Text(108.05922444183315, 73.9296, 'gini = 0.0\\nsamples = 1\\nvalue = [0, 1]'),\n",
       " Text(116.4521739130435, 91.32480000000001, 'X[17] <= 0.5\\ngini = 0.408\\nsamples = 7\\nvalue = [5, 2]'),\n",
       " Text(112.25569917743832, 82.62720000000002, 'gini = 0.0\\nsamples = 3\\nvalue = [3, 0]'),\n",
       " Text(120.64864864864866, 82.62720000000002, 'X[40] <= 0.5\\ngini = 0.5\\nsamples = 4\\nvalue = [2, 2]'),\n",
       " Text(116.4521739130435, 73.9296, 'X[0] <= 6.75\\ngini = 0.444\\nsamples = 3\\nvalue = [2, 1]'),\n",
       " Text(112.25569917743832, 65.232, 'gini = 0.0\\nsamples = 1\\nvalue = [1, 0]'),\n",
       " Text(120.64864864864866, 65.232, 'X[0] <= 7.3\\ngini = 0.5\\nsamples = 2\\nvalue = [1, 1]'),\n",
       " Text(116.4521739130435, 56.534400000000005, 'gini = 0.0\\nsamples = 1\\nvalue = [0, 1]'),\n",
       " Text(124.84512338425384, 56.534400000000005, 'gini = 0.0\\nsamples = 1\\nvalue = [1, 0]'),\n",
       " Text(124.84512338425384, 73.9296, 'gini = 0.0\\nsamples = 1\\nvalue = [0, 1]'),\n",
       " Text(137.43454759106933, 100.0224, 'X[1] <= 0.5\\ngini = 0.337\\nsamples = 14\\nvalue = [11, 3]'),\n",
       " Text(133.23807285546417, 91.32480000000001, 'X[35] <= 0.5\\ngini = 0.153\\nsamples = 12\\nvalue = [11, 1]'),\n",
       " Text(129.041598119859, 82.62720000000002, 'gini = 0.0\\nsamples = 9\\nvalue = [9, 0]'),\n",
       " Text(137.43454759106933, 82.62720000000002, 'X[15] <= 0.5\\ngini = 0.444\\nsamples = 3\\nvalue = [2, 1]'),\n",
       " Text(133.23807285546417, 73.9296, 'gini = 0.0\\nsamples = 2\\nvalue = [2, 0]'),\n",
       " Text(141.63102232667453, 73.9296, 'gini = 0.0\\nsamples = 1\\nvalue = [0, 1]'),\n",
       " Text(141.63102232667453, 91.32480000000001, 'gini = 0.0\\nsamples = 2\\nvalue = [0, 2]'),\n",
       " Text(129.17273795534666, 108.72, 'gini = 0.0\\nsamples = 1\\nvalue = [0, 1]'),\n",
       " Text(133.36921269095183, 117.41760000000001, 'gini = 0.0\\nsamples = 1\\nvalue = [0, 1]'),\n",
       " Text(137.56568742655702, 126.1152, 'gini = 0.0\\nsamples = 1\\nvalue = [0, 1]'),\n",
       " Text(141.76216216216218, 134.81279999999998, 'gini = 0.0\\nsamples = 1\\nvalue = [0, 1]'),\n",
       " Text(145.95863689776735, 143.5104, 'gini = 0.0\\nsamples = 1\\nvalue = [0, 1]'),\n",
       " Text(150.1551116333725, 152.208, 'gini = 0.0\\nsamples = 1\\nvalue = [0, 1]'),\n",
       " Text(154.35158636897768, 160.9056, 'gini = 0.0\\nsamples = 2\\nvalue = [0, 2]'),\n",
       " Text(158.54806110458287, 169.60320000000002, 'gini = 0.0\\nsamples = 2\\nvalue = [0, 2]'),\n",
       " Text(177.43219741480613, 178.3008, 'X[0] <= 8.05\\ngini = 0.363\\nsamples = 63\\nvalue = [48, 15]'),\n",
       " Text(166.9410105757932, 169.60320000000002, 'X[422] <= 0.5\\ngini = 0.206\\nsamples = 43\\nvalue = [38, 5]'),\n",
       " Text(162.74453584018804, 160.9056, 'X[143] <= 0.5\\ngini = 0.136\\nsamples = 41\\nvalue = [38, 3]'),\n",
       " Text(158.54806110458287, 152.208, 'X[412] <= 0.5\\ngini = 0.095\\nsamples = 40\\nvalue = [38, 2]'),\n",
       " Text(154.35158636897768, 143.5104, 'X[459] <= 0.5\\ngini = 0.05\\nsamples = 39\\nvalue = [38, 1]'),\n",
       " Text(150.1551116333725, 134.81279999999998, 'gini = 0.0\\nsamples = 38\\nvalue = [38, 0]'),\n",
       " Text(158.54806110458287, 134.81279999999998, 'gini = 0.0\\nsamples = 1\\nvalue = [0, 1]'),\n",
       " Text(162.74453584018804, 143.5104, 'gini = 0.0\\nsamples = 1\\nvalue = [0, 1]'),\n",
       " Text(166.9410105757932, 152.208, 'gini = 0.0\\nsamples = 1\\nvalue = [0, 1]'),\n",
       " Text(171.13748531139836, 160.9056, 'gini = 0.0\\nsamples = 2\\nvalue = [0, 2]'),\n",
       " Text(187.92338425381905, 169.60320000000002, 'X[19] <= 0.5\\ngini = 0.5\\nsamples = 20\\nvalue = [10, 10]'),\n",
       " Text(179.53043478260872, 160.9056, 'X[312] <= 0.5\\ngini = 0.459\\nsamples = 14\\nvalue = [9, 5]'),\n",
       " Text(175.33396004700353, 152.208, 'X[94] <= 0.5\\ngini = 0.375\\nsamples = 12\\nvalue = [9, 3]'),\n",
       " Text(171.13748531139836, 143.5104, 'X[346] <= 0.5\\ngini = 0.298\\nsamples = 11\\nvalue = [9, 2]'),\n",
       " Text(166.9410105757932, 134.81279999999998, 'X[399] <= 0.5\\ngini = 0.18\\nsamples = 10\\nvalue = [9, 1]'),\n",
       " Text(162.74453584018804, 126.1152, 'gini = 0.0\\nsamples = 9\\nvalue = [9, 0]'),\n",
       " Text(171.13748531139836, 126.1152, 'gini = 0.0\\nsamples = 1\\nvalue = [0, 1]'),\n",
       " Text(175.33396004700353, 134.81279999999998, 'gini = 0.0\\nsamples = 1\\nvalue = [0, 1]'),\n",
       " Text(179.53043478260872, 143.5104, 'gini = 0.0\\nsamples = 1\\nvalue = [0, 1]'),\n",
       " Text(183.7269095182139, 152.208, 'gini = 0.0\\nsamples = 2\\nvalue = [0, 2]'),\n",
       " Text(196.3163337250294, 160.9056, 'X[11] <= 0.5\\ngini = 0.278\\nsamples = 6\\nvalue = [1, 5]'),\n",
       " Text(192.11985898942422, 152.208, 'gini = 0.0\\nsamples = 5\\nvalue = [0, 5]'),\n",
       " Text(200.51280846063457, 152.208, 'gini = 0.0\\nsamples = 1\\nvalue = [1, 0]'),\n",
       " Text(174.28484136310226, 186.9984, 'gini = 0.0\\nsamples = 3\\nvalue = [0, 3]'),\n",
       " Text(178.48131609870742, 195.696, 'gini = 0.0\\nsamples = 3\\nvalue = [0, 3]'),\n",
       " Text(295.45804935370154, 204.3936, 'X[1] <= 0.5\\ngini = 0.442\\nsamples = 188\\nvalue = [126, 62]'),\n",
       " Text(264.5090481786134, 195.696, 'X[80] <= 0.5\\ngini = 0.395\\nsamples = 155\\nvalue = [113, 42]'),\n",
       " Text(260.31257344300826, 186.9984, 'X[17] <= 0.5\\ngini = 0.377\\nsamples = 151\\nvalue = [113, 38]'),\n",
       " Text(236.18284371327852, 178.3008, 'X[15] <= 0.5\\ngini = 0.322\\nsamples = 129\\nvalue = [103, 26]'),\n",
       " Text(221.49518213866043, 169.60320000000002, 'X[7] <= 0.5\\ngini = 0.228\\nsamples = 99\\nvalue = [86, 13]'),\n",
       " Text(213.10223266745007, 160.9056, 'X[427] <= 0.5\\ngini = 0.203\\nsamples = 96\\nvalue = [85, 11]'),\n",
       " Text(208.9057579318449, 152.208, 'X[345] <= 0.5\\ngini = 0.188\\nsamples = 95\\nvalue = [85, 10]'),\n",
       " Text(204.70928319623974, 143.5104, 'X[283] <= 0.5\\ngini = 0.173\\nsamples = 94\\nvalue = [85, 9]'),\n",
       " Text(200.51280846063457, 134.81279999999998, 'X[99] <= 0.5\\ngini = 0.157\\nsamples = 93\\nvalue = [85, 8]'),\n",
       " Text(196.3163337250294, 126.1152, 'X[139] <= 0.5\\ngini = 0.141\\nsamples = 92\\nvalue = [85, 7]'),\n",
       " Text(192.11985898942422, 117.41760000000001, 'X[432] <= 0.5\\ngini = 0.123\\nsamples = 91\\nvalue = [85, 6]'),\n",
       " Text(187.92338425381905, 108.72, 'X[222] <= 0.5\\ngini = 0.105\\nsamples = 90\\nvalue = [85, 5]'),\n",
       " Text(176.38307873090483, 100.0224, 'X[428] <= 0.5\\ngini = 0.069\\nsamples = 84\\nvalue = [81, 3]'),\n",
       " Text(165.8918918918919, 91.32480000000001, 'X[262] <= 0.5\\ngini = 0.048\\nsamples = 82\\nvalue = [80, 2]'),\n",
       " Text(157.49894242068157, 82.62720000000002, 'X[277] <= 0.5\\ngini = 0.025\\nsamples = 80\\nvalue = [79, 1]'),\n",
       " Text(153.3024676850764, 73.9296, 'gini = 0.0\\nsamples = 75\\nvalue = [75, 0]'),\n",
       " Text(161.69541715628674, 73.9296, 'X[33] <= 0.5\\ngini = 0.32\\nsamples = 5\\nvalue = [4, 1]'),\n",
       " Text(157.49894242068157, 65.232, 'gini = 0.0\\nsamples = 4\\nvalue = [4, 0]'),\n",
       " Text(165.8918918918919, 65.232, 'gini = 0.0\\nsamples = 1\\nvalue = [0, 1]'),\n",
       " Text(174.28484136310226, 82.62720000000002, 'X[0] <= 9.25\\ngini = 0.5\\nsamples = 2\\nvalue = [1, 1]'),\n",
       " Text(170.08836662749707, 73.9296, 'gini = 0.0\\nsamples = 1\\nvalue = [1, 0]'),\n",
       " Text(178.48131609870742, 73.9296, 'gini = 0.0\\nsamples = 1\\nvalue = [0, 1]'),\n",
       " Text(186.87426556991775, 91.32480000000001, 'X[0] <= 9.0\\ngini = 0.5\\nsamples = 2\\nvalue = [1, 1]'),\n",
       " Text(182.6777908343126, 82.62720000000002, 'gini = 0.0\\nsamples = 1\\nvalue = [1, 0]'),\n",
       " Text(191.07074030552295, 82.62720000000002, 'gini = 0.0\\nsamples = 1\\nvalue = [0, 1]'),\n",
       " Text(199.46368977673328, 100.0224, 'X[32] <= 0.5\\ngini = 0.444\\nsamples = 6\\nvalue = [4, 2]'),\n",
       " Text(195.2672150411281, 91.32480000000001, 'gini = 0.0\\nsamples = 4\\nvalue = [4, 0]'),\n",
       " Text(203.66016451233844, 91.32480000000001, 'gini = 0.0\\nsamples = 2\\nvalue = [0, 2]'),\n",
       " Text(196.3163337250294, 108.72, 'gini = 0.0\\nsamples = 1\\nvalue = [0, 1]'),\n",
       " Text(200.51280846063457, 117.41760000000001, 'gini = 0.0\\nsamples = 1\\nvalue = [0, 1]'),\n",
       " Text(204.70928319623974, 126.1152, 'gini = 0.0\\nsamples = 1\\nvalue = [0, 1]'),\n",
       " Text(208.9057579318449, 134.81279999999998, 'gini = 0.0\\nsamples = 1\\nvalue = [0, 1]'),\n",
       " Text(213.10223266745007, 143.5104, 'gini = 0.0\\nsamples = 1\\nvalue = [0, 1]'),\n",
       " Text(217.29870740305526, 152.208, 'gini = 0.0\\nsamples = 1\\nvalue = [0, 1]'),\n",
       " Text(229.88813160987075, 160.9056, 'X[32] <= 0.5\\ngini = 0.444\\nsamples = 3\\nvalue = [1, 2]'),\n",
       " Text(225.6916568742656, 152.208, 'gini = 0.0\\nsamples = 2\\nvalue = [0, 2]'),\n",
       " Text(234.08460634547595, 152.208, 'gini = 0.0\\nsamples = 1\\nvalue = [1, 0]'),\n",
       " Text(250.8705052878966, 169.60320000000002, 'X[424] <= 0.5\\ngini = 0.491\\nsamples = 30\\nvalue = [17, 13]'),\n",
       " Text(246.67403055229144, 160.9056, 'X[96] <= 0.5\\ngini = 0.477\\nsamples = 28\\nvalue = [17, 11]'),\n",
       " Text(242.47755581668628, 152.208, 'X[220] <= 0.5\\ngini = 0.453\\nsamples = 26\\nvalue = [17, 9]'),\n",
       " Text(234.08460634547595, 143.5104, 'X[208] <= 0.5\\ngini = 0.375\\nsamples = 20\\nvalue = [15, 5]'),\n",
       " Text(229.88813160987075, 134.81279999999998, 'X[141] <= 0.5\\ngini = 0.332\\nsamples = 19\\nvalue = [15, 4]'),\n",
       " Text(225.6916568742656, 126.1152, 'X[88] <= 0.5\\ngini = 0.278\\nsamples = 18\\nvalue = [15, 3]'),\n",
       " Text(221.49518213866043, 117.41760000000001, 'X[33] <= 0.5\\ngini = 0.208\\nsamples = 17\\nvalue = [15, 2]'),\n",
       " Text(217.29870740305526, 108.72, 'X[110] <= 0.5\\ngini = 0.117\\nsamples = 16\\nvalue = [15, 1]'),\n",
       " Text(213.10223266745007, 100.0224, 'gini = 0.0\\nsamples = 15\\nvalue = [15, 0]'),\n",
       " Text(221.49518213866043, 100.0224, 'gini = 0.0\\nsamples = 1\\nvalue = [0, 1]'),\n",
       " Text(225.6916568742656, 108.72, 'gini = 0.0\\nsamples = 1\\nvalue = [0, 1]'),\n",
       " Text(229.88813160987075, 117.41760000000001, 'gini = 0.0\\nsamples = 1\\nvalue = [0, 1]'),\n",
       " Text(234.08460634547595, 126.1152, 'gini = 0.0\\nsamples = 1\\nvalue = [0, 1]'),\n",
       " Text(238.2810810810811, 134.81279999999998, 'gini = 0.0\\nsamples = 1\\nvalue = [0, 1]'),\n",
       " Text(250.8705052878966, 143.5104, 'X[0] <= 9.15\\ngini = 0.444\\nsamples = 6\\nvalue = [2, 4]'),\n",
       " Text(246.67403055229144, 134.81279999999998, 'X[34] <= 0.5\\ngini = 0.444\\nsamples = 3\\nvalue = [2, 1]'),\n",
       " Text(242.47755581668628, 126.1152, 'gini = 0.0\\nsamples = 2\\nvalue = [2, 0]'),\n",
       " Text(250.8705052878966, 126.1152, 'gini = 0.0\\nsamples = 1\\nvalue = [0, 1]'),\n",
       " Text(255.0669800235018, 134.81279999999998, 'gini = 0.0\\nsamples = 3\\nvalue = [0, 3]'),\n",
       " Text(250.8705052878966, 152.208, 'gini = 0.0\\nsamples = 2\\nvalue = [0, 2]'),\n",
       " Text(255.0669800235018, 160.9056, 'gini = 0.0\\nsamples = 2\\nvalue = [0, 2]'),\n",
       " Text(284.442303172738, 178.3008, 'X[449] <= 0.5\\ngini = 0.496\\nsamples = 22\\nvalue = [10, 12]'),\n",
       " Text(276.04935370152765, 169.60320000000002, 'X[0] <= 8.65\\ngini = 0.457\\nsamples = 17\\nvalue = [6, 11]'),\n",
       " Text(271.85287896592246, 160.9056, 'gini = 0.0\\nsamples = 2\\nvalue = [2, 0]'),\n",
       " Text(280.2458284371328, 160.9056, 'X[244] <= 0.5\\ngini = 0.391\\nsamples = 15\\nvalue = [4, 11]'),\n",
       " Text(276.04935370152765, 152.208, 'X[245] <= 0.5\\ngini = 0.337\\nsamples = 14\\nvalue = [3, 11]'),\n",
       " Text(267.6564042303173, 143.5104, 'X[0] <= 9.05\\ngini = 0.278\\nsamples = 12\\nvalue = [2, 10]'),\n",
       " Text(263.4599294947121, 134.81279999999998, 'X[35] <= 0.5\\ngini = 0.444\\nsamples = 6\\nvalue = [2, 4]'),\n",
       " Text(259.26345475910693, 126.1152, 'X[34] <= 0.5\\ngini = 0.48\\nsamples = 5\\nvalue = [2, 3]'),\n",
       " Text(255.0669800235018, 117.41760000000001, 'gini = 0.5\\nsamples = 2\\nvalue = [1, 1]'),\n",
       " Text(263.4599294947121, 117.41760000000001, 'X[0] <= 8.85\\ngini = 0.444\\nsamples = 3\\nvalue = [1, 2]'),\n",
       " Text(259.26345475910693, 108.72, 'gini = 0.0\\nsamples = 1\\nvalue = [0, 1]'),\n",
       " Text(267.6564042303173, 108.72, 'gini = 0.5\\nsamples = 2\\nvalue = [1, 1]'),\n",
       " Text(267.6564042303173, 126.1152, 'gini = 0.0\\nsamples = 1\\nvalue = [0, 1]'),\n",
       " Text(271.85287896592246, 134.81279999999998, 'gini = 0.0\\nsamples = 6\\nvalue = [0, 6]'),\n",
       " Text(284.442303172738, 143.5104, 'X[0] <= 9.05\\ngini = 0.5\\nsamples = 2\\nvalue = [1, 1]'),\n",
       " Text(280.2458284371328, 134.81279999999998, 'gini = 0.0\\nsamples = 1\\nvalue = [0, 1]'),\n",
       " Text(288.6387779083432, 134.81279999999998, 'gini = 0.0\\nsamples = 1\\nvalue = [1, 0]'),\n",
       " Text(284.442303172738, 152.208, 'gini = 0.0\\nsamples = 1\\nvalue = [1, 0]'),\n",
       " Text(292.8352526439483, 169.60320000000002, 'X[35] <= 0.5\\ngini = 0.32\\nsamples = 5\\nvalue = [4, 1]'),\n",
       " Text(288.6387779083432, 160.9056, 'gini = 0.0\\nsamples = 4\\nvalue = [4, 0]'),\n",
       " Text(297.0317273795535, 160.9056, 'gini = 0.0\\nsamples = 1\\nvalue = [0, 1]'),\n",
       " Text(268.7055229142186, 186.9984, 'gini = 0.0\\nsamples = 4\\nvalue = [0, 4]'),\n",
       " Text(326.4070505287897, 195.696, 'X[317] <= 0.5\\ngini = 0.478\\nsamples = 33\\nvalue = [13, 20]'),\n",
       " Text(322.21057579318455, 186.9984, 'X[30] <= 0.5\\ngini = 0.428\\nsamples = 29\\nvalue = [9, 20]'),\n",
       " Text(318.01410105757935, 178.3008, 'X[240] <= 0.5\\ngini = 0.384\\nsamples = 27\\nvalue = [7, 20]'),\n",
       " Text(309.621151586369, 169.60320000000002, 'X[117] <= 0.5\\ngini = 0.287\\nsamples = 23\\nvalue = [4, 19]'),\n",
       " Text(305.42467685076383, 160.9056, 'X[54] <= 0.5\\ngini = 0.236\\nsamples = 22\\nvalue = [3, 19]'),\n",
       " Text(301.2282021151587, 152.208, 'X[432] <= 0.5\\ngini = 0.172\\nsamples = 21\\nvalue = [2, 19]'),\n",
       " Text(297.0317273795535, 143.5104, 'gini = 0.0\\nsamples = 16\\nvalue = [0, 16]'),\n",
       " Text(305.42467685076383, 143.5104, 'X[0] <= 8.7\\ngini = 0.48\\nsamples = 5\\nvalue = [2, 3]'),\n",
       " Text(301.2282021151587, 134.81279999999998, 'gini = 0.0\\nsamples = 1\\nvalue = [1, 0]'),\n",
       " Text(309.621151586369, 134.81279999999998, 'X[34] <= 0.5\\ngini = 0.375\\nsamples = 4\\nvalue = [1, 3]'),\n",
       " Text(305.42467685076383, 126.1152, 'gini = 0.0\\nsamples = 2\\nvalue = [0, 2]'),\n",
       " Text(313.81762632197416, 126.1152, 'X[0] <= 8.95\\ngini = 0.5\\nsamples = 2\\nvalue = [1, 1]'),\n",
       " Text(309.621151586369, 117.41760000000001, 'gini = 0.0\\nsamples = 1\\nvalue = [0, 1]'),\n",
       " Text(318.01410105757935, 117.41760000000001, 'gini = 0.0\\nsamples = 1\\nvalue = [1, 0]'),\n",
       " Text(309.621151586369, 152.208, 'gini = 0.0\\nsamples = 1\\nvalue = [1, 0]'),\n",
       " Text(313.81762632197416, 160.9056, 'gini = 0.0\\nsamples = 1\\nvalue = [1, 0]'),\n",
       " Text(326.4070505287897, 169.60320000000002, 'X[34] <= 0.5\\ngini = 0.375\\nsamples = 4\\nvalue = [3, 1]'),\n",
       " Text(322.21057579318455, 160.9056, 'gini = 0.0\\nsamples = 3\\nvalue = [3, 0]'),\n",
       " Text(330.6035252643949, 160.9056, 'gini = 0.0\\nsamples = 1\\nvalue = [0, 1]'),\n",
       " Text(326.4070505287897, 178.3008, 'gini = 0.0\\nsamples = 2\\nvalue = [2, 0]'),\n",
       " Text(330.6035252643949, 186.9984, 'gini = 0.0\\nsamples = 4\\nvalue = [4, 0]')]"
      ]
     },
     "execution_count": 58,
     "metadata": {},
     "output_type": "execute_result"
    },
    {
     "data": {
      "image/png": "[encoded data removed]",
      "text/plain": [
       "<Figure size 432x288 with 1 Axes>"
      ]
     },
     "metadata": {
      "needs_background": "light"
     },
     "output_type": "display_data"
    }
   ],
   "source": [
    "clf_g = tree.DecisionTreeClassifier(criterion=\"gini\")\n",
    "clf_g = clf_g.fit(X_train, y_train)\n",
    "y_pred = clf_g.predict(X_test)\n",
    "tree.plot_tree(clf_g)"
   ]
  },
  {
   "cell_type": "code",
   "execution_count": 59,
   "metadata": {},
   "outputs": [],
   "source": [
    "deci_tree_gini_accuracy = metrics.accuracy_score(y_test, y_pred)"
   ]
  },
  {
   "cell_type": "code",
   "execution_count": 60,
   "metadata": {},
   "outputs": [
    {
     "name": "stdout",
     "output_type": "stream",
     "text": [
      "Accuracy:  93.58974358974359 %\n"
     ]
    }
   ],
   "source": [
    "print ((\"Accuracy: \"), deci_tree_gini_accuracy*100, \"%\" )"
   ]
  },
  {
   "cell_type": "code",
   "execution_count": 61,
   "metadata": {},
   "outputs": [],
   "source": [
    "confuse = confusion_matrix(y_test,y_pred)"
   ]
  },
  {
   "cell_type": "code",
   "execution_count": 62,
   "metadata": {},
   "outputs": [
    {
     "data": {
      "text/plain": [
       "array([[331,  10],\n",
       "       [ 15,  34]], dtype=int64)"
      ]
     },
     "execution_count": 62,
     "metadata": {},
     "output_type": "execute_result"
    }
   ],
   "source": [
    "confuse"
   ]
  },
  {
   "cell_type": "code",
   "execution_count": 63,
   "metadata": {},
   "outputs": [
    {
     "data": {
      "image/png": "[encoded data removed]",
      "text/plain": [
       "<Figure size 648x648 with 2 Axes>"
      ]
     },
     "metadata": {
      "needs_background": "light"
     },
     "output_type": "display_data"
    }
   ],
   "source": [
    "plt.figure(figsize=(9,9))\n",
    "sns.heatmap(confuse, annot=True, fmt=\".3f\", linewidths=.5, square = True, cmap = 'RdBu_r',annot_kws={\"size\":14})\n",
    "plt.ylabel('Actual label');\n",
    "plt.xlabel('Predicted label');\n",
    "all_sample_title = 'Accuracy Score: {0}'.format(deci_tree_gini_accuracy)\n",
    "plt.title(all_sample_title, size = 15);"
   ]
  },
  {
   "cell_type": "markdown",
   "metadata": {},
   "source": [
    "## Using Entropy"
   ]
  },
  {
   "cell_type": "code",
   "execution_count": 64,
   "metadata": {
    "scrolled": true
   },
   "outputs": [
    {
     "data": {
      "text/plain": [
       "[Text(203.59028571428573, 212.004, 'X[0] <= 8.15\\nentropy = 0.529\\nsamples = 910\\nvalue = [801, 109]'),\n",
       " Text(122.56868571428572, 201.132, 'X[220] <= 0.5\\nentropy = 0.255\\nsamples = 583\\nvalue = [558, 25]'),\n",
       " Text(118.48731428571429, 190.26, 'X[35] <= 0.5\\nentropy = 0.233\\nsamples = 580\\nvalue = [558, 22]'),\n",
       " Text(102.16182857142857, 179.388, 'X[422] <= 0.5\\nentropy = 0.197\\nsamples = 557\\nvalue = [540, 17]'),\n",
       " Text(93.99908571428573, 168.516, 'X[62] <= 0.5\\nentropy = 0.18\\nsamples = 554\\nvalue = [539, 15]'),\n",
       " Text(89.9177142857143, 157.644, 'X[121] <= 0.5\\nentropy = 0.17\\nsamples = 553\\nvalue = [539, 14]'),\n",
       " Text(85.83634285714287, 146.772, 'X[254] <= 0.5\\nentropy = 0.161\\nsamples = 552\\nvalue = [539, 13]'),\n",
       " Text(81.75497142857144, 135.9, 'X[105] <= 0.5\\nentropy = 0.151\\nsamples = 551\\nvalue = [539, 12]'),\n",
       " Text(77.67360000000001, 125.02799999999999, 'X[412] <= 0.5\\nentropy = 0.141\\nsamples = 550\\nvalue = [539, 11]'),\n",
       " Text(73.59222857142858, 114.156, 'X[369] <= 0.5\\nentropy = 0.131\\nsamples = 549\\nvalue = [539, 10]'),\n",
       " Text(61.475657142857145, 103.28399999999999, 'X[305] <= 0.5\\nentropy = 0.111\\nsamples = 542\\nvalue = [534, 8]'),\n",
       " Text(49.486628571428575, 92.412, 'X[33] <= 0.5\\nentropy = 0.1\\nsamples = 540\\nvalue = [533, 7]'),\n",
       " Text(37.75268571428572, 81.53999999999999, 'X[354] <= 0.5\\nentropy = 0.068\\nsamples = 497\\nvalue = [493, 4]'),\n",
       " Text(26.528914285714286, 70.668, 'X[145] <= 0.5\\nentropy = 0.053\\nsamples = 495\\nvalue = [492, 3]'),\n",
       " Text(16.325485714285715, 59.79599999999999, 'X[432] <= 0.5\\nentropy = 0.038\\nsamples = 492\\nvalue = [490, 2]'),\n",
       " Text(8.162742857142858, 48.92400000000001, 'X[394] <= 0.5\\nentropy = 0.021\\nsamples = 488\\nvalue = [487, 1]'),\n",
       " Text(4.081371428571429, 38.05199999999999, 'entropy = 0.0\\nsamples = 477\\nvalue = [477, 0]'),\n",
       " Text(12.244114285714286, 38.05199999999999, 'X[34] <= 0.5\\nentropy = 0.439\\nsamples = 11\\nvalue = [10, 1]'),\n",
       " Text(8.162742857142858, 27.180000000000007, 'entropy = 0.0\\nsamples = 10\\nvalue = [10, 0]'),\n",
       " Text(16.325485714285715, 27.180000000000007, 'entropy = 0.0\\nsamples = 1\\nvalue = [0, 1]'),\n",
       " Text(24.48822857142857, 48.92400000000001, 'X[21] <= 0.5\\nentropy = 0.811\\nsamples = 4\\nvalue = [3, 1]'),\n",
       " Text(20.406857142857145, 38.05199999999999, 'entropy = 0.0\\nsamples = 3\\nvalue = [3, 0]'),\n",
       " Text(28.5696, 38.05199999999999, 'entropy = 0.0\\nsamples = 1\\nvalue = [0, 1]'),\n",
       " Text(36.73234285714286, 59.79599999999999, 'X[25] <= 0.5\\nentropy = 0.918\\nsamples = 3\\nvalue = [2, 1]'),\n",
       " Text(32.65097142857143, 48.92400000000001, 'entropy = 0.0\\nsamples = 2\\nvalue = [2, 0]'),\n",
       " Text(40.81371428571429, 48.92400000000001, 'entropy = 0.0\\nsamples = 1\\nvalue = [0, 1]'),\n",
       " Text(48.97645714285714, 70.668, 'X[0] <= 7.65\\nentropy = 1.0\\nsamples = 2\\nvalue = [1, 1]'),\n",
       " Text(44.89508571428572, 59.79599999999999, 'entropy = 0.0\\nsamples = 1\\nvalue = [0, 1]'),\n",
       " Text(53.05782857142857, 59.79599999999999, 'entropy = 0.0\\nsamples = 1\\nvalue = [1, 0]'),\n",
       " Text(61.22057142857143, 81.53999999999999, 'X[15] <= 0.5\\nentropy = 0.365\\nsamples = 43\\nvalue = [40, 3]'),\n",
       " Text(57.1392, 70.668, 'entropy = 0.0\\nsamples = 36\\nvalue = [36, 0]'),\n",
       " Text(65.30194285714286, 70.668, 'X[0] <= 6.25\\nentropy = 0.985\\nsamples = 7\\nvalue = [4, 3]'),\n",
       " Text(61.22057142857143, 59.79599999999999, 'entropy = 0.0\\nsamples = 1\\nvalue = [0, 1]'),\n",
       " Text(69.38331428571429, 59.79599999999999, 'X[0] <= 7.9\\nentropy = 0.918\\nsamples = 6\\nvalue = [4, 2]'),\n",
       " Text(65.30194285714286, 48.92400000000001, 'entropy = 0.0\\nsamples = 3\\nvalue = [3, 0]'),\n",
       " Text(73.46468571428572, 48.92400000000001, 'X[341] <= 0.5\\nentropy = 0.918\\nsamples = 3\\nvalue = [1, 2]'),\n",
       " Text(69.38331428571429, 38.05199999999999, 'entropy = 0.0\\nsamples = 2\\nvalue = [0, 2]'),\n",
       " Text(77.54605714285715, 38.05199999999999, 'entropy = 0.0\\nsamples = 1\\nvalue = [1, 0]'),\n",
       " Text(73.46468571428572, 92.412, 'X[25] <= 0.5\\nentropy = 1.0\\nsamples = 2\\nvalue = [1, 1]'),\n",
       " Text(69.38331428571429, 81.53999999999999, 'entropy = 0.0\\nsamples = 1\\nvalue = [1, 0]'),\n",
       " Text(77.54605714285715, 81.53999999999999, 'entropy = 0.0\\nsamples = 1\\nvalue = [0, 1]'),\n",
       " Text(85.70880000000001, 103.28399999999999, 'X[17] <= 0.5\\nentropy = 0.863\\nsamples = 7\\nvalue = [5, 2]'),\n",
       " Text(81.62742857142858, 92.412, 'entropy = 0.0\\nsamples = 3\\nvalue = [3, 0]'),\n",
       " Text(89.79017142857144, 92.412, 'X[40] <= 0.5\\nentropy = 1.0\\nsamples = 4\\nvalue = [2, 2]'),\n",
       " Text(85.70880000000001, 81.53999999999999, 'X[23] <= 0.5\\nentropy = 0.918\\nsamples = 3\\nvalue = [2, 1]'),\n",
       " Text(81.62742857142858, 70.668, 'X[0] <= 7.3\\nentropy = 1.0\\nsamples = 2\\nvalue = [1, 1]'),\n",
       " Text(77.54605714285715, 59.79599999999999, 'entropy = 0.0\\nsamples = 1\\nvalue = [0, 1]'),\n",
       " Text(85.70880000000001, 59.79599999999999, 'entropy = 0.0\\nsamples = 1\\nvalue = [1, 0]'),\n",
       " Text(89.79017142857144, 70.668, 'entropy = 0.0\\nsamples = 1\\nvalue = [1, 0]'),\n",
       " Text(93.87154285714287, 81.53999999999999, 'entropy = 0.0\\nsamples = 1\\nvalue = [0, 1]'),\n",
       " Text(81.75497142857144, 114.156, 'entropy = 0.0\\nsamples = 1\\nvalue = [0, 1]'),\n",
       " Text(85.83634285714287, 125.02799999999999, 'entropy = 0.0\\nsamples = 1\\nvalue = [0, 1]'),\n",
       " Text(89.9177142857143, 135.9, 'entropy = 0.0\\nsamples = 1\\nvalue = [0, 1]'),\n",
       " Text(93.99908571428573, 146.772, 'entropy = 0.0\\nsamples = 1\\nvalue = [0, 1]'),\n",
       " Text(98.08045714285716, 157.644, 'entropy = 0.0\\nsamples = 1\\nvalue = [0, 1]'),\n",
       " Text(110.32457142857143, 168.516, 'X[19] <= 0.5\\nentropy = 0.918\\nsamples = 3\\nvalue = [1, 2]'),\n",
       " Text(106.2432, 157.644, 'entropy = 0.0\\nsamples = 1\\nvalue = [1, 0]'),\n",
       " Text(114.40594285714286, 157.644, 'entropy = 0.0\\nsamples = 2\\nvalue = [0, 2]'),\n",
       " Text(134.8128, 179.388, 'X[0] <= 7.95\\nentropy = 0.755\\nsamples = 23\\nvalue = [18, 5]'),\n",
       " Text(126.65005714285715, 168.516, 'X[141] <= 0.5\\nentropy = 0.353\\nsamples = 15\\nvalue = [14, 1]'),\n",
       " Text(122.56868571428572, 157.644, 'entropy = 0.0\\nsamples = 14\\nvalue = [14, 0]'),\n",
       " Text(130.73142857142858, 157.644, 'entropy = 0.0\\nsamples = 1\\nvalue = [0, 1]'),\n",
       " Text(142.97554285714287, 168.516, 'X[20] <= 0.5\\nentropy = 1.0\\nsamples = 8\\nvalue = [4, 4]'),\n",
       " Text(138.89417142857144, 157.644, 'X[115] <= 0.5\\nentropy = 0.722\\nsamples = 5\\nvalue = [1, 4]'),\n",
       " Text(134.8128, 146.772, 'entropy = 0.0\\nsamples = 4\\nvalue = [0, 4]'),\n",
       " Text(142.97554285714287, 146.772, 'entropy = 0.0\\nsamples = 1\\nvalue = [1, 0]'),\n",
       " Text(147.0569142857143, 157.644, 'entropy = 0.0\\nsamples = 3\\nvalue = [3, 0]'),\n",
       " Text(126.65005714285715, 190.26, 'entropy = 0.0\\nsamples = 3\\nvalue = [0, 3]'),\n",
       " Text(284.61188571428573, 201.132, 'X[0] <= 9.25\\nentropy = 0.822\\nsamples = 327\\nvalue = [243, 84]'),\n",
       " Text(250.74925714285718, 190.26, 'X[35] <= 0.5\\nentropy = 0.756\\nsamples = 285\\nvalue = [223, 62]'),\n",
       " Text(219.75634285714287, 179.388, 'X[33] <= 0.5\\nentropy = 0.713\\nsamples = 271\\nvalue = [218, 53]'),\n",
       " Text(182.25874285714286, 168.516, 'X[0] <= 8.65\\nentropy = 0.627\\nsamples = 236\\nvalue = [199, 37]'),\n",
       " Text(155.21965714285716, 157.644, 'X[131] <= 0.5\\nentropy = 0.431\\nsamples = 136\\nvalue = [124, 12]'),\n",
       " Text(151.13828571428573, 146.772, 'X[161] <= 0.5\\nentropy = 0.407\\nsamples = 135\\nvalue = [124, 11]'),\n",
       " Text(147.0569142857143, 135.9, 'X[445] <= 0.5\\nentropy = 0.383\\nsamples = 134\\nvalue = [124, 10]'),\n",
       " Text(142.97554285714287, 125.02799999999999, 'X[378] <= 0.5\\nentropy = 0.357\\nsamples = 133\\nvalue = [124, 9]'),\n",
       " Text(138.89417142857144, 114.156, 'X[207] <= 0.5\\nentropy = 0.33\\nsamples = 132\\nvalue = [124, 8]'),\n",
       " Text(134.8128, 103.28399999999999, 'X[121] <= 0.5\\nentropy = 0.301\\nsamples = 131\\nvalue = [124, 7]'),\n",
       " Text(130.73142857142858, 92.412, 'X[21] <= 0.5\\nentropy = 0.27\\nsamples = 130\\nvalue = [124, 6]'),\n",
       " Text(122.56868571428572, 81.53999999999999, 'X[182] <= 0.5\\nentropy = 0.092\\nsamples = 85\\nvalue = [84, 1]'),\n",
       " Text(118.48731428571429, 70.668, 'entropy = 0.0\\nsamples = 83\\nvalue = [83, 0]'),\n",
       " Text(126.65005714285715, 70.668, 'entropy = 1.0\\nsamples = 2\\nvalue = [1, 1]'),\n",
       " Text(138.89417142857144, 81.53999999999999, 'X[304] <= 0.5\\nentropy = 0.503\\nsamples = 45\\nvalue = [40, 5]'),\n",
       " Text(134.8128, 70.668, 'X[98] <= 0.5\\nentropy = 0.439\\nsamples = 44\\nvalue = [40, 4]'),\n",
       " Text(126.65005714285715, 59.79599999999999, 'X[222] <= 0.5\\nentropy = 0.286\\nsamples = 40\\nvalue = [38, 2]'),\n",
       " Text(122.56868571428572, 48.92400000000001, 'X[432] <= 0.5\\nentropy = 0.176\\nsamples = 38\\nvalue = [37, 1]'),\n",
       " Text(118.48731428571429, 38.05199999999999, 'entropy = 0.0\\nsamples = 32\\nvalue = [32, 0]'),\n",
       " Text(126.65005714285715, 38.05199999999999, 'X[1] <= 0.5\\nentropy = 0.65\\nsamples = 6\\nvalue = [5, 1]'),\n",
       " Text(122.56868571428572, 27.180000000000007, 'entropy = 0.0\\nsamples = 4\\nvalue = [4, 0]'),\n",
       " Text(130.73142857142858, 27.180000000000007, 'X[42] <= 0.5\\nentropy = 1.0\\nsamples = 2\\nvalue = [1, 1]'),\n",
       " Text(126.65005714285715, 16.307999999999993, 'entropy = 0.0\\nsamples = 1\\nvalue = [0, 1]'),\n",
       " Text(134.8128, 16.307999999999993, 'entropy = 0.0\\nsamples = 1\\nvalue = [1, 0]'),\n",
       " Text(130.73142857142858, 48.92400000000001, 'entropy = 1.0\\nsamples = 2\\nvalue = [1, 1]'),\n",
       " Text(142.97554285714287, 59.79599999999999, 'X[0] <= 8.55\\nentropy = 1.0\\nsamples = 4\\nvalue = [2, 2]'),\n",
       " Text(138.89417142857144, 48.92400000000001, 'entropy = 0.0\\nsamples = 2\\nvalue = [2, 0]'),\n",
       " Text(147.0569142857143, 48.92400000000001, 'entropy = 0.0\\nsamples = 2\\nvalue = [0, 2]'),\n",
       " Text(142.97554285714287, 70.668, 'entropy = 0.0\\nsamples = 1\\nvalue = [0, 1]'),\n",
       " Text(138.89417142857144, 92.412, 'entropy = 0.0\\nsamples = 1\\nvalue = [0, 1]'),\n",
       " Text(142.97554285714287, 103.28399999999999, 'entropy = 0.0\\nsamples = 1\\nvalue = [0, 1]'),\n",
       " Text(147.0569142857143, 114.156, 'entropy = 0.0\\nsamples = 1\\nvalue = [0, 1]'),\n",
       " Text(151.13828571428573, 125.02799999999999, 'entropy = 0.0\\nsamples = 1\\nvalue = [0, 1]'),\n",
       " Text(155.21965714285716, 135.9, 'entropy = 0.0\\nsamples = 1\\nvalue = [0, 1]'),\n",
       " Text(159.3010285714286, 146.772, 'entropy = 0.0\\nsamples = 1\\nvalue = [0, 1]'),\n",
       " Text(209.2978285714286, 157.644, 'X[139] <= 0.5\\nentropy = 0.811\\nsamples = 100\\nvalue = [75, 25]'),\n",
       " Text(189.9113142857143, 146.772, 'X[21] <= 0.5\\nentropy = 0.751\\nsamples = 93\\nvalue = [73, 20]'),\n",
       " Text(171.54514285714288, 135.9, 'X[32] <= 0.5\\nentropy = 0.485\\nsamples = 57\\nvalue = [51, 6]'),\n",
       " Text(159.3010285714286, 125.02799999999999, 'X[42] <= 0.5\\nentropy = 0.332\\nsamples = 49\\nvalue = [46, 3]'),\n",
       " Text(155.21965714285716, 114.156, 'entropy = 0.0\\nsamples = 36\\nvalue = [36, 0]'),\n",
       " Text(163.38240000000002, 114.156, 'X[286] <= 0.5\\nentropy = 0.779\\nsamples = 13\\nvalue = [10, 3]'),\n",
       " Text(159.3010285714286, 103.28399999999999, 'X[427] <= 0.5\\nentropy = 0.65\\nsamples = 12\\nvalue = [10, 2]'),\n",
       " Text(155.21965714285716, 92.412, 'X[428] <= 0.5\\nentropy = 0.439\\nsamples = 11\\nvalue = [10, 1]'),\n",
       " Text(151.13828571428573, 81.53999999999999, 'entropy = 0.0\\nsamples = 10\\nvalue = [10, 0]'),\n",
       " Text(159.3010285714286, 81.53999999999999, 'entropy = 0.0\\nsamples = 1\\nvalue = [0, 1]'),\n",
       " Text(163.38240000000002, 92.412, 'entropy = 0.0\\nsamples = 1\\nvalue = [0, 1]'),\n",
       " Text(167.46377142857145, 103.28399999999999, 'entropy = 0.0\\nsamples = 1\\nvalue = [0, 1]'),\n",
       " Text(183.78925714285717, 125.02799999999999, 'X[10] <= 0.5\\nentropy = 0.954\\nsamples = 8\\nvalue = [5, 3]'),\n",
       " Text(179.70788571428574, 114.156, 'X[121] <= 0.5\\nentropy = 0.65\\nsamples = 6\\nvalue = [5, 1]'),\n",
       " Text(175.6265142857143, 103.28399999999999, 'entropy = 0.0\\nsamples = 5\\nvalue = [5, 0]'),\n",
       " Text(183.78925714285717, 103.28399999999999, 'entropy = 0.0\\nsamples = 1\\nvalue = [0, 1]'),\n",
       " Text(187.8706285714286, 114.156, 'entropy = 0.0\\nsamples = 2\\nvalue = [0, 2]'),\n",
       " Text(208.27748571428572, 135.9, 'X[3] <= 0.5\\nentropy = 0.964\\nsamples = 36\\nvalue = [22, 14]'),\n",
       " Text(204.1961142857143, 125.02799999999999, 'X[424] <= 0.5\\nentropy = 0.989\\nsamples = 32\\nvalue = [18, 14]'),\n",
       " Text(200.11474285714286, 114.156, 'X[432] <= 0.5\\nentropy = 0.971\\nsamples = 30\\nvalue = [18, 12]'),\n",
       " Text(191.95200000000003, 103.28399999999999, 'X[80] <= 0.5\\nentropy = 0.904\\nsamples = 25\\nvalue = [17, 8]'),\n",
       " Text(187.8706285714286, 92.412, 'X[13] <= 0.5\\nentropy = 0.828\\nsamples = 23\\nvalue = [17, 6]'),\n",
       " Text(183.78925714285717, 81.53999999999999, 'X[110] <= 0.5\\nentropy = 0.918\\nsamples = 18\\nvalue = [12, 6]'),\n",
       " Text(179.70788571428574, 70.668, 'X[141] <= 0.5\\nentropy = 0.874\\nsamples = 17\\nvalue = [12, 5]'),\n",
       " Text(175.6265142857143, 59.79599999999999, 'X[0] <= 9.05\\nentropy = 0.811\\nsamples = 16\\nvalue = [12, 4]'),\n",
       " Text(171.54514285714288, 48.92400000000001, 'X[96] <= 0.5\\nentropy = 0.722\\nsamples = 15\\nvalue = [12, 3]'),\n",
       " Text(167.46377142857145, 38.05199999999999, 'X[346] <= 0.5\\nentropy = 0.592\\nsamples = 14\\nvalue = [12, 2]'),\n",
       " Text(163.38240000000002, 27.180000000000007, 'X[220] <= 0.5\\nentropy = 0.391\\nsamples = 13\\nvalue = [12, 1]'),\n",
       " Text(159.3010285714286, 16.307999999999993, 'entropy = 0.0\\nsamples = 11\\nvalue = [11, 0]'),\n",
       " Text(167.46377142857145, 16.307999999999993, 'X[41] <= 0.5\\nentropy = 1.0\\nsamples = 2\\nvalue = [1, 1]'),\n",
       " Text(163.38240000000002, 5.436000000000007, 'entropy = 0.0\\nsamples = 1\\nvalue = [0, 1]'),\n",
       " Text(171.54514285714288, 5.436000000000007, 'entropy = 0.0\\nsamples = 1\\nvalue = [1, 0]'),\n",
       " Text(171.54514285714288, 27.180000000000007, 'entropy = 0.0\\nsamples = 1\\nvalue = [0, 1]'),\n",
       " Text(175.6265142857143, 38.05199999999999, 'entropy = 0.0\\nsamples = 1\\nvalue = [0, 1]'),\n",
       " Text(179.70788571428574, 48.92400000000001, 'entropy = 0.0\\nsamples = 1\\nvalue = [0, 1]'),\n",
       " Text(183.78925714285717, 59.79599999999999, 'entropy = 0.0\\nsamples = 1\\nvalue = [0, 1]'),\n",
       " Text(187.8706285714286, 70.668, 'entropy = 0.0\\nsamples = 1\\nvalue = [0, 1]'),\n",
       " Text(191.95200000000003, 81.53999999999999, 'entropy = 0.0\\nsamples = 5\\nvalue = [5, 0]'),\n",
       " Text(196.03337142857146, 92.412, 'entropy = 0.0\\nsamples = 2\\nvalue = [0, 2]'),\n",
       " Text(208.27748571428572, 103.28399999999999, 'X[0] <= 8.95\\nentropy = 0.722\\nsamples = 5\\nvalue = [1, 4]'),\n",
       " Text(204.1961142857143, 92.412, 'entropy = 0.0\\nsamples = 2\\nvalue = [0, 2]'),\n",
       " Text(212.35885714285715, 92.412, 'X[34] <= 0.5\\nentropy = 0.918\\nsamples = 3\\nvalue = [1, 2]'),\n",
       " Text(208.27748571428572, 81.53999999999999, 'entropy = 0.0\\nsamples = 2\\nvalue = [0, 2]'),\n",
       " Text(216.44022857142858, 81.53999999999999, 'entropy = 0.0\\nsamples = 1\\nvalue = [1, 0]'),\n",
       " Text(208.27748571428572, 114.156, 'entropy = 0.0\\nsamples = 2\\nvalue = [0, 2]'),\n",
       " Text(212.35885714285715, 125.02799999999999, 'entropy = 0.0\\nsamples = 4\\nvalue = [4, 0]'),\n",
       " Text(228.68434285714287, 146.772, 'X[0] <= 9.1\\nentropy = 0.863\\nsamples = 7\\nvalue = [2, 5]'),\n",
       " Text(224.60297142857144, 135.9, 'X[42] <= 0.5\\nentropy = 0.971\\nsamples = 5\\nvalue = [2, 3]'),\n",
       " Text(220.5216, 125.02799999999999, 'X[0] <= 8.85\\nentropy = 0.918\\nsamples = 3\\nvalue = [1, 2]'),\n",
       " Text(216.44022857142858, 114.156, 'entropy = 0.0\\nsamples = 1\\nvalue = [0, 1]'),\n",
       " Text(224.60297142857144, 114.156, 'entropy = 1.0\\nsamples = 2\\nvalue = [1, 1]'),\n",
       " Text(228.68434285714287, 125.02799999999999, 'entropy = 1.0\\nsamples = 2\\nvalue = [1, 1]'),\n",
       " Text(232.7657142857143, 135.9, 'entropy = 0.0\\nsamples = 2\\nvalue = [0, 2]'),\n",
       " Text(257.2539428571429, 168.516, 'X[13] <= 0.5\\nentropy = 0.995\\nsamples = 35\\nvalue = [19, 16]'),\n",
       " Text(253.17257142857144, 157.644, 'X[243] <= 0.5\\nentropy = 0.985\\nsamples = 28\\nvalue = [12, 16]'),\n",
       " Text(249.09120000000001, 146.772, 'X[222] <= 0.5\\nentropy = 0.961\\nsamples = 26\\nvalue = [10, 16]'),\n",
       " Text(245.00982857142859, 135.9, 'X[3] <= 0.5\\nentropy = 0.918\\nsamples = 24\\nvalue = [8, 16]'),\n",
       " Text(240.92845714285716, 125.02799999999999, 'X[213] <= 0.5\\nentropy = 0.887\\nsamples = 23\\nvalue = [7, 16]'),\n",
       " Text(236.84708571428573, 114.156, 'X[146] <= 0.5\\nentropy = 0.845\\nsamples = 22\\nvalue = [6, 16]'),\n",
       " Text(232.7657142857143, 103.28399999999999, 'X[11] <= 0.5\\nentropy = 0.792\\nsamples = 21\\nvalue = [5, 16]'),\n",
       " Text(228.68434285714287, 92.412, 'X[210] <= 0.5\\nentropy = 0.722\\nsamples = 20\\nvalue = [4, 16]'),\n",
       " Text(224.60297142857144, 81.53999999999999, 'X[422] <= 0.5\\nentropy = 0.629\\nsamples = 19\\nvalue = [3, 16]'),\n",
       " Text(220.5216, 70.668, 'X[0] <= 9.15\\nentropy = 0.503\\nsamples = 18\\nvalue = [2, 16]'),\n",
       " Text(216.44022857142858, 59.79599999999999, 'X[98] <= 0.5\\nentropy = 0.323\\nsamples = 17\\nvalue = [1, 16]'),\n",
       " Text(212.35885714285715, 48.92400000000001, 'entropy = 0.0\\nsamples = 16\\nvalue = [0, 16]'),\n",
       " Text(220.5216, 48.92400000000001, 'entropy = 0.0\\nsamples = 1\\nvalue = [1, 0]'),\n",
       " Text(224.60297142857144, 59.79599999999999, 'entropy = 0.0\\nsamples = 1\\nvalue = [1, 0]'),\n",
       " Text(228.68434285714287, 70.668, 'entropy = 0.0\\nsamples = 1\\nvalue = [1, 0]'),\n",
       " Text(232.7657142857143, 81.53999999999999, 'entropy = 0.0\\nsamples = 1\\nvalue = [1, 0]'),\n",
       " Text(236.84708571428573, 92.412, 'entropy = 0.0\\nsamples = 1\\nvalue = [1, 0]'),\n",
       " Text(240.92845714285716, 103.28399999999999, 'entropy = 0.0\\nsamples = 1\\nvalue = [1, 0]'),\n",
       " Text(245.00982857142859, 114.156, 'entropy = 0.0\\nsamples = 1\\nvalue = [1, 0]'),\n",
       " Text(249.09120000000001, 125.02799999999999, 'entropy = 0.0\\nsamples = 1\\nvalue = [1, 0]'),\n",
       " Text(253.17257142857144, 135.9, 'entropy = 0.0\\nsamples = 2\\nvalue = [2, 0]'),\n",
       " Text(257.2539428571429, 146.772, 'entropy = 0.0\\nsamples = 2\\nvalue = [2, 0]'),\n",
       " Text(261.33531428571433, 157.644, 'entropy = 0.0\\nsamples = 7\\nvalue = [7, 0]'),\n",
       " Text(281.74217142857145, 179.388, 'X[19] <= 0.5\\nentropy = 0.94\\nsamples = 14\\nvalue = [5, 9]'),\n",
       " Text(277.6608, 168.516, 'X[15] <= 0.5\\nentropy = 0.994\\nsamples = 11\\nvalue = [5, 6]'),\n",
       " Text(269.49805714285714, 157.644, 'X[0] <= 8.55\\nentropy = 0.918\\nsamples = 6\\nvalue = [4, 2]'),\n",
       " Text(265.41668571428573, 146.772, 'entropy = 0.0\\nsamples = 4\\nvalue = [4, 0]'),\n",
       " Text(273.5794285714286, 146.772, 'entropy = 0.0\\nsamples = 2\\nvalue = [0, 2]'),\n",
       " Text(285.82354285714285, 157.644, 'X[0] <= 8.9\\nentropy = 0.722\\nsamples = 5\\nvalue = [1, 4]'),\n",
       " Text(281.74217142857145, 146.772, 'entropy = 0.0\\nsamples = 4\\nvalue = [0, 4]'),\n",
       " Text(289.9049142857143, 146.772, 'entropy = 0.0\\nsamples = 1\\nvalue = [1, 0]'),\n",
       " Text(285.82354285714285, 168.516, 'entropy = 0.0\\nsamples = 3\\nvalue = [0, 3]'),\n",
       " Text(318.4745142857143, 190.26, 'X[1] <= 0.5\\nentropy = 0.998\\nsamples = 42\\nvalue = [20, 22]'),\n",
       " Text(310.31177142857143, 179.388, 'X[17] <= 0.5\\nentropy = 0.967\\nsamples = 28\\nvalue = [17, 11]'),\n",
       " Text(306.23040000000003, 168.516, 'X[220] <= 0.5\\nentropy = 0.904\\nsamples = 25\\nvalue = [17, 8]'),\n",
       " Text(302.1490285714286, 157.644, 'X[262] <= 0.5\\nentropy = 0.773\\nsamples = 22\\nvalue = [17, 5]'),\n",
       " Text(298.0676571428572, 146.772, 'X[80] <= 0.5\\nentropy = 0.702\\nsamples = 21\\nvalue = [17, 4]'),\n",
       " Text(293.9862857142857, 135.9, 'X[5] <= 0.5\\nentropy = 0.61\\nsamples = 20\\nvalue = [17, 3]'),\n",
       " Text(289.9049142857143, 125.02799999999999, 'X[345] <= 0.5\\nentropy = 0.485\\nsamples = 19\\nvalue = [17, 2]'),\n",
       " Text(285.82354285714285, 114.156, 'X[96] <= 0.5\\nentropy = 0.31\\nsamples = 18\\nvalue = [17, 1]'),\n",
       " Text(281.74217142857145, 103.28399999999999, 'entropy = 0.0\\nsamples = 17\\nvalue = [17, 0]'),\n",
       " Text(289.9049142857143, 103.28399999999999, 'entropy = 0.0\\nsamples = 1\\nvalue = [0, 1]'),\n",
       " Text(293.9862857142857, 114.156, 'entropy = 0.0\\nsamples = 1\\nvalue = [0, 1]'),\n",
       " Text(298.0676571428572, 125.02799999999999, 'entropy = 0.0\\nsamples = 1\\nvalue = [0, 1]'),\n",
       " Text(302.1490285714286, 135.9, 'entropy = 0.0\\nsamples = 1\\nvalue = [0, 1]'),\n",
       " Text(306.23040000000003, 146.772, 'entropy = 0.0\\nsamples = 1\\nvalue = [0, 1]'),\n",
       " Text(310.31177142857143, 157.644, 'entropy = 0.0\\nsamples = 3\\nvalue = [0, 3]'),\n",
       " Text(314.3931428571429, 168.516, 'entropy = 0.0\\nsamples = 3\\nvalue = [0, 3]'),\n",
       " Text(326.63725714285715, 179.388, 'X[34] <= 0.5\\nentropy = 0.75\\nsamples = 14\\nvalue = [3, 11]'),\n",
       " Text(322.55588571428575, 168.516, 'X[35] <= 0.5\\nentropy = 0.954\\nsamples = 8\\nvalue = [3, 5]'),\n",
       " Text(318.4745142857143, 157.644, 'X[0] <= 9.45\\nentropy = 1.0\\nsamples = 6\\nvalue = [3, 3]'),\n",
       " Text(314.3931428571429, 146.772, 'entropy = 0.0\\nsamples = 2\\nvalue = [2, 0]'),\n",
       " Text(322.55588571428575, 146.772, 'X[317] <= 0.5\\nentropy = 0.811\\nsamples = 4\\nvalue = [1, 3]'),\n",
       " Text(318.4745142857143, 135.9, 'entropy = 0.0\\nsamples = 3\\nvalue = [0, 3]'),\n",
       " Text(326.63725714285715, 135.9, 'entropy = 0.0\\nsamples = 1\\nvalue = [1, 0]'),\n",
       " Text(326.63725714285715, 157.644, 'entropy = 0.0\\nsamples = 2\\nvalue = [0, 2]'),\n",
       " Text(330.7186285714286, 168.516, 'entropy = 0.0\\nsamples = 6\\nvalue = [0, 6]')]"
      ]
     },
     "execution_count": 64,
     "metadata": {},
     "output_type": "execute_result"
    },
    {
     "data": {
      "image/png": "[encoded data removed]",
      "text/plain": [
       "<Figure size 432x288 with 1 Axes>"
      ]
     },
     "metadata": {
      "needs_background": "light"
     },
     "output_type": "display_data"
    }
   ],
   "source": [
    "clf_e = tree.DecisionTreeClassifier(criterion=\"entropy\")\n",
    "clf_e = clf_e.fit(X_train, y_train)\n",
    "y_pred = clf_e.predict(X_test)\n",
    "tree.plot_tree(clf_e)"
   ]
  },
  {
   "cell_type": "code",
   "execution_count": 65,
   "metadata": {},
   "outputs": [],
   "source": [
    "deci_tree_entr_accuracy = metrics.accuracy_score(y_test, y_pred)"
   ]
  },
  {
   "cell_type": "code",
   "execution_count": 66,
   "metadata": {},
   "outputs": [
    {
     "name": "stdout",
     "output_type": "stream",
     "text": [
      "Accuracy:  91.28205128205128 %\n"
     ]
    }
   ],
   "source": [
    "print ((\"Accuracy: \"), deci_tree_entr_accuracy*100, \"%\" )"
   ]
  },
  {
   "cell_type": "code",
   "execution_count": 67,
   "metadata": {},
   "outputs": [],
   "source": [
    "confuse = confusion_matrix(y_test,y_pred)"
   ]
  },
  {
   "cell_type": "code",
   "execution_count": 68,
   "metadata": {},
   "outputs": [
    {
     "data": {
      "text/plain": [
       "array([[329,  12],\n",
       "       [ 22,  27]], dtype=int64)"
      ]
     },
     "execution_count": 68,
     "metadata": {},
     "output_type": "execute_result"
    }
   ],
   "source": [
    "confuse"
   ]
  },
  {
   "cell_type": "code",
   "execution_count": 69,
   "metadata": {},
   "outputs": [
    {
     "data": {
      "image/png": "[encoded data removed]",
      "text/plain": [
       "<Figure size 648x648 with 2 Axes>"
      ]
     },
     "metadata": {
      "needs_background": "light"
     },
     "output_type": "display_data"
    }
   ],
   "source": [
    "plt.figure(figsize=(9,9))\n",
    "sns.heatmap(confuse, annot=True, fmt=\".3f\", linewidths=.5, square = True, cmap = 'RdBu_r',annot_kws={\"size\":14})\n",
    "plt.ylabel('Actual label');\n",
    "plt.xlabel('Predicted label');\n",
    "all_sample_title = 'Accuracy Score: {0}'.format(deci_tree_entr_accuracy)\n",
    "plt.title(all_sample_title, size = 15);"
   ]
  },
  {
   "cell_type": "markdown",
   "metadata": {},
   "source": [
    "## Those were really hard to see so let's take the first few levels of each"
   ]
  },
  {
   "cell_type": "markdown",
   "metadata": {},
   "source": [
    "## Gini pt.2"
   ]
  },
  {
   "cell_type": "code",
   "execution_count": 70,
   "metadata": {},
   "outputs": [
    {
     "data": {
      "text/plain": [
       "[Text(153.45000000000002, 190.26, 'X[0] <= 8.55\\ngini = 0.211\\nsamples = 910\\nvalue = [801, 109]'),\n",
       " Text(83.7, 135.9, 'X[220] <= 0.5\\ngini = 0.122\\nsamples = 722\\nvalue = [675, 47]'),\n",
       " Text(55.800000000000004, 81.53999999999999, 'X[378] <= 0.5\\ngini = 0.115\\nsamples = 719\\nvalue = [675, 44]'),\n",
       " Text(27.900000000000002, 27.180000000000007, 'gini = 0.108\\nsamples = 716\\nvalue = [675, 41]'),\n",
       " Text(83.7, 27.180000000000007, 'gini = 0.0\\nsamples = 3\\nvalue = [0, 3]'),\n",
       " Text(111.60000000000001, 81.53999999999999, 'gini = 0.0\\nsamples = 3\\nvalue = [0, 3]'),\n",
       " Text(223.20000000000002, 135.9, 'X[1] <= 0.5\\ngini = 0.442\\nsamples = 188\\nvalue = [126, 62]'),\n",
       " Text(167.4, 81.53999999999999, 'X[80] <= 0.5\\ngini = 0.395\\nsamples = 155\\nvalue = [113, 42]'),\n",
       " Text(139.5, 27.180000000000007, 'gini = 0.377\\nsamples = 151\\nvalue = [113, 38]'),\n",
       " Text(195.3, 27.180000000000007, 'gini = 0.0\\nsamples = 4\\nvalue = [0, 4]'),\n",
       " Text(279.0, 81.53999999999999, 'X[317] <= 0.5\\ngini = 0.478\\nsamples = 33\\nvalue = [13, 20]'),\n",
       " Text(251.10000000000002, 27.180000000000007, 'gini = 0.428\\nsamples = 29\\nvalue = [9, 20]'),\n",
       " Text(306.90000000000003, 27.180000000000007, 'gini = 0.0\\nsamples = 4\\nvalue = [4, 0]')]"
      ]
     },
     "execution_count": 70,
     "metadata": {},
     "output_type": "execute_result"
    },
    {
     "data": {
      "image/png": "[encoded data removed]",
      "text/plain": [
       "<Figure size 432x288 with 1 Axes>"
      ]
     },
     "metadata": {
      "needs_background": "light"
     },
     "output_type": "display_data"
    }
   ],
   "source": [
    "clf_g_cond = tree.DecisionTreeClassifier(criterion=\"gini\", max_depth=3)\n",
    "clf_g_cond = clf_g_cond.fit(X_train, y_train)\n",
    "y_pred = clf_g_cond.predict(X_test)\n",
    "tree.plot_tree(clf_g_cond)"
   ]
  },
  {
   "cell_type": "markdown",
   "metadata": {},
   "source": [
    "## Entropy pt.2"
   ]
  },
  {
   "cell_type": "code",
   "execution_count": 71,
   "metadata": {},
   "outputs": [
    {
     "data": {
      "text/plain": [
       "[Text(153.45000000000002, 190.26, 'X[0] <= 8.15\\nentropy = 0.529\\nsamples = 910\\nvalue = [801, 109]'),\n",
       " Text(83.7, 135.9, 'X[220] <= 0.5\\nentropy = 0.255\\nsamples = 583\\nvalue = [558, 25]'),\n",
       " Text(55.800000000000004, 81.53999999999999, 'X[35] <= 0.5\\nentropy = 0.233\\nsamples = 580\\nvalue = [558, 22]'),\n",
       " Text(27.900000000000002, 27.180000000000007, 'entropy = 0.197\\nsamples = 557\\nvalue = [540, 17]'),\n",
       " Text(83.7, 27.180000000000007, 'entropy = 0.755\\nsamples = 23\\nvalue = [18, 5]'),\n",
       " Text(111.60000000000001, 81.53999999999999, 'entropy = 0.0\\nsamples = 3\\nvalue = [0, 3]'),\n",
       " Text(223.20000000000002, 135.9, 'X[0] <= 9.25\\nentropy = 0.822\\nsamples = 327\\nvalue = [243, 84]'),\n",
       " Text(167.4, 81.53999999999999, 'X[35] <= 0.5\\nentropy = 0.756\\nsamples = 285\\nvalue = [223, 62]'),\n",
       " Text(139.5, 27.180000000000007, 'entropy = 0.713\\nsamples = 271\\nvalue = [218, 53]'),\n",
       " Text(195.3, 27.180000000000007, 'entropy = 0.94\\nsamples = 14\\nvalue = [5, 9]'),\n",
       " Text(279.0, 81.53999999999999, 'X[1] <= 0.5\\nentropy = 0.998\\nsamples = 42\\nvalue = [20, 22]'),\n",
       " Text(251.10000000000002, 27.180000000000007, 'entropy = 0.967\\nsamples = 28\\nvalue = [17, 11]'),\n",
       " Text(306.90000000000003, 27.180000000000007, 'entropy = 0.75\\nsamples = 14\\nvalue = [3, 11]')]"
      ]
     },
     "execution_count": 71,
     "metadata": {},
     "output_type": "execute_result"
    },
    {
     "data": {
      "image/png": "[encoded data removed]",
      "text/plain": [
       "<Figure size 432x288 with 1 Axes>"
      ]
     },
     "metadata": {
      "needs_background": "light"
     },
     "output_type": "display_data"
    }
   ],
   "source": [
    "clf_e_cond = tree.DecisionTreeClassifier(criterion=\"entropy\", max_depth=3)\n",
    "clf_e_cond = clf_e_cond.fit(X_train, y_train)\n",
    "y_pred = clf_e_cond.predict(X_test)\n",
    "tree.plot_tree(clf_e_cond)"
   ]
  },
  {
   "cell_type": "markdown",
   "metadata": {},
   "source": [
    "# KNN"
   ]
  },
  {
   "cell_type": "code",
   "execution_count": 72,
   "metadata": {},
   "outputs": [],
   "source": [
    "#using columns that could determine if a game is a hit or not\n",
    "X=df[['Genre', 'ESRB_Rating', 'Platform', 'Developer', 'Critic_Score']]\n",
    "#getting our target class\n",
    "y=df['Hit Game']\n",
    "#get_dummies to convert categorical variables into indicator values\n",
    "X = pd.get_dummies(X)"
   ]
  },
  {
   "cell_type": "code",
   "execution_count": 73,
   "metadata": {},
   "outputs": [],
   "source": [
    "X_train, X_test, y_train, y_test = train_test_split(X, y, test_size=0.30)"
   ]
  },
  {
   "cell_type": "code",
   "execution_count": 74,
   "metadata": {},
   "outputs": [],
   "source": [
    "cv_scores = []"
   ]
  },
  {
   "cell_type": "code",
   "execution_count": 75,
   "metadata": {},
   "outputs": [],
   "source": [
    "for i in range(1,31):\n",
    "    knn = KNeighborsClassifier(n_neighbors=i)\n",
    "    scores = cross_val_score(knn, X_train, y_train, cv=5)\n",
    "    cv_scores.append(scores.mean())"
   ]
  },
  {
   "cell_type": "code",
   "execution_count": 76,
   "metadata": {},
   "outputs": [
    {
     "data": {
      "image/png": "[encoded data removed]",
      "text/plain": [
       "<Figure size 720x432 with 1 Axes>"
      ]
     },
     "metadata": {
      "needs_background": "light"
     },
     "output_type": "display_data"
    }
   ],
   "source": [
    "plt.figure(figsize=(10,6))\n",
    "plt.plot(range(1,31),cv_scores,color='blue', linestyle='dashed', marker='o',\n",
    "         markerfacecolor='red', markersize=10)\n",
    "plt.title('Accuracy vs. K Value')\n",
    "plt.xlabel('K')\n",
    "plt.ylabel('Accuracy');"
   ]
  },
  {
   "cell_type": "code",
   "execution_count": 77,
   "metadata": {},
   "outputs": [],
   "source": [
    "k_star = np.argmax(cv_scores)"
   ]
  },
  {
   "cell_type": "code",
   "execution_count": 78,
   "metadata": {
    "scrolled": true
   },
   "outputs": [
    {
     "name": "stdout",
     "output_type": "stream",
     "text": [
      "1\n"
     ]
    }
   ],
   "source": [
    "print(k_star)"
   ]
  },
  {
   "cell_type": "code",
   "execution_count": 79,
   "metadata": {},
   "outputs": [],
   "source": [
    "knn_accuracy = 0"
   ]
  },
  {
   "cell_type": "code",
   "execution_count": 80,
   "metadata": {},
   "outputs": [],
   "source": [
    "knn = KNeighborsClassifier(n_neighbors=k_star)"
   ]
  },
  {
   "cell_type": "code",
   "execution_count": 81,
   "metadata": {},
   "outputs": [],
   "source": [
    "scores = cross_val_score(knn, X_train, y_train, cv=5)\n",
    "knn_accuracy = scores.mean()"
   ]
  },
  {
   "cell_type": "code",
   "execution_count": 82,
   "metadata": {
    "scrolled": true
   },
   "outputs": [
    {
     "name": "stdout",
     "output_type": "stream",
     "text": [
      "Accuracy:  87.36263736263737 %\n"
     ]
    }
   ],
   "source": [
    "print ((\"Accuracy: \"), knn_accuracy*100, \"%\" )"
   ]
  },
  {
   "cell_type": "code",
   "execution_count": 83,
   "metadata": {},
   "outputs": [
    {
     "data": {
      "text/plain": [
       "KNeighborsClassifier(algorithm='auto', leaf_size=30, metric='minkowski',\n",
       "                     metric_params=None, n_jobs=None, n_neighbors=1, p=2,\n",
       "                     weights='uniform')"
      ]
     },
     "execution_count": 83,
     "metadata": {},
     "output_type": "execute_result"
    }
   ],
   "source": [
    "knn.fit(X_train,y_train)"
   ]
  },
  {
   "cell_type": "code",
   "execution_count": 84,
   "metadata": {},
   "outputs": [],
   "source": [
    "y_pred = knn.predict(X_test)"
   ]
  },
  {
   "cell_type": "code",
   "execution_count": 85,
   "metadata": {},
   "outputs": [],
   "source": [
    "confuse = confusion_matrix(y_test,y_pred)"
   ]
  },
  {
   "cell_type": "code",
   "execution_count": 86,
   "metadata": {},
   "outputs": [
    {
     "data": {
      "text/plain": [
       "array([[325,  17],\n",
       "       [ 20,  28]], dtype=int64)"
      ]
     },
     "execution_count": 86,
     "metadata": {},
     "output_type": "execute_result"
    }
   ],
   "source": [
    "confuse"
   ]
  },
  {
   "cell_type": "code",
   "execution_count": 87,
   "metadata": {},
   "outputs": [
    {
     "data": {
      "image/png": "[encoded data removed]",
      "text/plain": [
       "<Figure size 648x648 with 2 Axes>"
      ]
     },
     "metadata": {
      "needs_background": "light"
     },
     "output_type": "display_data"
    }
   ],
   "source": [
    "plt.figure(figsize=(9,9))\n",
    "sns.heatmap(confuse, annot=True, fmt=\".3f\", linewidths=.5, square = True, cmap = 'RdBu_r',annot_kws={\"size\":14})\n",
    "plt.ylabel('Actual label');\n",
    "plt.xlabel('Predicted label');\n",
    "all_sample_title = 'Accuracy Score: {0}'.format(deci_tree_entr_accuracy)\n",
    "plt.title(all_sample_title, size = 15);"
   ]
  },
  {
   "cell_type": "markdown",
   "metadata": {},
   "source": [
    "# Comparing Accuracies"
   ]
  },
  {
   "cell_type": "code",
   "execution_count": 97,
   "metadata": {
    "scrolled": true
   },
   "outputs": [
    {
     "data": {
      "image/png": "[encoded data removed]",
      "text/plain": [
       "<Figure size 432x288 with 1 Axes>"
      ]
     },
     "metadata": {
      "needs_background": "light"
     },
     "output_type": "display_data"
    }
   ],
   "source": [
    "labels = ('Linear Regression', 'Logistic Regression', 'Random Forests', 'Decision Tree - Gini', 'Decision Tree - Entropy', 'KNN')\n",
    "values = [lin_accuracy, log_accuracy, random_accuracy, deci_tree_gini_accuracy, deci_tree_entr_accuracy, knn_accuracy]\n",
    "y_pos = np.arange(len(labels))\n",
    "\n",
    "plt.bar(y_pos, values, color=[\"red\", \"blue\", \"green\", \"orange\", \"grey\", \"purple\"])\n",
    "plt.title(\"Comparison of Accuracies\")\n",
    "plt.ylabel(\"Accuracy Score\")\n",
    "plt.xlabel(\"Algorithms\")\n",
    "plt.xticks(y_pos, labels, rotation=60)\n",
    "plt.tight_layout()\n",
    "plt.savefig(\"compare\", dpi = 600)\n",
    "plt.show()\n"
   ]
  },
  {
   "cell_type": "code",
   "execution_count": null,
   "metadata": {},
   "outputs": [],
   "source": []
  }
 ],
 "metadata": {
  "kernelspec": {
   "display_name": "Python 3",
   "language": "python",
   "name": "python3"
  },
  "language_info": {
   "codemirror_mode": {
    "name": "ipython",
    "version": 3
   },
   "file_extension": ".py",
   "mimetype": "text/x-python",
   "name": "python",
   "nbconvert_exporter": "python",
   "pygments_lexer": "ipython3",
   "version": "3.7.7"
  }
 },
 "nbformat": 4,
 "nbformat_minor": 4
}
